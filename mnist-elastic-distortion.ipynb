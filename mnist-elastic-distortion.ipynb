{
 "cells": [
  {
   "cell_type": "markdown",
   "id": "4af61b12",
   "metadata": {
    "papermill": {
     "duration": 0.008893,
     "end_time": "2023-10-27T14:38:50.539598",
     "exception": false,
     "start_time": "2023-10-27T14:38:50.530705",
     "status": "completed"
    },
    "tags": []
   },
   "source": [
    "# MNIST Digit Recognition with higher accuracy using Elastic Distortion"
   ]
  },
  {
   "cell_type": "markdown",
   "id": "c48985df",
   "metadata": {
    "papermill": {
     "duration": 0.007881,
     "end_time": "2023-10-27T14:38:50.555863",
     "exception": false,
     "start_time": "2023-10-27T14:38:50.547982",
     "status": "completed"
    },
    "tags": []
   },
   "source": [
    "## Imports"
   ]
  },
  {
   "cell_type": "code",
   "execution_count": 1,
   "id": "32db1c3f",
   "metadata": {
    "execution": {
     "iopub.execute_input": "2023-10-27T14:38:50.573385Z",
     "iopub.status.busy": "2023-10-27T14:38:50.573043Z",
     "iopub.status.idle": "2023-10-27T14:39:02.848517Z",
     "shell.execute_reply": "2023-10-27T14:39:02.847591Z"
    },
    "papermill": {
     "duration": 12.286888,
     "end_time": "2023-10-27T14:39:02.850701",
     "exception": false,
     "start_time": "2023-10-27T14:38:50.563813",
     "status": "completed"
    },
    "tags": []
   },
   "outputs": [
    {
     "name": "stderr",
     "output_type": "stream",
     "text": [
      "/opt/conda/lib/python3.10/site-packages/scipy/__init__.py:146: UserWarning: A NumPy version >=1.16.5 and <1.23.0 is required for this version of SciPy (detected version 1.23.5\n",
      "  warnings.warn(f\"A NumPy version >={np_minversion} and <{np_maxversion}\"\n"
     ]
    },
    {
     "data": {
      "text/plain": [
       "device(type='cuda')"
      ]
     },
     "execution_count": 1,
     "metadata": {},
     "output_type": "execute_result"
    }
   ],
   "source": [
    "import time\n",
    "import os\n",
    "\n",
    "import numpy as np\n",
    "import pandas as pd\n",
    "import matplotlib.pyplot as plt\n",
    "import seaborn as sns\n",
    "\n",
    "import torch\n",
    "import torch.nn as nn\n",
    "import torch.nn.functional as F\n",
    "\n",
    "import torch.optim as optim\n",
    "from torch.optim import lr_scheduler\n",
    "from torch.utils.data import Dataset, DataLoader, TensorDataset\n",
    "\n",
    "import torchvision\n",
    "from torchvision import transforms\n",
    "from torchvision import datasets, models, transforms\n",
    "\n",
    "from torch.utils.tensorboard import SummaryWriter\n",
    "\n",
    "from PIL import Image\n",
    "from tempfile import TemporaryDirectory\n",
    "\n",
    "writer = SummaryWriter('/kaggle/working/logs')\n",
    "# %load_ext tensorboard.notebook\n",
    "# %tensorboard --logdir /kaggle/working/logs\n",
    "\n",
    "device = torch.device('cuda')\n",
    "device"
   ]
  },
  {
   "cell_type": "code",
   "execution_count": 2,
   "id": "3b918148",
   "metadata": {
    "execution": {
     "iopub.execute_input": "2023-10-27T14:39:02.869221Z",
     "iopub.status.busy": "2023-10-27T14:39:02.868665Z",
     "iopub.status.idle": "2023-10-27T14:39:08.616243Z",
     "shell.execute_reply": "2023-10-27T14:39:08.615123Z"
    },
    "papermill": {
     "duration": 5.759317,
     "end_time": "2023-10-27T14:39:08.618623",
     "exception": false,
     "start_time": "2023-10-27T14:39:02.859306",
     "status": "completed"
    },
    "tags": []
   },
   "outputs": [
    {
     "name": "stdout",
     "output_type": "stream",
     "text": [
      "<class 'pandas.core.frame.DataFrame'>\n",
      "RangeIndex: 42000 entries, 0 to 41999\n",
      "Columns: 785 entries, label to pixel783\n",
      "dtypes: int64(785)\n",
      "memory usage: 251.5 MB\n"
     ]
    }
   ],
   "source": [
    "# PATH_TO_DATA = 'Datasets/'\n",
    "PATH_TO_DATA = '/kaggle/input/digit-recognizer/'\n",
    "train_data = pd.read_csv(os.path.join(PATH_TO_DATA, 'train.csv'))\n",
    "test_data = pd.read_csv(os.path.join(PATH_TO_DATA, 'test.csv'))\n",
    "\n",
    "train_data.info()"
   ]
  },
  {
   "cell_type": "code",
   "execution_count": 3,
   "id": "6fdbe74e",
   "metadata": {
    "execution": {
     "iopub.execute_input": "2023-10-27T14:39:08.638124Z",
     "iopub.status.busy": "2023-10-27T14:39:08.637412Z",
     "iopub.status.idle": "2023-10-27T14:39:08.656181Z",
     "shell.execute_reply": "2023-10-27T14:39:08.655281Z"
    },
    "papermill": {
     "duration": 0.030496,
     "end_time": "2023-10-27T14:39:08.658079",
     "exception": false,
     "start_time": "2023-10-27T14:39:08.627583",
     "status": "completed"
    },
    "tags": []
   },
   "outputs": [
    {
     "data": {
      "text/html": [
       "<div>\n",
       "<style scoped>\n",
       "    .dataframe tbody tr th:only-of-type {\n",
       "        vertical-align: middle;\n",
       "    }\n",
       "\n",
       "    .dataframe tbody tr th {\n",
       "        vertical-align: top;\n",
       "    }\n",
       "\n",
       "    .dataframe thead th {\n",
       "        text-align: right;\n",
       "    }\n",
       "</style>\n",
       "<table border=\"1\" class=\"dataframe\">\n",
       "  <thead>\n",
       "    <tr style=\"text-align: right;\">\n",
       "      <th></th>\n",
       "      <th>label</th>\n",
       "      <th>pixel0</th>\n",
       "      <th>pixel1</th>\n",
       "      <th>pixel2</th>\n",
       "      <th>pixel3</th>\n",
       "      <th>pixel4</th>\n",
       "      <th>pixel5</th>\n",
       "      <th>pixel6</th>\n",
       "      <th>pixel7</th>\n",
       "      <th>pixel8</th>\n",
       "      <th>...</th>\n",
       "      <th>pixel774</th>\n",
       "      <th>pixel775</th>\n",
       "      <th>pixel776</th>\n",
       "      <th>pixel777</th>\n",
       "      <th>pixel778</th>\n",
       "      <th>pixel779</th>\n",
       "      <th>pixel780</th>\n",
       "      <th>pixel781</th>\n",
       "      <th>pixel782</th>\n",
       "      <th>pixel783</th>\n",
       "    </tr>\n",
       "  </thead>\n",
       "  <tbody>\n",
       "    <tr>\n",
       "      <th>0</th>\n",
       "      <td>1</td>\n",
       "      <td>0</td>\n",
       "      <td>0</td>\n",
       "      <td>0</td>\n",
       "      <td>0</td>\n",
       "      <td>0</td>\n",
       "      <td>0</td>\n",
       "      <td>0</td>\n",
       "      <td>0</td>\n",
       "      <td>0</td>\n",
       "      <td>...</td>\n",
       "      <td>0</td>\n",
       "      <td>0</td>\n",
       "      <td>0</td>\n",
       "      <td>0</td>\n",
       "      <td>0</td>\n",
       "      <td>0</td>\n",
       "      <td>0</td>\n",
       "      <td>0</td>\n",
       "      <td>0</td>\n",
       "      <td>0</td>\n",
       "    </tr>\n",
       "    <tr>\n",
       "      <th>1</th>\n",
       "      <td>0</td>\n",
       "      <td>0</td>\n",
       "      <td>0</td>\n",
       "      <td>0</td>\n",
       "      <td>0</td>\n",
       "      <td>0</td>\n",
       "      <td>0</td>\n",
       "      <td>0</td>\n",
       "      <td>0</td>\n",
       "      <td>0</td>\n",
       "      <td>...</td>\n",
       "      <td>0</td>\n",
       "      <td>0</td>\n",
       "      <td>0</td>\n",
       "      <td>0</td>\n",
       "      <td>0</td>\n",
       "      <td>0</td>\n",
       "      <td>0</td>\n",
       "      <td>0</td>\n",
       "      <td>0</td>\n",
       "      <td>0</td>\n",
       "    </tr>\n",
       "    <tr>\n",
       "      <th>2</th>\n",
       "      <td>1</td>\n",
       "      <td>0</td>\n",
       "      <td>0</td>\n",
       "      <td>0</td>\n",
       "      <td>0</td>\n",
       "      <td>0</td>\n",
       "      <td>0</td>\n",
       "      <td>0</td>\n",
       "      <td>0</td>\n",
       "      <td>0</td>\n",
       "      <td>...</td>\n",
       "      <td>0</td>\n",
       "      <td>0</td>\n",
       "      <td>0</td>\n",
       "      <td>0</td>\n",
       "      <td>0</td>\n",
       "      <td>0</td>\n",
       "      <td>0</td>\n",
       "      <td>0</td>\n",
       "      <td>0</td>\n",
       "      <td>0</td>\n",
       "    </tr>\n",
       "    <tr>\n",
       "      <th>3</th>\n",
       "      <td>4</td>\n",
       "      <td>0</td>\n",
       "      <td>0</td>\n",
       "      <td>0</td>\n",
       "      <td>0</td>\n",
       "      <td>0</td>\n",
       "      <td>0</td>\n",
       "      <td>0</td>\n",
       "      <td>0</td>\n",
       "      <td>0</td>\n",
       "      <td>...</td>\n",
       "      <td>0</td>\n",
       "      <td>0</td>\n",
       "      <td>0</td>\n",
       "      <td>0</td>\n",
       "      <td>0</td>\n",
       "      <td>0</td>\n",
       "      <td>0</td>\n",
       "      <td>0</td>\n",
       "      <td>0</td>\n",
       "      <td>0</td>\n",
       "    </tr>\n",
       "    <tr>\n",
       "      <th>4</th>\n",
       "      <td>0</td>\n",
       "      <td>0</td>\n",
       "      <td>0</td>\n",
       "      <td>0</td>\n",
       "      <td>0</td>\n",
       "      <td>0</td>\n",
       "      <td>0</td>\n",
       "      <td>0</td>\n",
       "      <td>0</td>\n",
       "      <td>0</td>\n",
       "      <td>...</td>\n",
       "      <td>0</td>\n",
       "      <td>0</td>\n",
       "      <td>0</td>\n",
       "      <td>0</td>\n",
       "      <td>0</td>\n",
       "      <td>0</td>\n",
       "      <td>0</td>\n",
       "      <td>0</td>\n",
       "      <td>0</td>\n",
       "      <td>0</td>\n",
       "    </tr>\n",
       "  </tbody>\n",
       "</table>\n",
       "<p>5 rows × 785 columns</p>\n",
       "</div>"
      ],
      "text/plain": [
       "   label  pixel0  pixel1  pixel2  pixel3  pixel4  pixel5  pixel6  pixel7  \\\n",
       "0      1       0       0       0       0       0       0       0       0   \n",
       "1      0       0       0       0       0       0       0       0       0   \n",
       "2      1       0       0       0       0       0       0       0       0   \n",
       "3      4       0       0       0       0       0       0       0       0   \n",
       "4      0       0       0       0       0       0       0       0       0   \n",
       "\n",
       "   pixel8  ...  pixel774  pixel775  pixel776  pixel777  pixel778  pixel779  \\\n",
       "0       0  ...         0         0         0         0         0         0   \n",
       "1       0  ...         0         0         0         0         0         0   \n",
       "2       0  ...         0         0         0         0         0         0   \n",
       "3       0  ...         0         0         0         0         0         0   \n",
       "4       0  ...         0         0         0         0         0         0   \n",
       "\n",
       "   pixel780  pixel781  pixel782  pixel783  \n",
       "0         0         0         0         0  \n",
       "1         0         0         0         0  \n",
       "2         0         0         0         0  \n",
       "3         0         0         0         0  \n",
       "4         0         0         0         0  \n",
       "\n",
       "[5 rows x 785 columns]"
      ]
     },
     "execution_count": 3,
     "metadata": {},
     "output_type": "execute_result"
    }
   ],
   "source": [
    "train_data.head()"
   ]
  },
  {
   "cell_type": "code",
   "execution_count": 4,
   "id": "546afe4d",
   "metadata": {
    "execution": {
     "iopub.execute_input": "2023-10-27T14:39:08.676807Z",
     "iopub.status.busy": "2023-10-27T14:39:08.676545Z",
     "iopub.status.idle": "2023-10-27T14:39:08.682096Z",
     "shell.execute_reply": "2023-10-27T14:39:08.681252Z"
    },
    "papermill": {
     "duration": 0.01705,
     "end_time": "2023-10-27T14:39:08.683995",
     "exception": false,
     "start_time": "2023-10-27T14:39:08.666945",
     "status": "completed"
    },
    "tags": []
   },
   "outputs": [
    {
     "data": {
      "text/plain": [
       "((42000, 785), (28000, 784))"
      ]
     },
     "execution_count": 4,
     "metadata": {},
     "output_type": "execute_result"
    }
   ],
   "source": [
    "train_data.shape, test_data.shape"
   ]
  },
  {
   "cell_type": "markdown",
   "id": "e2e7041b",
   "metadata": {
    "papermill": {
     "duration": 0.009022,
     "end_time": "2023-10-27T14:39:08.701903",
     "exception": false,
     "start_time": "2023-10-27T14:39:08.692881",
     "status": "completed"
    },
    "tags": []
   },
   "source": [
    "## Preparing Dataset"
   ]
  },
  {
   "cell_type": "code",
   "execution_count": 5,
   "id": "a49f5965",
   "metadata": {
    "execution": {
     "iopub.execute_input": "2023-10-27T14:39:08.720941Z",
     "iopub.status.busy": "2023-10-27T14:39:08.720458Z",
     "iopub.status.idle": "2023-10-27T14:39:08.726933Z",
     "shell.execute_reply": "2023-10-27T14:39:08.726069Z"
    },
    "papermill": {
     "duration": 0.017977,
     "end_time": "2023-10-27T14:39:08.728799",
     "exception": false,
     "start_time": "2023-10-27T14:39:08.710822",
     "status": "completed"
    },
    "tags": []
   },
   "outputs": [
    {
     "data": {
      "text/plain": [
       "((42000, 784), (42000,))"
      ]
     },
     "execution_count": 5,
     "metadata": {},
     "output_type": "execute_result"
    }
   ],
   "source": [
    "X = train_data.values[:, 1:]\n",
    "y = train_data.values[:, 0]\n",
    "X_test = test_data.values\n",
    "X.shape, y.shape"
   ]
  },
  {
   "cell_type": "code",
   "execution_count": 6,
   "id": "b72a42a0",
   "metadata": {
    "execution": {
     "iopub.execute_input": "2023-10-27T14:39:08.747795Z",
     "iopub.status.busy": "2023-10-27T14:39:08.747525Z",
     "iopub.status.idle": "2023-10-27T14:39:09.308185Z",
     "shell.execute_reply": "2023-10-27T14:39:09.307243Z"
    },
    "papermill": {
     "duration": 0.572686,
     "end_time": "2023-10-27T14:39:09.310367",
     "exception": false,
     "start_time": "2023-10-27T14:39:08.737681",
     "status": "completed"
    },
    "tags": []
   },
   "outputs": [
    {
     "data": {
      "text/plain": [
       "((33600, 784), (8400, 784), (33600,), (8400,))"
      ]
     },
     "execution_count": 6,
     "metadata": {},
     "output_type": "execute_result"
    }
   ],
   "source": [
    "from sklearn.model_selection import train_test_split\n",
    "\n",
    "X_train, X_val, y_train, y_val = train_test_split(X, y, test_size=0.2, random_state=42)\n",
    "X_train.shape, X_val.shape, y_train.shape, y_val.shape"
   ]
  },
  {
   "cell_type": "code",
   "execution_count": 7,
   "id": "21d3f0d3",
   "metadata": {
    "collapsed": false,
    "execution": {
     "iopub.execute_input": "2023-10-27T14:39:09.331309Z",
     "iopub.status.busy": "2023-10-27T14:39:09.330988Z",
     "iopub.status.idle": "2023-10-27T14:39:09.338136Z",
     "shell.execute_reply": "2023-10-27T14:39:09.337413Z"
    },
    "jupyter": {
     "outputs_hidden": false
    },
    "papermill": {
     "duration": 0.019963,
     "end_time": "2023-10-27T14:39:09.339956",
     "exception": false,
     "start_time": "2023-10-27T14:39:09.319993",
     "status": "completed"
    },
    "tags": []
   },
   "outputs": [],
   "source": [
    "class MNISTDataset(Dataset):\n",
    "    def __init__(self, X, y, transform=None):\n",
    "        self.n_samples = X.shape[0]\n",
    "        X = X.reshape(-1, 1, 28, 28) / 255.\n",
    "        self.x_data = torch.from_numpy(X.astype(np.float32))\n",
    "        self.y_data = torch.from_numpy(y)\n",
    "        \n",
    "        self.transform = transform\n",
    "        \n",
    "    def __len__(self):\n",
    "        return self.n_samples\n",
    "    \n",
    "    def __getitem__(self, item):\n",
    "        image, label = self.x_data[item], self.y_data[item]\n",
    "        \n",
    "        if self.transform is not None:\n",
    "            image = self.transform(image)\n",
    "            \n",
    "        return image, label"
   ]
  },
  {
   "cell_type": "code",
   "execution_count": 8,
   "id": "5efd22a5",
   "metadata": {
    "collapsed": false,
    "execution": {
     "iopub.execute_input": "2023-10-27T14:39:09.359185Z",
     "iopub.status.busy": "2023-10-27T14:39:09.358905Z",
     "iopub.status.idle": "2023-10-27T14:39:09.365039Z",
     "shell.execute_reply": "2023-10-27T14:39:09.364278Z"
    },
    "jupyter": {
     "outputs_hidden": false
    },
    "papermill": {
     "duration": 0.017814,
     "end_time": "2023-10-27T14:39:09.366876",
     "exception": false,
     "start_time": "2023-10-27T14:39:09.349062",
     "status": "completed"
    },
    "tags": []
   },
   "outputs": [],
   "source": [
    "class MNISTDataset_test(Dataset):\n",
    "    def __init__(self, X, transform=None):\n",
    "        self.n_samples = X.shape[0]\n",
    "        X = X.reshape(-1, 1, 28, 28) / 255.\n",
    "        self.x_data = torch.from_numpy(X.astype(np.float32))\n",
    "        \n",
    "        self.transform = transform\n",
    "        \n",
    "    def __len__(self):\n",
    "        return self.n_samples\n",
    "    \n",
    "    def __getitem__(self, item):\n",
    "        sample = self.x_data[item]\n",
    "        \n",
    "        if self.transform is not None:\n",
    "            sample = self.transform(sample)\n",
    "            \n",
    "        return sample"
   ]
  },
  {
   "cell_type": "markdown",
   "id": "893ab04a",
   "metadata": {
    "papermill": {
     "duration": 0.00972,
     "end_time": "2023-10-27T14:39:09.385562",
     "exception": false,
     "start_time": "2023-10-27T14:39:09.375842",
     "status": "completed"
    },
    "tags": []
   },
   "source": [
    "## Transformations"
   ]
  },
  {
   "cell_type": "code",
   "execution_count": 9,
   "id": "8ee29426",
   "metadata": {
    "collapsed": false,
    "execution": {
     "iopub.execute_input": "2023-10-27T14:39:09.405638Z",
     "iopub.status.busy": "2023-10-27T14:39:09.405312Z",
     "iopub.status.idle": "2023-10-27T14:39:09.414878Z",
     "shell.execute_reply": "2023-10-27T14:39:09.414102Z"
    },
    "jupyter": {
     "outputs_hidden": false
    },
    "papermill": {
     "duration": 0.021352,
     "end_time": "2023-10-27T14:39:09.416679",
     "exception": false,
     "start_time": "2023-10-27T14:39:09.395327",
     "status": "completed"
    },
    "tags": []
   },
   "outputs": [],
   "source": [
    "from scipy.ndimage.filters import gaussian_filter\n",
    "from scipy.ndimage.interpolation import map_coordinates\n",
    "\n",
    "def elastic_transform(image, alpha_range, sigma, random_state=None):\n",
    "    \"\"\"\n",
    "    # Arguments\n",
    "       image: Numpy array with shape (height, width, channels). \n",
    "       alpha_range: Float for fixed value or [lower, upper] for random value from uniform distribution.\n",
    "           Controls intensity of deformation.\n",
    "       sigma: Float, sigma of gaussian filter that smooths the displacement fields.\n",
    "       random_state: `numpy.random.RandomState` object for generating displacement fields.\n",
    "    \"\"\"\n",
    "\n",
    "    if random_state is None:\n",
    "        random_state = np.random.RandomState(None)\n",
    "    \n",
    "    if np.isscalar(alpha_range):\n",
    "        alpha = alpha_range\n",
    "    else:\n",
    "        alpha = np.random.uniform(low=alpha_range[0], high=alpha_range[1])\n",
    "    \n",
    "    shape = image.shape\n",
    "    dx = gaussian_filter((random_state.rand(*shape) * 2 - 1), sigma) * alpha\n",
    "    dy = gaussian_filter((random_state.rand(*shape) * 2 - 1), sigma) * alpha\n",
    "    \n",
    "    x, y, z = np.meshgrid(np.arange(shape[0]), np.arange(shape[1]), np.arange(shape[2]), indexing='ij')\n",
    "    indices = np.reshape(x + dx, (-1, 1)), np.reshape(y + dy, (-1, 1)), np.reshape(z, (-1, 1))\n",
    "    \n",
    "    return torch.from_numpy(map_coordinates(image, indices, order=1, mode='reflect').reshape(1, 28, 28)).to(device, torch.float32)"
   ]
  },
  {
   "cell_type": "code",
   "execution_count": 10,
   "id": "c30f8e7e",
   "metadata": {
    "collapsed": false,
    "execution": {
     "iopub.execute_input": "2023-10-27T14:39:09.435956Z",
     "iopub.status.busy": "2023-10-27T14:39:09.435691Z",
     "iopub.status.idle": "2023-10-27T14:39:09.440533Z",
     "shell.execute_reply": "2023-10-27T14:39:09.439698Z"
    },
    "jupyter": {
     "outputs_hidden": false
    },
    "papermill": {
     "duration": 0.016648,
     "end_time": "2023-10-27T14:39:09.442447",
     "exception": false,
     "start_time": "2023-10-27T14:39:09.425799",
     "status": "completed"
    },
    "tags": []
   },
   "outputs": [],
   "source": [
    "transform_train = transforms.Compose([\n",
    "    transforms.ToPILImage(),\n",
    "    transforms.RandomRotation(10),  # Randomly rotate by up to 10 degrees\n",
    "    transforms.RandomAffine(degrees=0, translate=(0.1, 0.1), scale=(0.9, 1.1)),  # Randomly zoom and shift\n",
    "#     transforms.Lambda(lambda x: elastic_transform(np.array(x).reshape(28, 28, 1), alpha_range=[0, 10], sigma=3)),\n",
    "    transforms.ToTensor()\n",
    "])"
   ]
  },
  {
   "cell_type": "code",
   "execution_count": 11,
   "id": "79b33323",
   "metadata": {
    "collapsed": false,
    "execution": {
     "iopub.execute_input": "2023-10-27T14:39:09.461641Z",
     "iopub.status.busy": "2023-10-27T14:39:09.461359Z",
     "iopub.status.idle": "2023-10-27T14:39:09.465165Z",
     "shell.execute_reply": "2023-10-27T14:39:09.464364Z"
    },
    "jupyter": {
     "outputs_hidden": false
    },
    "papermill": {
     "duration": 0.015487,
     "end_time": "2023-10-27T14:39:09.466940",
     "exception": false,
     "start_time": "2023-10-27T14:39:09.451453",
     "status": "completed"
    },
    "tags": []
   },
   "outputs": [],
   "source": [
    "batch_size = 128\n",
    "num_classes = 10 "
   ]
  },
  {
   "cell_type": "code",
   "execution_count": 12,
   "id": "0731cd9f",
   "metadata": {
    "collapsed": false,
    "execution": {
     "iopub.execute_input": "2023-10-27T14:39:09.485915Z",
     "iopub.status.busy": "2023-10-27T14:39:09.485641Z",
     "iopub.status.idle": "2023-10-27T14:39:09.898928Z",
     "shell.execute_reply": "2023-10-27T14:39:09.898020Z"
    },
    "jupyter": {
     "outputs_hidden": false
    },
    "papermill": {
     "duration": 0.425523,
     "end_time": "2023-10-27T14:39:09.901427",
     "exception": false,
     "start_time": "2023-10-27T14:39:09.475904",
     "status": "completed"
    },
    "tags": []
   },
   "outputs": [],
   "source": [
    "train_dataset = MNISTDataset(X_train, y_train, transform=transform_train)\n",
    "val_dataset = MNISTDataset(X_val, y_val)\n",
    "\n",
    "full_train_dataset = MNISTDataset(X, y, transform=transform_train)\n",
    "test_dataset = MNISTDataset_test(X_test)"
   ]
  },
  {
   "cell_type": "code",
   "execution_count": 13,
   "id": "017bdb54",
   "metadata": {
    "execution": {
     "iopub.execute_input": "2023-10-27T14:39:09.921926Z",
     "iopub.status.busy": "2023-10-27T14:39:09.921606Z",
     "iopub.status.idle": "2023-10-27T14:39:09.929571Z",
     "shell.execute_reply": "2023-10-27T14:39:09.928605Z"
    },
    "papermill": {
     "duration": 0.020219,
     "end_time": "2023-10-27T14:39:09.931433",
     "exception": false,
     "start_time": "2023-10-27T14:39:09.911214",
     "status": "completed"
    },
    "tags": []
   },
   "outputs": [
    {
     "data": {
      "text/plain": [
       "263"
      ]
     },
     "execution_count": 13,
     "metadata": {},
     "output_type": "execute_result"
    }
   ],
   "source": [
    "train_loader = DataLoader(dataset=train_dataset, batch_size=batch_size, shuffle=True)\n",
    "val_loader = DataLoader(dataset=val_dataset, batch_size=batch_size, shuffle=True)\n",
    "\n",
    "full_train_loader = DataLoader(dataset=full_train_dataset, batch_size=batch_size, shuffle=True)\n",
    "test_loader = DataLoader(dataset=test_dataset, batch_size=batch_size, shuffle=False)\n",
    "\n",
    "steps_per_epoch = len(train_loader)\n",
    "steps_per_epoch"
   ]
  },
  {
   "cell_type": "code",
   "execution_count": 14,
   "id": "f63a21dd",
   "metadata": {
    "execution": {
     "iopub.execute_input": "2023-10-27T14:39:09.951193Z",
     "iopub.status.busy": "2023-10-27T14:39:09.950908Z",
     "iopub.status.idle": "2023-10-27T14:39:10.062081Z",
     "shell.execute_reply": "2023-10-27T14:39:10.061221Z"
    },
    "papermill": {
     "duration": 0.123356,
     "end_time": "2023-10-27T14:39:10.064024",
     "exception": false,
     "start_time": "2023-10-27T14:39:09.940668",
     "status": "completed"
    },
    "tags": []
   },
   "outputs": [
    {
     "data": {
      "text/plain": [
       "(torch.Size([128, 1, 28, 28]), torch.Size([128]))"
      ]
     },
     "execution_count": 14,
     "metadata": {},
     "output_type": "execute_result"
    }
   ],
   "source": [
    "images, labels = next(iter(train_loader))\n",
    "images.shape, labels.shape"
   ]
  },
  {
   "cell_type": "markdown",
   "id": "a66882b1",
   "metadata": {
    "papermill": {
     "duration": 0.009271,
     "end_time": "2023-10-27T14:39:10.082647",
     "exception": false,
     "start_time": "2023-10-27T14:39:10.073376",
     "status": "completed"
    },
    "tags": []
   },
   "source": [
    "## Training Models"
   ]
  },
  {
   "cell_type": "code",
   "execution_count": 15,
   "id": "fc10f6c5",
   "metadata": {
    "collapsed": false,
    "execution": {
     "iopub.execute_input": "2023-10-27T14:39:10.102949Z",
     "iopub.status.busy": "2023-10-27T14:39:10.102643Z",
     "iopub.status.idle": "2023-10-27T14:39:10.115783Z",
     "shell.execute_reply": "2023-10-27T14:39:10.114905Z"
    },
    "jupyter": {
     "outputs_hidden": false
    },
    "papermill": {
     "duration": 0.025704,
     "end_time": "2023-10-27T14:39:10.117758",
     "exception": false,
     "start_time": "2023-10-27T14:39:10.092054",
     "status": "completed"
    },
    "tags": []
   },
   "outputs": [],
   "source": [
    "def train_model(model, criterion, optimizer, num_epochs, train_loader=train_loader, val_loader=None, scheduler=None):\n",
    "    for epoch in range(num_epochs):\n",
    "\n",
    "        running_loss = 0.0\n",
    "        running_corrects = 0\n",
    "        running_corrects_val = 0\n",
    "            \n",
    "        for i, (images, labels) in enumerate(train_loader):\n",
    "            images = images.to(device)\n",
    "            labels = labels.to(device)            \n",
    "            \n",
    "            optimizer.zero_grad()\n",
    "            output = model(images)\n",
    "            loss = criterion(output, labels)\n",
    "            loss.backward()\n",
    "            optimizer.step()\n",
    "            \n",
    "            with torch.no_grad():\n",
    "                _, predictions = torch.max(output, 1)\n",
    "                corrects = (predictions == labels).sum().item()\n",
    "                running_corrects += corrects\n",
    "                \n",
    "                running_loss += loss.item()\n",
    "                \n",
    "            writer.add_scalar('train_loss', loss, epoch*steps_per_epoch + i)\n",
    "            writer.add_scalar('train_accuracy', corrects/labels.shape[0], epoch*steps_per_epoch + i)\n",
    "        \n",
    "        epoch_loss = running_loss / steps_per_epoch\n",
    "        epoch_acc = running_corrects*100/len(train_loader)/batch_size\n",
    "\n",
    "        print(f'epoch {epoch+1}/{num_epochs}, loss {epoch_loss:.4f}, training accuracy {epoch_acc:.2f}%', end='')\n",
    "                \n",
    "        if val_loader is not None:\n",
    "            for i, (images, labels) in enumerate(val_loader):\n",
    "                images = images.to(device)\n",
    "                labels = labels.to(device)\n",
    "                \n",
    "                with torch.no_grad():\n",
    "                    output = model(images)\n",
    "                    _, predictions = torch.max(output, 1)\n",
    "                    corrects = (predictions == labels).sum().item()\n",
    "                    running_corrects_val += corrects\n",
    "                    \n",
    "                writer.add_scalar('val_accuracy', corrects/labels.shape[0], epoch*steps_per_epoch + i)\n",
    "                    \n",
    "            epoch_val_acc = running_corrects_val*100/len(val_loader)/batch_size\n",
    "            print(f', validation accuracy {epoch_val_acc:.2f}%')\n",
    "        else:\n",
    "            print()\n",
    "                \n",
    "        if scheduler is not None:\n",
    "            scheduler.step()\n",
    "            \n",
    "    writer.flush()\n",
    "    writer.close()\n",
    "            "
   ]
  },
  {
   "cell_type": "code",
   "execution_count": 16,
   "id": "58c1686c",
   "metadata": {
    "collapsed": false,
    "execution": {
     "iopub.execute_input": "2023-10-27T14:39:10.138448Z",
     "iopub.status.busy": "2023-10-27T14:39:10.138147Z",
     "iopub.status.idle": "2023-10-27T14:39:10.144684Z",
     "shell.execute_reply": "2023-10-27T14:39:10.143828Z"
    },
    "jupyter": {
     "outputs_hidden": false
    },
    "papermill": {
     "duration": 0.018986,
     "end_time": "2023-10-27T14:39:10.146607",
     "exception": false,
     "start_time": "2023-10-27T14:39:10.127621",
     "status": "completed"
    },
    "tags": []
   },
   "outputs": [],
   "source": [
    "from sklearn.metrics import classification_report, confusion_matrix\n",
    "\n",
    "def validate_model(model, val_loader=val_loader):\n",
    "    \n",
    "    y_true = []\n",
    "    y_pred = []\n",
    "    \n",
    "    with torch.no_grad():\n",
    "        for images, labels in val_loader:\n",
    "            images = images.to(device)\n",
    "            \n",
    "            output = model(images) \n",
    "            _, predictions = torch.max(output, 1)\n",
    "            \n",
    "            y_true.extend(labels.cpu().tolist())\n",
    "            y_pred.extend(predictions.cpu().tolist())\n",
    "            \n",
    "    print(classification_report(y_true, y_pred))\n",
    "    cm = confusion_matrix(y_true, y_pred, normalize='true')\n",
    "    sns.heatmap(cm)"
   ]
  },
  {
   "cell_type": "code",
   "execution_count": 17,
   "id": "a1d606fb",
   "metadata": {
    "collapsed": false,
    "execution": {
     "iopub.execute_input": "2023-10-27T14:39:10.166265Z",
     "iopub.status.busy": "2023-10-27T14:39:10.165987Z",
     "iopub.status.idle": "2023-10-27T14:39:10.172120Z",
     "shell.execute_reply": "2023-10-27T14:39:10.171310Z"
    },
    "jupyter": {
     "outputs_hidden": false
    },
    "papermill": {
     "duration": 0.018106,
     "end_time": "2023-10-27T14:39:10.174032",
     "exception": false,
     "start_time": "2023-10-27T14:39:10.155926",
     "status": "completed"
    },
    "tags": []
   },
   "outputs": [],
   "source": [
    "def test_model(model, test_loader=test_loader, y_true=None):\n",
    "    \n",
    "    y_pred = []\n",
    "    \n",
    "    with torch.no_grad():\n",
    "        for images in test_loader:\n",
    "            images = images.to(device)\n",
    "            \n",
    "            output = model(images) \n",
    "            _, predictions = torch.max(output, 1)\n",
    "            \n",
    "            y_pred.extend(predictions.cpu().tolist())\n",
    "        \n",
    "    if y_true is not None:\n",
    "        print(classification_report(y_true, y_pred))\n",
    "        cm = confusion_matrix(y_true, y_pred, normalize='true')\n",
    "        sns.heatmap(cm, annot=True)\n",
    "    else:\n",
    "        return y_pred "
   ]
  },
  {
   "cell_type": "code",
   "execution_count": 18,
   "id": "6ac5b696",
   "metadata": {
    "collapsed": false,
    "execution": {
     "iopub.execute_input": "2023-10-27T14:39:10.193546Z",
     "iopub.status.busy": "2023-10-27T14:39:10.193263Z",
     "iopub.status.idle": "2023-10-27T14:39:10.204488Z",
     "shell.execute_reply": "2023-10-27T14:39:10.203662Z"
    },
    "jupyter": {
     "outputs_hidden": false
    },
    "papermill": {
     "duration": 0.023108,
     "end_time": "2023-10-27T14:39:10.206313",
     "exception": false,
     "start_time": "2023-10-27T14:39:10.183205",
     "status": "completed"
    },
    "tags": []
   },
   "outputs": [],
   "source": [
    "class LinearNet(nn.Module):\n",
    "    def __init__(self, in_features=784):\n",
    "        super().__init__()\n",
    "        self.fc = nn.Linear(in_features, num_classes)\n",
    "        \n",
    "    def forward(self, x):\n",
    "        x = x.flatten(start_dim=1)\n",
    "        x = self.fc(x)\n",
    "        return x\n",
    "    \n",
    "class LinearNet2(nn.Module):\n",
    "    def __init__(self, in_features=784, hidden_layer=256):\n",
    "        super().__init__()\n",
    "        self.fc = nn.Sequential(\n",
    "            nn.Linear(in_features, hidden_layer),\n",
    "            nn.BatchNorm1d(hidden_layer),\n",
    "            nn.ReLU(),\n",
    "            nn.Linear(hidden_layer, hidden_layer),\n",
    "            nn.BatchNorm1d(hidden_layer),\n",
    "            nn.ReLU(),\n",
    "            nn.Linear(hidden_layer, num_classes)\n",
    "        )\n",
    "        \n",
    "    def forward(self, x):\n",
    "        x = x.flatten(start_dim=1)\n",
    "        return self.fc(x)\n",
    "    \n",
    "class ConvNet(nn.Module):\n",
    "    def __init__(self):\n",
    "        super().__init__()\n",
    "        self.net = nn.Sequential(\n",
    "        )\n",
    "\n",
    "    def forward(self, x):\n",
    "        return self.fc(x)\n",
    "\n",
    "class LeNet(nn.Module):\n",
    "    def __init__(self):\n",
    "        super().__init__()\n",
    "        self.net = nn.Sequential(\n",
    "            nn.LazyConv2d(6, kernel_size=5, padding=2), nn.ReLU(),\n",
    "            nn.AvgPool2d(kernel_size=2, stride=2),\n",
    "            nn.LazyConv2d(16, kernel_size=5), nn.ReLU(),\n",
    "            nn.AvgPool2d(kernel_size=2, stride=2),\n",
    "            nn.Flatten(),\n",
    "            nn.LazyLinear(128), nn.ReLU(),\n",
    "            nn.LazyLinear(64), nn.ReLU(),\n",
    "            nn.LazyLinear(num_classes))\n",
    "        \n",
    "    def forward(self, x):\n",
    "        return self.net(x)\n"
   ]
  },
  {
   "cell_type": "markdown",
   "id": "7a51dfe5",
   "metadata": {
    "papermill": {
     "duration": 0.008998,
     "end_time": "2023-10-27T14:39:10.224563",
     "exception": false,
     "start_time": "2023-10-27T14:39:10.215565",
     "status": "completed"
    },
    "tags": []
   },
   "source": [
    "## Comparing Results of Different Models and optimizers"
   ]
  },
  {
   "cell_type": "code",
   "execution_count": 19,
   "id": "f5953b3e",
   "metadata": {
    "collapsed": false,
    "execution": {
     "iopub.execute_input": "2023-10-27T14:39:10.244453Z",
     "iopub.status.busy": "2023-10-27T14:39:10.243741Z",
     "iopub.status.idle": "2023-10-27T14:42:18.363820Z",
     "shell.execute_reply": "2023-10-27T14:42:18.362765Z"
    },
    "jupyter": {
     "outputs_hidden": false
    },
    "papermill": {
     "duration": 188.132477,
     "end_time": "2023-10-27T14:42:18.366174",
     "exception": false,
     "start_time": "2023-10-27T14:39:10.233697",
     "status": "completed"
    },
    "tags": []
   },
   "outputs": [
    {
     "name": "stderr",
     "output_type": "stream",
     "text": [
      "/opt/conda/lib/python3.10/site-packages/torch/nn/modules/lazy.py:180: UserWarning: Lazy modules are a new feature under heavy development so changes to the API or functionality can happen at any moment.\n",
      "  warnings.warn('Lazy modules are a new feature under heavy development '\n"
     ]
    },
    {
     "name": "stdout",
     "output_type": "stream",
     "text": [
      "epoch 1/15, loss 1.1547, training accuracy 60.64%, validation accuracy 89.89%\n",
      "epoch 2/15, loss 0.3889, training accuracy 87.46%, validation accuracy 93.36%\n",
      "epoch 3/15, loss 0.2582, training accuracy 91.80%, validation accuracy 95.76%\n",
      "epoch 4/15, loss 0.2074, training accuracy 93.44%, validation accuracy 95.31%\n",
      "epoch 5/15, loss 0.1757, training accuracy 94.48%, validation accuracy 96.08%\n",
      "epoch 6/15, loss 0.1580, training accuracy 94.89%, validation accuracy 96.88%\n",
      "epoch 7/15, loss 0.1487, training accuracy 95.18%, validation accuracy 96.92%\n",
      "epoch 8/15, loss 0.1358, training accuracy 95.57%, validation accuracy 97.17%\n",
      "epoch 9/15, loss 0.1232, training accuracy 95.98%, validation accuracy 97.40%\n",
      "epoch 10/15, loss 0.1167, training accuracy 96.12%, validation accuracy 97.43%\n",
      "epoch 11/15, loss 0.1069, training accuracy 96.51%, validation accuracy 97.62%\n",
      "epoch 12/15, loss 0.1024, training accuracy 96.69%, validation accuracy 97.47%\n",
      "epoch 13/15, loss 0.0975, training accuracy 96.70%, validation accuracy 97.77%\n",
      "epoch 14/15, loss 0.0970, training accuracy 96.73%, validation accuracy 97.87%\n",
      "epoch 15/15, loss 0.0877, training accuracy 96.96%, validation accuracy 97.90%\n"
     ]
    }
   ],
   "source": [
    "lr = 1e-3\n",
    "# model = LinearNet2().to(device)\n",
    "model = LeNet().to(device)\n",
    "optimizer = optim.Adam(model.parameters(), lr=lr)\n",
    "criterion = nn.CrossEntropyLoss()\n",
    "\n",
    "train_model(model, criterion, optimizer, num_epochs=15, val_loader=val_loader)"
   ]
  },
  {
   "cell_type": "code",
   "execution_count": 20,
   "id": "43f231ed",
   "metadata": {
    "collapsed": false,
    "execution": {
     "iopub.execute_input": "2023-10-27T14:42:18.389027Z",
     "iopub.status.busy": "2023-10-27T14:42:18.388724Z",
     "iopub.status.idle": "2023-10-27T14:42:18.902068Z",
     "shell.execute_reply": "2023-10-27T14:42:18.901225Z"
    },
    "jupyter": {
     "outputs_hidden": false
    },
    "papermill": {
     "duration": 0.52714,
     "end_time": "2023-10-27T14:42:18.904175",
     "exception": false,
     "start_time": "2023-10-27T14:42:18.377035",
     "status": "completed"
    },
    "tags": []
   },
   "outputs": [
    {
     "name": "stdout",
     "output_type": "stream",
     "text": [
      "              precision    recall  f1-score   support\n",
      "\n",
      "           0       0.99      0.99      0.99       816\n",
      "           1       0.99      0.99      0.99       909\n",
      "           2       0.98      0.98      0.98       846\n",
      "           3       0.98      0.98      0.98       937\n",
      "           4       0.99      0.98      0.99       839\n",
      "           5       0.97      0.99      0.98       702\n",
      "           6       0.98      1.00      0.99       785\n",
      "           7       0.99      0.98      0.98       893\n",
      "           8       0.99      0.97      0.98       835\n",
      "           9       0.99      0.97      0.98       838\n",
      "\n",
      "    accuracy                           0.98      8400\n",
      "   macro avg       0.98      0.98      0.98      8400\n",
      "weighted avg       0.98      0.98      0.98      8400\n",
      "\n"
     ]
    },
    {
     "data": {
      "image/png": "[encoded data removed]",
      "text/plain": [
       "<Figure size 640x480 with 2 Axes>"
      ]
     },
     "metadata": {},
     "output_type": "display_data"
    }
   ],
   "source": [
    "validate_model(model)"
   ]
  },
  {
   "cell_type": "markdown",
   "id": "5fa3894a",
   "metadata": {
    "papermill": {
     "duration": 0.010721,
     "end_time": "2023-10-27T14:42:18.926046",
     "exception": false,
     "start_time": "2023-10-27T14:42:18.915325",
     "status": "completed"
    },
    "tags": []
   },
   "source": [
    "## Final Training and Submission"
   ]
  },
  {
   "cell_type": "code",
   "execution_count": 21,
   "id": "c0bac781",
   "metadata": {
    "collapsed": false,
    "execution": {
     "iopub.execute_input": "2023-10-27T14:42:18.948958Z",
     "iopub.status.busy": "2023-10-27T14:42:18.948664Z",
     "iopub.status.idle": "2023-10-27T14:47:13.866064Z",
     "shell.execute_reply": "2023-10-27T14:47:13.865080Z"
    },
    "jupyter": {
     "outputs_hidden": false
    },
    "papermill": {
     "duration": 294.931359,
     "end_time": "2023-10-27T14:47:13.868248",
     "exception": false,
     "start_time": "2023-10-27T14:42:18.936889",
     "status": "completed"
    },
    "tags": []
   },
   "outputs": [
    {
     "name": "stderr",
     "output_type": "stream",
     "text": [
      "/opt/conda/lib/python3.10/site-packages/torch/nn/modules/lazy.py:180: UserWarning: Lazy modules are a new feature under heavy development so changes to the API or functionality can happen at any moment.\n",
      "  warnings.warn('Lazy modules are a new feature under heavy development '\n"
     ]
    },
    {
     "name": "stdout",
     "output_type": "stream",
     "text": [
      "epoch 1/20, loss 1.1290, training accuracy 70.04%\n",
      "epoch 2/20, loss 0.3382, training accuracy 91.33%\n",
      "epoch 3/20, loss 0.2540, training accuracy 93.57%\n",
      "epoch 4/20, loss 0.2128, training accuracy 94.44%\n",
      "epoch 5/20, loss 0.1845, training accuracy 95.12%\n",
      "epoch 6/20, loss 0.1631, training accuracy 95.72%\n",
      "epoch 7/20, loss 0.1521, training accuracy 96.01%\n",
      "epoch 8/20, loss 0.1376, training accuracy 96.33%\n",
      "epoch 9/20, loss 0.1316, training accuracy 96.50%\n",
      "epoch 10/20, loss 0.1227, training accuracy 96.77%\n",
      "epoch 11/20, loss 0.1150, training accuracy 96.88%\n",
      "epoch 12/20, loss 0.1098, training accuracy 97.02%\n",
      "epoch 13/20, loss 0.1046, training accuracy 97.12%\n",
      "epoch 14/20, loss 0.1010, training accuracy 97.23%\n",
      "epoch 15/20, loss 0.0955, training accuracy 97.34%\n",
      "epoch 16/20, loss 0.0943, training accuracy 97.34%\n",
      "epoch 17/20, loss 0.0870, training accuracy 97.56%\n",
      "epoch 18/20, loss 0.0841, training accuracy 97.62%\n",
      "epoch 19/20, loss 0.0828, training accuracy 97.67%\n",
      "epoch 20/20, loss 0.0837, training accuracy 97.62%\n"
     ]
    }
   ],
   "source": [
    "lr = 1e-3\n",
    "# best_model = LinearNet2().to(device)\n",
    "best_model = LeNet().to(device)\n",
    "optimizer = optim.Adam(best_model.parameters(), lr=lr)\n",
    "criterion = nn.CrossEntropyLoss()\n",
    "\n",
    "train_model(best_model, criterion, optimizer, num_epochs=20, train_loader=full_train_loader)"
   ]
  },
  {
   "cell_type": "code",
   "execution_count": 22,
   "id": "a097aa65",
   "metadata": {
    "collapsed": false,
    "execution": {
     "iopub.execute_input": "2023-10-27T14:47:13.894829Z",
     "iopub.status.busy": "2023-10-27T14:47:13.894513Z",
     "iopub.status.idle": "2023-10-27T14:47:13.899437Z",
     "shell.execute_reply": "2023-10-27T14:47:13.898598Z"
    },
    "jupyter": {
     "outputs_hidden": false
    },
    "papermill": {
     "duration": 0.020298,
     "end_time": "2023-10-27T14:47:13.901280",
     "exception": false,
     "start_time": "2023-10-27T14:47:13.880982",
     "status": "completed"
    },
    "tags": []
   },
   "outputs": [],
   "source": [
    "def submit_prediction(y_pred, name='submission'):\n",
    "    submission = pd.DataFrame({'ImageId': range(1, len(y_pred)+1), 'Label': y_pred})\n",
    "    submission.to_csv(f'/kaggle/working/{name}.csv', index=False)"
   ]
  },
  {
   "cell_type": "code",
   "execution_count": 23,
   "id": "2109acf7",
   "metadata": {
    "collapsed": false,
    "execution": {
     "iopub.execute_input": "2023-10-27T14:47:13.927695Z",
     "iopub.status.busy": "2023-10-27T14:47:13.927382Z",
     "iopub.status.idle": "2023-10-27T14:47:14.298603Z",
     "shell.execute_reply": "2023-10-27T14:47:14.297599Z"
    },
    "jupyter": {
     "outputs_hidden": false
    },
    "papermill": {
     "duration": 0.386885,
     "end_time": "2023-10-27T14:47:14.300995",
     "exception": false,
     "start_time": "2023-10-27T14:47:13.914110",
     "status": "completed"
    },
    "tags": []
   },
   "outputs": [],
   "source": [
    "y_pred = test_model(best_model)\n",
    "submit_prediction(y_pred)"
   ]
  }
 ],
 "metadata": {
  "kernelspec": {
   "display_name": "Python 3",
   "language": "python",
   "name": "python3"
  },
  "language_info": {
   "codemirror_mode": {
    "name": "ipython",
    "version": 3
   },
   "file_extension": ".py",
   "mimetype": "text/x-python",
   "name": "python",
   "nbconvert_exporter": "python",
   "pygments_lexer": "ipython3",
   "version": "3.10.12"
  },
  "papermill": {
   "default_parameters": {},
   "duration": 510.68189,
   "end_time": "2023-10-27T14:47:17.927831",
   "environment_variables": {},
   "exception": null,
   "input_path": "__notebook__.ipynb",
   "output_path": "__notebook__.ipynb",
   "parameters": {},
   "start_time": "2023-10-27T14:38:47.245941",
   "version": "2.4.0"
  }
 },
 "nbformat": 4,
 "nbformat_minor": 5
}
