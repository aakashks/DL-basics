{
 "cells": [
  {
   "cell_type": "markdown",
   "id": "6437972c",
   "metadata": {
    "papermill": {
     "duration": 0.008348,
     "end_time": "2023-10-27T15:02:53.485250",
     "exception": false,
     "start_time": "2023-10-27T15:02:53.476902",
     "status": "completed"
    },
    "tags": []
   },
   "source": [
    "# MNIST Digit Recognition with higher accuracy using Elastic Distortion"
   ]
  },
  {
   "cell_type": "markdown",
   "id": "c4c626da",
   "metadata": {
    "papermill": {
     "duration": 0.007302,
     "end_time": "2023-10-27T15:02:53.501783",
     "exception": false,
     "start_time": "2023-10-27T15:02:53.494481",
     "status": "completed"
    },
    "tags": []
   },
   "source": [
    "## Imports"
   ]
  },
  {
   "cell_type": "code",
   "execution_count": 1,
   "id": "88ed2683",
   "metadata": {
    "execution": {
     "iopub.execute_input": "2023-10-27T15:02:53.518911Z",
     "iopub.status.busy": "2023-10-27T15:02:53.517873Z",
     "iopub.status.idle": "2023-10-27T15:03:12.104968Z",
     "shell.execute_reply": "2023-10-27T15:03:12.103417Z"
    },
    "papermill": {
     "duration": 18.598419,
     "end_time": "2023-10-27T15:03:12.107187",
     "exception": false,
     "start_time": "2023-10-27T15:02:53.508768",
     "status": "completed"
    },
    "tags": []
   },
   "outputs": [
    {
     "data": {
      "text/plain": [
       "device(type='cpu')"
      ]
     },
     "execution_count": 1,
     "metadata": {},
     "output_type": "execute_result"
    }
   ],
   "source": [
    "import time\n",
    "import os\n",
    "\n",
    "import numpy as np\n",
    "import pandas as pd\n",
    "import matplotlib.pyplot as plt\n",
    "import seaborn as sns\n",
    "\n",
    "import torch\n",
    "import torch.nn as nn\n",
    "import torch.nn.functional as F\n",
    "\n",
    "import torch.optim as optim\n",
    "from torch.optim import lr_scheduler\n",
    "from torch.utils.data import Dataset, DataLoader, TensorDataset\n",
    "\n",
    "import torchvision\n",
    "from torchvision import transforms\n",
    "from torchvision import datasets, models, transforms\n",
    "\n",
    "from torch.utils.tensorboard import SummaryWriter\n",
    "\n",
    "from PIL import Image\n",
    "from tempfile import TemporaryDirectory\n",
    "\n",
    "writer = SummaryWriter('/kaggle/working/logs')\n",
    "# %load_ext tensorboard.notebook\n",
    "# %tensorboard --logdir /kaggle/working/logs\n",
    "\n",
    "device = torch.device('cpu')\n",
    "device"
   ]
  },
  {
   "cell_type": "code",
   "execution_count": 2,
   "id": "8cdf316e",
   "metadata": {
    "execution": {
     "iopub.execute_input": "2023-10-27T15:03:12.125668Z",
     "iopub.status.busy": "2023-10-27T15:03:12.124672Z",
     "iopub.status.idle": "2023-10-27T15:03:16.579254Z",
     "shell.execute_reply": "2023-10-27T15:03:16.576724Z"
    },
    "papermill": {
     "duration": 4.467006,
     "end_time": "2023-10-27T15:03:16.582364",
     "exception": false,
     "start_time": "2023-10-27T15:03:12.115358",
     "status": "completed"
    },
    "tags": []
   },
   "outputs": [
    {
     "name": "stdout",
     "output_type": "stream",
     "text": [
      "<class 'pandas.core.frame.DataFrame'>\n",
      "RangeIndex: 42000 entries, 0 to 41999\n",
      "Columns: 785 entries, label to pixel783\n",
      "dtypes: int64(785)\n",
      "memory usage: 251.5 MB\n"
     ]
    }
   ],
   "source": [
    "# PATH_TO_DATA = 'Datasets/'\n",
    "PATH_TO_DATA = '/kaggle/input/digit-recognizer/'\n",
    "train_data = pd.read_csv(os.path.join(PATH_TO_DATA, 'train.csv'))\n",
    "test_data = pd.read_csv(os.path.join(PATH_TO_DATA, 'test.csv'))\n",
    "\n",
    "train_data.info()"
   ]
  },
  {
   "cell_type": "code",
   "execution_count": 3,
   "id": "b6eee1ad",
   "metadata": {
    "execution": {
     "iopub.execute_input": "2023-10-27T15:03:16.601363Z",
     "iopub.status.busy": "2023-10-27T15:03:16.600860Z",
     "iopub.status.idle": "2023-10-27T15:03:16.628868Z",
     "shell.execute_reply": "2023-10-27T15:03:16.627594Z"
    },
    "papermill": {
     "duration": 0.041372,
     "end_time": "2023-10-27T15:03:16.631176",
     "exception": false,
     "start_time": "2023-10-27T15:03:16.589804",
     "status": "completed"
    },
    "tags": []
   },
   "outputs": [
    {
     "data": {
      "text/html": [
       "<div>\n",
       "<style scoped>\n",
       "    .dataframe tbody tr th:only-of-type {\n",
       "        vertical-align: middle;\n",
       "    }\n",
       "\n",
       "    .dataframe tbody tr th {\n",
       "        vertical-align: top;\n",
       "    }\n",
       "\n",
       "    .dataframe thead th {\n",
       "        text-align: right;\n",
       "    }\n",
       "</style>\n",
       "<table border=\"1\" class=\"dataframe\">\n",
       "  <thead>\n",
       "    <tr style=\"text-align: right;\">\n",
       "      <th></th>\n",
       "      <th>label</th>\n",
       "      <th>pixel0</th>\n",
       "      <th>pixel1</th>\n",
       "      <th>pixel2</th>\n",
       "      <th>pixel3</th>\n",
       "      <th>pixel4</th>\n",
       "      <th>pixel5</th>\n",
       "      <th>pixel6</th>\n",
       "      <th>pixel7</th>\n",
       "      <th>pixel8</th>\n",
       "      <th>...</th>\n",
       "      <th>pixel774</th>\n",
       "      <th>pixel775</th>\n",
       "      <th>pixel776</th>\n",
       "      <th>pixel777</th>\n",
       "      <th>pixel778</th>\n",
       "      <th>pixel779</th>\n",
       "      <th>pixel780</th>\n",
       "      <th>pixel781</th>\n",
       "      <th>pixel782</th>\n",
       "      <th>pixel783</th>\n",
       "    </tr>\n",
       "  </thead>\n",
       "  <tbody>\n",
       "    <tr>\n",
       "      <th>0</th>\n",
       "      <td>1</td>\n",
       "      <td>0</td>\n",
       "      <td>0</td>\n",
       "      <td>0</td>\n",
       "      <td>0</td>\n",
       "      <td>0</td>\n",
       "      <td>0</td>\n",
       "      <td>0</td>\n",
       "      <td>0</td>\n",
       "      <td>0</td>\n",
       "      <td>...</td>\n",
       "      <td>0</td>\n",
       "      <td>0</td>\n",
       "      <td>0</td>\n",
       "      <td>0</td>\n",
       "      <td>0</td>\n",
       "      <td>0</td>\n",
       "      <td>0</td>\n",
       "      <td>0</td>\n",
       "      <td>0</td>\n",
       "      <td>0</td>\n",
       "    </tr>\n",
       "    <tr>\n",
       "      <th>1</th>\n",
       "      <td>0</td>\n",
       "      <td>0</td>\n",
       "      <td>0</td>\n",
       "      <td>0</td>\n",
       "      <td>0</td>\n",
       "      <td>0</td>\n",
       "      <td>0</td>\n",
       "      <td>0</td>\n",
       "      <td>0</td>\n",
       "      <td>0</td>\n",
       "      <td>...</td>\n",
       "      <td>0</td>\n",
       "      <td>0</td>\n",
       "      <td>0</td>\n",
       "      <td>0</td>\n",
       "      <td>0</td>\n",
       "      <td>0</td>\n",
       "      <td>0</td>\n",
       "      <td>0</td>\n",
       "      <td>0</td>\n",
       "      <td>0</td>\n",
       "    </tr>\n",
       "    <tr>\n",
       "      <th>2</th>\n",
       "      <td>1</td>\n",
       "      <td>0</td>\n",
       "      <td>0</td>\n",
       "      <td>0</td>\n",
       "      <td>0</td>\n",
       "      <td>0</td>\n",
       "      <td>0</td>\n",
       "      <td>0</td>\n",
       "      <td>0</td>\n",
       "      <td>0</td>\n",
       "      <td>...</td>\n",
       "      <td>0</td>\n",
       "      <td>0</td>\n",
       "      <td>0</td>\n",
       "      <td>0</td>\n",
       "      <td>0</td>\n",
       "      <td>0</td>\n",
       "      <td>0</td>\n",
       "      <td>0</td>\n",
       "      <td>0</td>\n",
       "      <td>0</td>\n",
       "    </tr>\n",
       "    <tr>\n",
       "      <th>3</th>\n",
       "      <td>4</td>\n",
       "      <td>0</td>\n",
       "      <td>0</td>\n",
       "      <td>0</td>\n",
       "      <td>0</td>\n",
       "      <td>0</td>\n",
       "      <td>0</td>\n",
       "      <td>0</td>\n",
       "      <td>0</td>\n",
       "      <td>0</td>\n",
       "      <td>...</td>\n",
       "      <td>0</td>\n",
       "      <td>0</td>\n",
       "      <td>0</td>\n",
       "      <td>0</td>\n",
       "      <td>0</td>\n",
       "      <td>0</td>\n",
       "      <td>0</td>\n",
       "      <td>0</td>\n",
       "      <td>0</td>\n",
       "      <td>0</td>\n",
       "    </tr>\n",
       "    <tr>\n",
       "      <th>4</th>\n",
       "      <td>0</td>\n",
       "      <td>0</td>\n",
       "      <td>0</td>\n",
       "      <td>0</td>\n",
       "      <td>0</td>\n",
       "      <td>0</td>\n",
       "      <td>0</td>\n",
       "      <td>0</td>\n",
       "      <td>0</td>\n",
       "      <td>0</td>\n",
       "      <td>...</td>\n",
       "      <td>0</td>\n",
       "      <td>0</td>\n",
       "      <td>0</td>\n",
       "      <td>0</td>\n",
       "      <td>0</td>\n",
       "      <td>0</td>\n",
       "      <td>0</td>\n",
       "      <td>0</td>\n",
       "      <td>0</td>\n",
       "      <td>0</td>\n",
       "    </tr>\n",
       "  </tbody>\n",
       "</table>\n",
       "<p>5 rows × 785 columns</p>\n",
       "</div>"
      ],
      "text/plain": [
       "   label  pixel0  pixel1  pixel2  pixel3  pixel4  pixel5  pixel6  pixel7  \\\n",
       "0      1       0       0       0       0       0       0       0       0   \n",
       "1      0       0       0       0       0       0       0       0       0   \n",
       "2      1       0       0       0       0       0       0       0       0   \n",
       "3      4       0       0       0       0       0       0       0       0   \n",
       "4      0       0       0       0       0       0       0       0       0   \n",
       "\n",
       "   pixel8  ...  pixel774  pixel775  pixel776  pixel777  pixel778  pixel779  \\\n",
       "0       0  ...         0         0         0         0         0         0   \n",
       "1       0  ...         0         0         0         0         0         0   \n",
       "2       0  ...         0         0         0         0         0         0   \n",
       "3       0  ...         0         0         0         0         0         0   \n",
       "4       0  ...         0         0         0         0         0         0   \n",
       "\n",
       "   pixel780  pixel781  pixel782  pixel783  \n",
       "0         0         0         0         0  \n",
       "1         0         0         0         0  \n",
       "2         0         0         0         0  \n",
       "3         0         0         0         0  \n",
       "4         0         0         0         0  \n",
       "\n",
       "[5 rows x 785 columns]"
      ]
     },
     "execution_count": 3,
     "metadata": {},
     "output_type": "execute_result"
    }
   ],
   "source": [
    "train_data.head()"
   ]
  },
  {
   "cell_type": "code",
   "execution_count": 4,
   "id": "9fe81ef1",
   "metadata": {
    "execution": {
     "iopub.execute_input": "2023-10-27T15:03:16.652391Z",
     "iopub.status.busy": "2023-10-27T15:03:16.650646Z",
     "iopub.status.idle": "2023-10-27T15:03:16.661206Z",
     "shell.execute_reply": "2023-10-27T15:03:16.659548Z"
    },
    "papermill": {
     "duration": 0.024897,
     "end_time": "2023-10-27T15:03:16.664468",
     "exception": false,
     "start_time": "2023-10-27T15:03:16.639571",
     "status": "completed"
    },
    "tags": []
   },
   "outputs": [
    {
     "data": {
      "text/plain": [
       "((42000, 785), (28000, 784))"
      ]
     },
     "execution_count": 4,
     "metadata": {},
     "output_type": "execute_result"
    }
   ],
   "source": [
    "train_data.shape, test_data.shape"
   ]
  },
  {
   "cell_type": "markdown",
   "id": "b8890c76",
   "metadata": {
    "papermill": {
     "duration": 0.007701,
     "end_time": "2023-10-27T15:03:16.680441",
     "exception": false,
     "start_time": "2023-10-27T15:03:16.672740",
     "status": "completed"
    },
    "tags": []
   },
   "source": [
    "## Preparing Dataset"
   ]
  },
  {
   "cell_type": "code",
   "execution_count": 5,
   "id": "c5cceb1d",
   "metadata": {
    "execution": {
     "iopub.execute_input": "2023-10-27T15:03:16.698646Z",
     "iopub.status.busy": "2023-10-27T15:03:16.698129Z",
     "iopub.status.idle": "2023-10-27T15:03:16.708515Z",
     "shell.execute_reply": "2023-10-27T15:03:16.707026Z"
    },
    "papermill": {
     "duration": 0.023083,
     "end_time": "2023-10-27T15:03:16.711924",
     "exception": false,
     "start_time": "2023-10-27T15:03:16.688841",
     "status": "completed"
    },
    "tags": []
   },
   "outputs": [
    {
     "data": {
      "text/plain": [
       "((42000, 784), (42000,))"
      ]
     },
     "execution_count": 5,
     "metadata": {},
     "output_type": "execute_result"
    }
   ],
   "source": [
    "X = train_data.values[:, 1:]\n",
    "y = train_data.values[:, 0]\n",
    "X_test = test_data.values\n",
    "X.shape, y.shape"
   ]
  },
  {
   "cell_type": "code",
   "execution_count": 6,
   "id": "033cccb9",
   "metadata": {
    "execution": {
     "iopub.execute_input": "2023-10-27T15:03:16.732365Z",
     "iopub.status.busy": "2023-10-27T15:03:16.731795Z",
     "iopub.status.idle": "2023-10-27T15:03:17.402463Z",
     "shell.execute_reply": "2023-10-27T15:03:17.400276Z"
    },
    "papermill": {
     "duration": 0.685557,
     "end_time": "2023-10-27T15:03:17.405398",
     "exception": false,
     "start_time": "2023-10-27T15:03:16.719841",
     "status": "completed"
    },
    "tags": []
   },
   "outputs": [
    {
     "data": {
      "text/plain": [
       "((33600, 784), (8400, 784), (33600,), (8400,))"
      ]
     },
     "execution_count": 6,
     "metadata": {},
     "output_type": "execute_result"
    }
   ],
   "source": [
    "from sklearn.model_selection import train_test_split\n",
    "\n",
    "X_train, X_val, y_train, y_val = train_test_split(X, y, test_size=0.2, random_state=42)\n",
    "X_train.shape, X_val.shape, y_train.shape, y_val.shape"
   ]
  },
  {
   "cell_type": "code",
   "execution_count": 7,
   "id": "8323dfe7",
   "metadata": {
    "collapsed": false,
    "execution": {
     "iopub.execute_input": "2023-10-27T15:03:17.425042Z",
     "iopub.status.busy": "2023-10-27T15:03:17.424547Z",
     "iopub.status.idle": "2023-10-27T15:03:17.433433Z",
     "shell.execute_reply": "2023-10-27T15:03:17.431824Z"
    },
    "papermill": {
     "duration": 0.022316,
     "end_time": "2023-10-27T15:03:17.436794",
     "exception": false,
     "start_time": "2023-10-27T15:03:17.414478",
     "status": "completed"
    },
    "tags": []
   },
   "outputs": [],
   "source": [
    "class MNISTDataset(Dataset):\n",
    "    def __init__(self, X, y, transform=None):\n",
    "        self.n_samples = X.shape[0]\n",
    "        X = X.reshape(-1, 1, 28, 28) / 255.\n",
    "        self.x_data = torch.from_numpy(X.astype(np.float32))\n",
    "        self.y_data = torch.from_numpy(y)\n",
    "        \n",
    "        self.transform = transform\n",
    "        \n",
    "    def __len__(self):\n",
    "        return self.n_samples\n",
    "    \n",
    "    def __getitem__(self, item):\n",
    "        image, label = self.x_data[item], self.y_data[item]\n",
    "        \n",
    "        if self.transform is not None:\n",
    "            image = self.transform(image)\n",
    "            \n",
    "        return image, label"
   ]
  },
  {
   "cell_type": "code",
   "execution_count": 8,
   "id": "d183417f",
   "metadata": {
    "collapsed": false,
    "execution": {
     "iopub.execute_input": "2023-10-27T15:03:17.456393Z",
     "iopub.status.busy": "2023-10-27T15:03:17.455782Z",
     "iopub.status.idle": "2023-10-27T15:03:17.463732Z",
     "shell.execute_reply": "2023-10-27T15:03:17.462618Z"
    },
    "papermill": {
     "duration": 0.019479,
     "end_time": "2023-10-27T15:03:17.465771",
     "exception": false,
     "start_time": "2023-10-27T15:03:17.446292",
     "status": "completed"
    },
    "tags": []
   },
   "outputs": [],
   "source": [
    "class MNISTDataset_test(Dataset):\n",
    "    def __init__(self, X, transform=None):\n",
    "        self.n_samples = X.shape[0]\n",
    "        X = X.reshape(-1, 1, 28, 28) / 255.\n",
    "        self.x_data = torch.from_numpy(X.astype(np.float32))\n",
    "        \n",
    "        self.transform = transform\n",
    "        \n",
    "    def __len__(self):\n",
    "        return self.n_samples\n",
    "    \n",
    "    def __getitem__(self, item):\n",
    "        sample = self.x_data[item]\n",
    "        \n",
    "        if self.transform is not None:\n",
    "            sample = self.transform(sample)\n",
    "            \n",
    "        return sample"
   ]
  },
  {
   "cell_type": "markdown",
   "id": "75d1d8f6",
   "metadata": {
    "papermill": {
     "duration": 0.007586,
     "end_time": "2023-10-27T15:03:17.481290",
     "exception": false,
     "start_time": "2023-10-27T15:03:17.473704",
     "status": "completed"
    },
    "tags": []
   },
   "source": [
    "## Transformations"
   ]
  },
  {
   "cell_type": "code",
   "execution_count": 9,
   "id": "3f6cf08d",
   "metadata": {
    "collapsed": false,
    "execution": {
     "iopub.execute_input": "2023-10-27T15:03:17.499323Z",
     "iopub.status.busy": "2023-10-27T15:03:17.498818Z",
     "iopub.status.idle": "2023-10-27T15:03:17.514034Z",
     "shell.execute_reply": "2023-10-27T15:03:17.512428Z"
    },
    "papermill": {
     "duration": 0.026836,
     "end_time": "2023-10-27T15:03:17.516197",
     "exception": false,
     "start_time": "2023-10-27T15:03:17.489361",
     "status": "completed"
    },
    "tags": []
   },
   "outputs": [
    {
     "name": "stderr",
     "output_type": "stream",
     "text": [
      "/tmp/ipykernel_20/1988255430.py:1: DeprecationWarning: Please use `gaussian_filter` from the `scipy.ndimage` namespace, the `scipy.ndimage.filters` namespace is deprecated.\n",
      "  from scipy.ndimage.filters import gaussian_filter\n",
      "/tmp/ipykernel_20/1988255430.py:2: DeprecationWarning: Please use `map_coordinates` from the `scipy.ndimage` namespace, the `scipy.ndimage.interpolation` namespace is deprecated.\n",
      "  from scipy.ndimage.interpolation import map_coordinates\n"
     ]
    }
   ],
   "source": [
    "from scipy.ndimage.filters import gaussian_filter\n",
    "from scipy.ndimage.interpolation import map_coordinates\n",
    "\n",
    "def elastic_transform(image, alpha_range, sigma, random_state=None):\n",
    "    \"\"\"\n",
    "    # Arguments\n",
    "       image: Numpy array with shape (height, width, channels). \n",
    "       alpha_range: Float for fixed value or [lower, upper] for random value from uniform distribution.\n",
    "           Controls intensity of deformation.\n",
    "       sigma: Float, sigma of gaussian filter that smooths the displacement fields.\n",
    "       random_state: `numpy.random.RandomState` object for generating displacement fields.\n",
    "    \"\"\"\n",
    "\n",
    "    if random_state is None:\n",
    "        random_state = np.random.RandomState(None)\n",
    "    \n",
    "    if np.isscalar(alpha_range):\n",
    "        alpha = alpha_range\n",
    "    else:\n",
    "        alpha = np.random.uniform(low=alpha_range[0], high=alpha_range[1])\n",
    "    \n",
    "    shape = image.shape\n",
    "    dx = gaussian_filter((random_state.rand(*shape) * 2 - 1), sigma) * alpha\n",
    "    dy = gaussian_filter((random_state.rand(*shape) * 2 - 1), sigma) * alpha\n",
    "    \n",
    "    x, y, z = np.meshgrid(np.arange(shape[0]), np.arange(shape[1]), np.arange(shape[2]), indexing='ij')\n",
    "    indices = np.reshape(x + dx, (-1, 1)), np.reshape(y + dy, (-1, 1)), np.reshape(z, (-1, 1))\n",
    "    \n",
    "    return torch.from_numpy(map_coordinates(image, indices, order=1, mode='reflect').reshape(1, 28, 28)).to(device, torch.float32)"
   ]
  },
  {
   "cell_type": "code",
   "execution_count": 10,
   "id": "1d75ba85",
   "metadata": {
    "collapsed": false,
    "execution": {
     "iopub.execute_input": "2023-10-27T15:03:17.534520Z",
     "iopub.status.busy": "2023-10-27T15:03:17.534074Z",
     "iopub.status.idle": "2023-10-27T15:03:17.540355Z",
     "shell.execute_reply": "2023-10-27T15:03:17.538816Z"
    },
    "papermill": {
     "duration": 0.018985,
     "end_time": "2023-10-27T15:03:17.543420",
     "exception": false,
     "start_time": "2023-10-27T15:03:17.524435",
     "status": "completed"
    },
    "tags": []
   },
   "outputs": [],
   "source": [
    "transform_train = transforms.Compose([\n",
    "    transforms.ToPILImage(),\n",
    "    transforms.RandomRotation(10),  # Randomly rotate by up to 10 degrees\n",
    "    transforms.RandomAffine(degrees=0, translate=(0.1, 0.1), scale=(0.9, 1.1)),  # Randomly zoom and shift\n",
    "    transforms.Lambda(lambda x: elastic_transform(np.array(x).reshape(28, 28, 1), alpha_range=[0, 10], sigma=3)),\n",
    "#     transforms.ToTensor()\n",
    "])"
   ]
  },
  {
   "cell_type": "code",
   "execution_count": 11,
   "id": "5bd8d888",
   "metadata": {
    "collapsed": false,
    "execution": {
     "iopub.execute_input": "2023-10-27T15:03:17.562127Z",
     "iopub.status.busy": "2023-10-27T15:03:17.561653Z",
     "iopub.status.idle": "2023-10-27T15:03:17.566451Z",
     "shell.execute_reply": "2023-10-27T15:03:17.564904Z"
    },
    "papermill": {
     "duration": 0.016984,
     "end_time": "2023-10-27T15:03:17.568539",
     "exception": false,
     "start_time": "2023-10-27T15:03:17.551555",
     "status": "completed"
    },
    "tags": []
   },
   "outputs": [],
   "source": [
    "batch_size = 128\n",
    "num_classes = 10 "
   ]
  },
  {
   "cell_type": "code",
   "execution_count": 12,
   "id": "2a31f1aa",
   "metadata": {
    "collapsed": false,
    "execution": {
     "iopub.execute_input": "2023-10-27T15:03:17.587395Z",
     "iopub.status.busy": "2023-10-27T15:03:17.586611Z",
     "iopub.status.idle": "2023-10-27T15:03:17.894231Z",
     "shell.execute_reply": "2023-10-27T15:03:17.892391Z"
    },
    "papermill": {
     "duration": 0.320956,
     "end_time": "2023-10-27T15:03:17.897616",
     "exception": false,
     "start_time": "2023-10-27T15:03:17.576660",
     "status": "completed"
    },
    "tags": []
   },
   "outputs": [],
   "source": [
    "train_dataset = MNISTDataset(X_train, y_train)\n",
    "val_dataset = MNISTDataset(X_val, y_val)\n",
    "\n",
    "full_train_dataset = MNISTDataset(X, y)\n",
    "test_dataset = MNISTDataset_test(X_test)"
   ]
  },
  {
   "cell_type": "code",
   "execution_count": 13,
   "id": "52b2b87e",
   "metadata": {
    "execution": {
     "iopub.execute_input": "2023-10-27T15:03:17.917673Z",
     "iopub.status.busy": "2023-10-27T15:03:17.917114Z",
     "iopub.status.idle": "2023-10-27T15:03:17.928342Z",
     "shell.execute_reply": "2023-10-27T15:03:17.926384Z"
    },
    "papermill": {
     "duration": 0.024354,
     "end_time": "2023-10-27T15:03:17.931484",
     "exception": false,
     "start_time": "2023-10-27T15:03:17.907130",
     "status": "completed"
    },
    "tags": []
   },
   "outputs": [
    {
     "data": {
      "text/plain": [
       "263"
      ]
     },
     "execution_count": 13,
     "metadata": {},
     "output_type": "execute_result"
    }
   ],
   "source": [
    "train_loader = DataLoader(dataset=train_dataset, batch_size=batch_size, shuffle=True)\n",
    "val_loader = DataLoader(dataset=val_dataset, batch_size=batch_size, shuffle=True)\n",
    "\n",
    "full_train_loader = DataLoader(dataset=full_train_dataset, batch_size=batch_size, shuffle=True)\n",
    "test_loader = DataLoader(dataset=test_dataset, batch_size=batch_size, shuffle=False)"
   ]
  },
  {
   "cell_type": "code",
   "execution_count": 14,
   "id": "6ec9745a",
   "metadata": {
    "execution": {
     "iopub.execute_input": "2023-10-27T15:03:17.953650Z",
     "iopub.status.busy": "2023-10-27T15:03:17.951895Z",
     "iopub.status.idle": "2023-10-27T15:03:18.044347Z",
     "shell.execute_reply": "2023-10-27T15:03:18.042134Z"
    },
    "papermill": {
     "duration": 0.106289,
     "end_time": "2023-10-27T15:03:18.047275",
     "exception": false,
     "start_time": "2023-10-27T15:03:17.940986",
     "status": "completed"
    },
    "tags": []
   },
   "outputs": [
    {
     "data": {
      "text/plain": [
       "(torch.Size([128, 1, 28, 28]), torch.Size([128]))"
      ]
     },
     "execution_count": 14,
     "metadata": {},
     "output_type": "execute_result"
    }
   ],
   "source": [
    "images, labels = next(iter(train_loader))\n",
    "images.shape, labels.shape"
   ]
  },
  {
   "cell_type": "markdown",
   "id": "daa89bc3",
   "metadata": {
    "papermill": {
     "duration": 0.008032,
     "end_time": "2023-10-27T15:03:18.063657",
     "exception": false,
     "start_time": "2023-10-27T15:03:18.055625",
     "status": "completed"
    },
    "tags": []
   },
   "source": [
    "## Training Models"
   ]
  },
  {
   "cell_type": "code",
   "execution_count": 15,
   "id": "ed0c3273",
   "metadata": {
    "collapsed": false,
    "execution": {
     "iopub.execute_input": "2023-10-27T15:03:18.083943Z",
     "iopub.status.busy": "2023-10-27T15:03:18.082732Z",
     "iopub.status.idle": "2023-10-27T15:03:18.096388Z",
     "shell.execute_reply": "2023-10-27T15:03:18.094470Z"
    },
    "papermill": {
     "duration": 0.027434,
     "end_time": "2023-10-27T15:03:18.099291",
     "exception": false,
     "start_time": "2023-10-27T15:03:18.071857",
     "status": "completed"
    },
    "tags": []
   },
   "outputs": [],
   "source": [
    "def train_model(model, criterion, optimizer, num_epochs, train_loader=train_loader, val_loader=None, scheduler=None):\n",
    "    steps_per_epoch = len(train_loader)\n",
    "    for epoch in range(num_epochs):\n",
    "\n",
    "        running_loss = 0.0\n",
    "        running_corrects = 0\n",
    "        running_corrects_val = 0\n",
    "            \n",
    "        for i, (images, labels) in enumerate(train_loader):\n",
    "            images = images.to(device)\n",
    "            labels = labels.to(device)            \n",
    "            \n",
    "            optimizer.zero_grad()\n",
    "            output = model(images)\n",
    "            loss = criterion(output, labels)\n",
    "            loss.backward()\n",
    "            optimizer.step()\n",
    "            \n",
    "            with torch.no_grad():\n",
    "                _, predictions = torch.max(output, 1)\n",
    "                corrects = (predictions == labels).sum().item()\n",
    "                running_corrects += corrects\n",
    "                \n",
    "                running_loss += loss.item()\n",
    "                \n",
    "            writer.add_scalar('train_loss', loss, epoch*steps_per_epoch + i)\n",
    "            writer.add_scalar('train_accuracy', corrects/labels.shape[0], epoch*steps_per_epoch + i)\n",
    "        \n",
    "        epoch_loss = running_loss / steps_per_epoch\n",
    "        epoch_acc = running_corrects*100/len(train_loader)/batch_size\n",
    "\n",
    "        print(f'epoch {epoch+1}/{num_epochs}, loss {epoch_loss:.4f}, training accuracy {epoch_acc:.2f}%', end='')\n",
    "                \n",
    "        if val_loader is not None:\n",
    "            for i, (images, labels) in enumerate(val_loader):\n",
    "                images = images.to(device)\n",
    "                labels = labels.to(device)\n",
    "                \n",
    "                with torch.no_grad():\n",
    "                    output = model(images)\n",
    "                    _, predictions = torch.max(output, 1)\n",
    "                    corrects = (predictions == labels).sum().item()\n",
    "                    running_corrects_val += corrects\n",
    "                    \n",
    "                writer.add_scalar('val_accuracy', corrects/labels.shape[0], epoch*len(val_loader) + i)\n",
    "                    \n",
    "            epoch_val_acc = running_corrects_val*100/len(val_loader)/batch_size\n",
    "            print(f', validation accuracy {epoch_val_acc:.2f}%')\n",
    "        else:\n",
    "            print()\n",
    "                \n",
    "        if scheduler is not None:\n",
    "            scheduler.step()\n",
    "            \n",
    "    writer.flush()\n",
    "    writer.close()\n",
    "            "
   ]
  },
  {
   "cell_type": "code",
   "execution_count": 16,
   "id": "b66e1b15",
   "metadata": {
    "collapsed": false,
    "execution": {
     "iopub.execute_input": "2023-10-27T15:03:18.121550Z",
     "iopub.status.busy": "2023-10-27T15:03:18.119956Z",
     "iopub.status.idle": "2023-10-27T15:03:18.130132Z",
     "shell.execute_reply": "2023-10-27T15:03:18.127239Z"
    },
    "papermill": {
     "duration": 0.025449,
     "end_time": "2023-10-27T15:03:18.133791",
     "exception": false,
     "start_time": "2023-10-27T15:03:18.108342",
     "status": "completed"
    },
    "tags": []
   },
   "outputs": [],
   "source": [
    "from sklearn.metrics import classification_report, confusion_matrix\n",
    "\n",
    "def validate_model(model, val_loader=val_loader):\n",
    "    \n",
    "    y_true = []\n",
    "    y_pred = []\n",
    "    \n",
    "    with torch.no_grad():\n",
    "        for images, labels in val_loader:\n",
    "            images = images.to(device)\n",
    "            \n",
    "            output = model(images) \n",
    "            _, predictions = torch.max(output, 1)\n",
    "            \n",
    "            y_true.extend(labels.cpu().tolist())\n",
    "            y_pred.extend(predictions.cpu().tolist())\n",
    "            \n",
    "    print(classification_report(y_true, y_pred))\n",
    "    cm = confusion_matrix(y_true, y_pred, normalize='true')\n",
    "    sns.heatmap(cm)"
   ]
  },
  {
   "cell_type": "code",
   "execution_count": 17,
   "id": "24f4d8bc",
   "metadata": {
    "collapsed": false,
    "execution": {
     "iopub.execute_input": "2023-10-27T15:03:18.152534Z",
     "iopub.status.busy": "2023-10-27T15:03:18.152064Z",
     "iopub.status.idle": "2023-10-27T15:03:18.161789Z",
     "shell.execute_reply": "2023-10-27T15:03:18.159392Z"
    },
    "papermill": {
     "duration": 0.023127,
     "end_time": "2023-10-27T15:03:18.165268",
     "exception": false,
     "start_time": "2023-10-27T15:03:18.142141",
     "status": "completed"
    },
    "tags": []
   },
   "outputs": [],
   "source": [
    "def test_model(model, test_loader=test_loader, y_true=None):\n",
    "    \n",
    "    y_pred = []\n",
    "    \n",
    "    with torch.no_grad():\n",
    "        for images in test_loader:\n",
    "            images = images.to(device)\n",
    "            \n",
    "            output = model(images) \n",
    "            _, predictions = torch.max(output, 1)\n",
    "            \n",
    "            y_pred.extend(predictions.cpu().tolist())\n",
    "        \n",
    "    if y_true is not None:\n",
    "        print(classification_report(y_true, y_pred))\n",
    "        cm = confusion_matrix(y_true, y_pred, normalize='true')\n",
    "        sns.heatmap(cm, annot=True)\n",
    "    else:\n",
    "        return y_pred "
   ]
  },
  {
   "cell_type": "code",
   "execution_count": 18,
   "id": "fd8dec45",
   "metadata": {
    "collapsed": false,
    "execution": {
     "iopub.execute_input": "2023-10-27T15:03:18.185055Z",
     "iopub.status.busy": "2023-10-27T15:03:18.184559Z",
     "iopub.status.idle": "2023-10-27T15:03:18.198614Z",
     "shell.execute_reply": "2023-10-27T15:03:18.196525Z"
    },
    "papermill": {
     "duration": 0.028762,
     "end_time": "2023-10-27T15:03:18.202375",
     "exception": false,
     "start_time": "2023-10-27T15:03:18.173613",
     "status": "completed"
    },
    "tags": []
   },
   "outputs": [],
   "source": [
    "class LinearNet(nn.Module):\n",
    "    def __init__(self, in_features=784):\n",
    "        super().__init__()\n",
    "        self.fc = nn.Linear(in_features, num_classes)\n",
    "        \n",
    "    def forward(self, x):\n",
    "        x = x.flatten(start_dim=1)\n",
    "        x = self.fc(x)\n",
    "        return x\n",
    "    \n",
    "class LinearNet2(nn.Module):\n",
    "    def __init__(self, in_features=784, hidden_layer=256):\n",
    "        super().__init__()\n",
    "        self.fc = nn.Sequential(\n",
    "            nn.Linear(in_features, hidden_layer),\n",
    "            nn.BatchNorm1d(hidden_layer),\n",
    "            nn.ReLU(),\n",
    "            nn.Linear(hidden_layer, hidden_layer),\n",
    "            nn.BatchNorm1d(hidden_layer),\n",
    "            nn.ReLU(),\n",
    "            nn.Linear(hidden_layer, num_classes)\n",
    "        )\n",
    "        \n",
    "    def forward(self, x):\n",
    "        x = x.flatten(start_dim=1)\n",
    "        return self.fc(x)\n",
    "    \n",
    "class ConvNet(nn.Module):\n",
    "    def __init__(self):\n",
    "        super().__init__()\n",
    "        self.net = nn.Sequential(\n",
    "        )\n",
    "\n",
    "    def forward(self, x):\n",
    "        return self.fc(x)\n",
    "\n",
    "class LeNet(nn.Module):\n",
    "    def __init__(self):\n",
    "        super().__init__()\n",
    "        self.net = nn.Sequential(\n",
    "            nn.LazyConv2d(6, kernel_size=5, padding=2), nn.ReLU(),\n",
    "            nn.AvgPool2d(kernel_size=2, stride=2),\n",
    "            nn.LazyConv2d(16, kernel_size=5), nn.ReLU(),\n",
    "            nn.AvgPool2d(kernel_size=2, stride=2),\n",
    "            nn.Flatten(),\n",
    "            nn.LazyLinear(128), nn.ReLU(),\n",
    "            nn.LazyLinear(64), nn.ReLU(),\n",
    "            nn.LazyLinear(num_classes))\n",
    "        \n",
    "    def forward(self, x):\n",
    "        return self.net(x)\n"
   ]
  },
  {
   "cell_type": "markdown",
   "id": "9b2ae0dc",
   "metadata": {
    "papermill": {
     "duration": 0.009984,
     "end_time": "2023-10-27T15:03:18.225307",
     "exception": false,
     "start_time": "2023-10-27T15:03:18.215323",
     "status": "completed"
    },
    "tags": []
   },
   "source": [
    "## Comparing Results of Different Models and optimizers"
   ]
  },
  {
   "cell_type": "code",
   "execution_count": 19,
   "id": "5e6003d3",
   "metadata": {
    "collapsed": false,
    "execution": {
     "iopub.execute_input": "2023-10-27T15:03:18.245037Z",
     "iopub.status.busy": "2023-10-27T15:03:18.244394Z",
     "iopub.status.idle": "2023-10-27T15:04:25.886861Z",
     "shell.execute_reply": "2023-10-27T15:04:25.885035Z"
    },
    "papermill": {
     "duration": 67.655069,
     "end_time": "2023-10-27T15:04:25.889111",
     "exception": false,
     "start_time": "2023-10-27T15:03:18.234042",
     "status": "completed"
    },
    "tags": []
   },
   "outputs": [
    {
     "name": "stderr",
     "output_type": "stream",
     "text": [
      "/opt/conda/lib/python3.10/site-packages/torch/nn/modules/lazy.py:180: UserWarning: Lazy modules are a new feature under heavy development so changes to the API or functionality can happen at any moment.\n",
      "  warnings.warn('Lazy modules are a new feature under heavy development '\n"
     ]
    },
    {
     "name": "stdout",
     "output_type": "stream",
     "text": [
      "epoch 1/15, loss 0.3841, training accuracy 87.53%, validation accuracy 95.82%\n",
      "epoch 2/15, loss 0.0897, training accuracy 97.07%, validation accuracy 96.28%\n",
      "epoch 3/15, loss 0.0664, training accuracy 97.80%, validation accuracy 97.60%\n",
      "epoch 4/15, loss 0.0508, training accuracy 98.25%, validation accuracy 97.43%\n",
      "epoch 5/15, loss 0.0420, training accuracy 98.47%, validation accuracy 96.79%\n",
      "epoch 6/15, loss 0.0358, training accuracy 98.67%, validation accuracy 97.31%\n",
      "epoch 7/15, loss 0.0319, training accuracy 98.85%, validation accuracy 98.13%\n",
      "epoch 8/15, loss 0.0289, training accuracy 98.86%, validation accuracy 97.95%\n",
      "epoch 9/15, loss 0.0228, training accuracy 99.09%, validation accuracy 98.22%\n",
      "epoch 10/15, loss 0.0223, training accuracy 99.06%, validation accuracy 97.93%\n",
      "epoch 11/15, loss 0.0190, training accuracy 99.14%, validation accuracy 98.09%\n",
      "epoch 12/15, loss 0.0185, training accuracy 99.18%, validation accuracy 98.04%\n",
      "epoch 13/15, loss 0.0181, training accuracy 99.26%, validation accuracy 98.25%\n",
      "epoch 14/15, loss 0.0177, training accuracy 99.23%, validation accuracy 98.26%\n",
      "epoch 15/15, loss 0.0142, training accuracy 99.36%, validation accuracy 98.17%\n"
     ]
    }
   ],
   "source": [
    "lr = 4e-3\n",
    "epochs = 15\n",
    "# model = LinearNet2().to(device)\n",
    "model = LeNet().to(device)\n",
    "optimizer = optim.Adam(model.parameters(), lr=lr)\n",
    "criterion = nn.CrossEntropyLoss()\n",
    "\n",
    "train_model(model, criterion, optimizer, num_epochs=epochs, val_loader=val_loader)"
   ]
  },
  {
   "cell_type": "code",
   "execution_count": 20,
   "id": "bbe54bc3",
   "metadata": {
    "collapsed": false,
    "execution": {
     "iopub.execute_input": "2023-10-27T15:04:25.911476Z",
     "iopub.status.busy": "2023-10-27T15:04:25.911015Z",
     "iopub.status.idle": "2023-10-27T15:04:26.614193Z",
     "shell.execute_reply": "2023-10-27T15:04:26.611603Z"
    },
    "papermill": {
     "duration": 0.718964,
     "end_time": "2023-10-27T15:04:26.618180",
     "exception": false,
     "start_time": "2023-10-27T15:04:25.899216",
     "status": "completed"
    },
    "tags": []
   },
   "outputs": [
    {
     "name": "stdout",
     "output_type": "stream",
     "text": [
      "              precision    recall  f1-score   support\n",
      "\n",
      "           0       1.00      0.99      1.00       816\n",
      "           1       1.00      0.99      0.99       909\n",
      "           2       0.97      1.00      0.98       846\n",
      "           3       0.99      0.99      0.99       937\n",
      "           4       0.99      0.98      0.99       839\n",
      "           5       0.98      0.99      0.99       702\n",
      "           6       0.98      0.99      0.99       785\n",
      "           7       0.99      0.97      0.98       893\n",
      "           8       0.98      0.98      0.98       835\n",
      "           9       0.98      0.99      0.98       838\n",
      "\n",
      "    accuracy                           0.99      8400\n",
      "   macro avg       0.99      0.99      0.99      8400\n",
      "weighted avg       0.99      0.99      0.99      8400\n"
     ]
    },
    {
     "data": {
      "image/png": "[encoded data removed]",
      "text/plain": [
       "<Figure size 640x480 with 2 Axes>"
      ]
     },
     "metadata": {},
     "output_type": "display_data"
    }
   ],
   "source": [
    "validate_model(model)"
   ]
  },
  {
   "cell_type": "markdown",
   "id": "7174ef45",
   "metadata": {
    "papermill": {
     "duration": 0.00976,
     "end_time": "2023-10-27T15:04:26.638355",
     "exception": false,
     "start_time": "2023-10-27T15:04:26.628595",
     "status": "completed"
    },
    "tags": []
   },
   "source": [
    "## Final Training and Submission"
   ]
  },
  {
   "cell_type": "code",
   "execution_count": 21,
   "id": "640745dc",
   "metadata": {
    "collapsed": false,
    "execution": {
     "iopub.execute_input": "2023-10-27T15:04:26.662238Z",
     "iopub.status.busy": "2023-10-27T15:04:26.661694Z",
     "iopub.status.idle": "2023-10-27T15:05:49.990387Z",
     "shell.execute_reply": "2023-10-27T15:05:49.988895Z"
    },
    "papermill": {
     "duration": 83.343765,
     "end_time": "2023-10-27T15:05:49.993380",
     "exception": false,
     "start_time": "2023-10-27T15:04:26.649615",
     "status": "completed"
    },
    "tags": []
   },
   "outputs": [
    {
     "name": "stderr",
     "output_type": "stream",
     "text": [
      "/opt/conda/lib/python3.10/site-packages/torch/nn/modules/lazy.py:180: UserWarning: Lazy modules are a new feature under heavy development so changes to the API or functionality can happen at any moment.\n",
      "  warnings.warn('Lazy modules are a new feature under heavy development '\n"
     ]
    },
    {
     "name": "stdout",
     "output_type": "stream",
     "text": [
      "epoch 1/15, loss 0.4992, training accuracy 86.53%\n",
      "epoch 2/15, loss 0.1047, training accuracy 97.16%\n",
      "epoch 3/15, loss 0.0751, training accuracy 97.88%\n",
      "epoch 4/15, loss 0.0596, training accuracy 98.30%\n",
      "epoch 5/15, loss 0.0455, training accuracy 98.56%\n",
      "epoch 6/15, loss 0.0442, training accuracy 98.61%\n",
      "epoch 7/15, loss 0.0347, training accuracy 98.86%\n",
      "epoch 8/15, loss 0.0339, training accuracy 98.82%\n",
      "epoch 9/15, loss 0.0313, training accuracy 98.97%\n",
      "epoch 10/15, loss 0.0244, training accuracy 99.14%\n",
      "epoch 11/15, loss 0.0238, training accuracy 99.12%\n",
      "epoch 12/15, loss 0.0254, training accuracy 99.08%\n",
      "epoch 13/15, loss 0.0210, training accuracy 99.19%\n",
      "epoch 14/15, loss 0.0183, training accuracy 99.29%\n",
      "epoch 15/15, loss 0.0220, training accuracy 99.18%\n"
     ]
    }
   ],
   "source": [
    "# best_model = LinearNet2().to(device)\n",
    "best_model = LeNet().to(device)\n",
    "optimizer = optim.Adam(best_model.parameters(), lr=lr)\n",
    "criterion = nn.CrossEntropyLoss()\n",
    "\n",
    "train_model(best_model, criterion, optimizer, num_epochs=epochs, train_loader=full_train_loader)"
   ]
  },
  {
   "cell_type": "code",
   "execution_count": 22,
   "id": "8c7bdefe",
   "metadata": {
    "collapsed": false,
    "execution": {
     "iopub.execute_input": "2023-10-27T15:05:50.020529Z",
     "iopub.status.busy": "2023-10-27T15:05:50.020045Z",
     "iopub.status.idle": "2023-10-27T15:05:50.027408Z",
     "shell.execute_reply": "2023-10-27T15:05:50.025271Z"
    },
    "papermill": {
     "duration": 0.024551,
     "end_time": "2023-10-27T15:05:50.030600",
     "exception": false,
     "start_time": "2023-10-27T15:05:50.006049",
     "status": "completed"
    },
    "tags": []
   },
   "outputs": [],
   "source": [
    "def submit_prediction(y_pred, name='submission'):\n",
    "    submission = pd.DataFrame({'ImageId': range(1, len(y_pred)+1), 'Label': y_pred})\n",
    "    submission.to_csv(f'/kaggle/working/{name}.csv', index=False)"
   ]
  },
  {
   "cell_type": "code",
   "execution_count": 23,
   "id": "cc37d9d2",
   "metadata": {
    "collapsed": false,
    "execution": {
     "iopub.execute_input": "2023-10-27T15:05:50.057122Z",
     "iopub.status.busy": "2023-10-27T15:05:50.056674Z",
     "iopub.status.idle": "2023-10-27T15:05:51.081648Z",
     "shell.execute_reply": "2023-10-27T15:05:51.079030Z"
    },
    "papermill": {
     "duration": 1.042284,
     "end_time": "2023-10-27T15:05:51.085343",
     "exception": false,
     "start_time": "2023-10-27T15:05:50.043059",
     "status": "completed"
    },
    "tags": []
   },
   "outputs": [],
   "source": [
    "y_pred = test_model(best_model)\n",
    "submit_prediction(y_pred)"
   ]
  }
 ],
 "metadata": {
  "kernelspec": {
   "display_name": "Python 3",
   "language": "python",
   "name": "python3"
  },
  "language_info": {
   "codemirror_mode": {
    "name": "ipython",
    "version": 3
   },
   "file_extension": ".py",
   "mimetype": "text/x-python",
   "name": "python",
   "nbconvert_exporter": "python",
   "pygments_lexer": "ipython3",
   "version": "3.10.12"
  },
  "papermill": {
   "default_parameters": {},
   "duration": 184.542115,
   "end_time": "2023-10-27T15:05:54.597710",
   "environment_variables": {},
   "exception": null,
   "input_path": "__notebook__.ipynb",
   "output_path": "__notebook__.ipynb",
   "parameters": {},
   "start_time": "2023-10-27T15:02:50.055595",
   "version": "2.4.0"
  }
 },
 "nbformat": 4,
 "nbformat_minor": 5
}
