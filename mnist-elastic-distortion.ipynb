{
 "cells": [
  {
   "cell_type": "markdown",
   "id": "126d91e0",
   "metadata": {
    "papermill": {
     "duration": 0.010616,
     "end_time": "2023-10-27T14:49:24.229903",
     "exception": false,
     "start_time": "2023-10-27T14:49:24.219287",
     "status": "completed"
    },
    "tags": []
   },
   "source": [
    "# MNIST Digit Recognition with higher accuracy using Elastic Distortion"
   ]
  },
  {
   "cell_type": "markdown",
   "id": "072cdb65",
   "metadata": {
    "papermill": {
     "duration": 0.010502,
     "end_time": "2023-10-27T14:49:24.250693",
     "exception": false,
     "start_time": "2023-10-27T14:49:24.240191",
     "status": "completed"
    },
    "tags": []
   },
   "source": [
    "## Imports"
   ]
  },
  {
   "cell_type": "code",
   "execution_count": 1,
   "id": "cad9101c",
   "metadata": {
    "execution": {
     "iopub.execute_input": "2023-10-27T14:49:24.273377Z",
     "iopub.status.busy": "2023-10-27T14:49:24.272648Z",
     "iopub.status.idle": "2023-10-27T14:49:42.627531Z",
     "shell.execute_reply": "2023-10-27T14:49:42.626359Z"
    },
    "papermill": {
     "duration": 18.36926,
     "end_time": "2023-10-27T14:49:42.630139",
     "exception": false,
     "start_time": "2023-10-27T14:49:24.260879",
     "status": "completed"
    },
    "tags": []
   },
   "outputs": [
    {
     "data": {
      "text/plain": [
       "device(type='cpu')"
      ]
     },
     "execution_count": 1,
     "metadata": {},
     "output_type": "execute_result"
    }
   ],
   "source": [
    "import time\n",
    "import os\n",
    "\n",
    "import numpy as np\n",
    "import pandas as pd\n",
    "import matplotlib.pyplot as plt\n",
    "import seaborn as sns\n",
    "\n",
    "import torch\n",
    "import torch.nn as nn\n",
    "import torch.nn.functional as F\n",
    "\n",
    "import torch.optim as optim\n",
    "from torch.optim import lr_scheduler\n",
    "from torch.utils.data import Dataset, DataLoader, TensorDataset\n",
    "\n",
    "import torchvision\n",
    "from torchvision import transforms\n",
    "from torchvision import datasets, models, transforms\n",
    "\n",
    "from torch.utils.tensorboard import SummaryWriter\n",
    "\n",
    "from PIL import Image\n",
    "from tempfile import TemporaryDirectory\n",
    "\n",
    "writer = SummaryWriter('/kaggle/working/logs')\n",
    "# %load_ext tensorboard.notebook\n",
    "# %tensorboard --logdir /kaggle/working/logs\n",
    "\n",
    "device = torch.device('cpu')\n",
    "device"
   ]
  },
  {
   "cell_type": "code",
   "execution_count": 2,
   "id": "fdd46c5a",
   "metadata": {
    "execution": {
     "iopub.execute_input": "2023-10-27T14:49:42.653573Z",
     "iopub.status.busy": "2023-10-27T14:49:42.652404Z",
     "iopub.status.idle": "2023-10-27T14:49:49.552542Z",
     "shell.execute_reply": "2023-10-27T14:49:49.551122Z"
    },
    "papermill": {
     "duration": 6.915492,
     "end_time": "2023-10-27T14:49:49.555993",
     "exception": false,
     "start_time": "2023-10-27T14:49:42.640501",
     "status": "completed"
    },
    "tags": []
   },
   "outputs": [
    {
     "name": "stdout",
     "output_type": "stream",
     "text": [
      "<class 'pandas.core.frame.DataFrame'>\n",
      "RangeIndex: 42000 entries, 0 to 41999\n",
      "Columns: 785 entries, label to pixel783\n",
      "dtypes: int64(785)\n",
      "memory usage: 251.5 MB\n"
     ]
    }
   ],
   "source": [
    "# PATH_TO_DATA = 'Datasets/'\n",
    "PATH_TO_DATA = '/kaggle/input/digit-recognizer/'\n",
    "train_data = pd.read_csv(os.path.join(PATH_TO_DATA, 'train.csv'))\n",
    "test_data = pd.read_csv(os.path.join(PATH_TO_DATA, 'test.csv'))\n",
    "\n",
    "train_data.info()"
   ]
  },
  {
   "cell_type": "code",
   "execution_count": 3,
   "id": "1372ed7f",
   "metadata": {
    "execution": {
     "iopub.execute_input": "2023-10-27T14:49:49.579871Z",
     "iopub.status.busy": "2023-10-27T14:49:49.579431Z",
     "iopub.status.idle": "2023-10-27T14:49:49.614924Z",
     "shell.execute_reply": "2023-10-27T14:49:49.613578Z"
    },
    "papermill": {
     "duration": 0.051048,
     "end_time": "2023-10-27T14:49:49.618410",
     "exception": false,
     "start_time": "2023-10-27T14:49:49.567362",
     "status": "completed"
    },
    "tags": []
   },
   "outputs": [
    {
     "data": {
      "text/html": [
       "<div>\n",
       "<style scoped>\n",
       "    .dataframe tbody tr th:only-of-type {\n",
       "        vertical-align: middle;\n",
       "    }\n",
       "\n",
       "    .dataframe tbody tr th {\n",
       "        vertical-align: top;\n",
       "    }\n",
       "\n",
       "    .dataframe thead th {\n",
       "        text-align: right;\n",
       "    }\n",
       "</style>\n",
       "<table border=\"1\" class=\"dataframe\">\n",
       "  <thead>\n",
       "    <tr style=\"text-align: right;\">\n",
       "      <th></th>\n",
       "      <th>label</th>\n",
       "      <th>pixel0</th>\n",
       "      <th>pixel1</th>\n",
       "      <th>pixel2</th>\n",
       "      <th>pixel3</th>\n",
       "      <th>pixel4</th>\n",
       "      <th>pixel5</th>\n",
       "      <th>pixel6</th>\n",
       "      <th>pixel7</th>\n",
       "      <th>pixel8</th>\n",
       "      <th>...</th>\n",
       "      <th>pixel774</th>\n",
       "      <th>pixel775</th>\n",
       "      <th>pixel776</th>\n",
       "      <th>pixel777</th>\n",
       "      <th>pixel778</th>\n",
       "      <th>pixel779</th>\n",
       "      <th>pixel780</th>\n",
       "      <th>pixel781</th>\n",
       "      <th>pixel782</th>\n",
       "      <th>pixel783</th>\n",
       "    </tr>\n",
       "  </thead>\n",
       "  <tbody>\n",
       "    <tr>\n",
       "      <th>0</th>\n",
       "      <td>1</td>\n",
       "      <td>0</td>\n",
       "      <td>0</td>\n",
       "      <td>0</td>\n",
       "      <td>0</td>\n",
       "      <td>0</td>\n",
       "      <td>0</td>\n",
       "      <td>0</td>\n",
       "      <td>0</td>\n",
       "      <td>0</td>\n",
       "      <td>...</td>\n",
       "      <td>0</td>\n",
       "      <td>0</td>\n",
       "      <td>0</td>\n",
       "      <td>0</td>\n",
       "      <td>0</td>\n",
       "      <td>0</td>\n",
       "      <td>0</td>\n",
       "      <td>0</td>\n",
       "      <td>0</td>\n",
       "      <td>0</td>\n",
       "    </tr>\n",
       "    <tr>\n",
       "      <th>1</th>\n",
       "      <td>0</td>\n",
       "      <td>0</td>\n",
       "      <td>0</td>\n",
       "      <td>0</td>\n",
       "      <td>0</td>\n",
       "      <td>0</td>\n",
       "      <td>0</td>\n",
       "      <td>0</td>\n",
       "      <td>0</td>\n",
       "      <td>0</td>\n",
       "      <td>...</td>\n",
       "      <td>0</td>\n",
       "      <td>0</td>\n",
       "      <td>0</td>\n",
       "      <td>0</td>\n",
       "      <td>0</td>\n",
       "      <td>0</td>\n",
       "      <td>0</td>\n",
       "      <td>0</td>\n",
       "      <td>0</td>\n",
       "      <td>0</td>\n",
       "    </tr>\n",
       "    <tr>\n",
       "      <th>2</th>\n",
       "      <td>1</td>\n",
       "      <td>0</td>\n",
       "      <td>0</td>\n",
       "      <td>0</td>\n",
       "      <td>0</td>\n",
       "      <td>0</td>\n",
       "      <td>0</td>\n",
       "      <td>0</td>\n",
       "      <td>0</td>\n",
       "      <td>0</td>\n",
       "      <td>...</td>\n",
       "      <td>0</td>\n",
       "      <td>0</td>\n",
       "      <td>0</td>\n",
       "      <td>0</td>\n",
       "      <td>0</td>\n",
       "      <td>0</td>\n",
       "      <td>0</td>\n",
       "      <td>0</td>\n",
       "      <td>0</td>\n",
       "      <td>0</td>\n",
       "    </tr>\n",
       "    <tr>\n",
       "      <th>3</th>\n",
       "      <td>4</td>\n",
       "      <td>0</td>\n",
       "      <td>0</td>\n",
       "      <td>0</td>\n",
       "      <td>0</td>\n",
       "      <td>0</td>\n",
       "      <td>0</td>\n",
       "      <td>0</td>\n",
       "      <td>0</td>\n",
       "      <td>0</td>\n",
       "      <td>...</td>\n",
       "      <td>0</td>\n",
       "      <td>0</td>\n",
       "      <td>0</td>\n",
       "      <td>0</td>\n",
       "      <td>0</td>\n",
       "      <td>0</td>\n",
       "      <td>0</td>\n",
       "      <td>0</td>\n",
       "      <td>0</td>\n",
       "      <td>0</td>\n",
       "    </tr>\n",
       "    <tr>\n",
       "      <th>4</th>\n",
       "      <td>0</td>\n",
       "      <td>0</td>\n",
       "      <td>0</td>\n",
       "      <td>0</td>\n",
       "      <td>0</td>\n",
       "      <td>0</td>\n",
       "      <td>0</td>\n",
       "      <td>0</td>\n",
       "      <td>0</td>\n",
       "      <td>0</td>\n",
       "      <td>...</td>\n",
       "      <td>0</td>\n",
       "      <td>0</td>\n",
       "      <td>0</td>\n",
       "      <td>0</td>\n",
       "      <td>0</td>\n",
       "      <td>0</td>\n",
       "      <td>0</td>\n",
       "      <td>0</td>\n",
       "      <td>0</td>\n",
       "      <td>0</td>\n",
       "    </tr>\n",
       "  </tbody>\n",
       "</table>\n",
       "<p>5 rows × 785 columns</p>\n",
       "</div>"
      ],
      "text/plain": [
       "   label  pixel0  pixel1  pixel2  pixel3  pixel4  pixel5  pixel6  pixel7  \\\n",
       "0      1       0       0       0       0       0       0       0       0   \n",
       "1      0       0       0       0       0       0       0       0       0   \n",
       "2      1       0       0       0       0       0       0       0       0   \n",
       "3      4       0       0       0       0       0       0       0       0   \n",
       "4      0       0       0       0       0       0       0       0       0   \n",
       "\n",
       "   pixel8  ...  pixel774  pixel775  pixel776  pixel777  pixel778  pixel779  \\\n",
       "0       0  ...         0         0         0         0         0         0   \n",
       "1       0  ...         0         0         0         0         0         0   \n",
       "2       0  ...         0         0         0         0         0         0   \n",
       "3       0  ...         0         0         0         0         0         0   \n",
       "4       0  ...         0         0         0         0         0         0   \n",
       "\n",
       "   pixel780  pixel781  pixel782  pixel783  \n",
       "0         0         0         0         0  \n",
       "1         0         0         0         0  \n",
       "2         0         0         0         0  \n",
       "3         0         0         0         0  \n",
       "4         0         0         0         0  \n",
       "\n",
       "[5 rows x 785 columns]"
      ]
     },
     "execution_count": 3,
     "metadata": {},
     "output_type": "execute_result"
    }
   ],
   "source": [
    "train_data.head()"
   ]
  },
  {
   "cell_type": "code",
   "execution_count": 4,
   "id": "dcea7621",
   "metadata": {
    "execution": {
     "iopub.execute_input": "2023-10-27T14:49:49.653917Z",
     "iopub.status.busy": "2023-10-27T14:49:49.653422Z",
     "iopub.status.idle": "2023-10-27T14:49:49.662279Z",
     "shell.execute_reply": "2023-10-27T14:49:49.660908Z"
    },
    "papermill": {
     "duration": 0.031937,
     "end_time": "2023-10-27T14:49:49.665983",
     "exception": false,
     "start_time": "2023-10-27T14:49:49.634046",
     "status": "completed"
    },
    "tags": []
   },
   "outputs": [
    {
     "data": {
      "text/plain": [
       "((42000, 785), (28000, 784))"
      ]
     },
     "execution_count": 4,
     "metadata": {},
     "output_type": "execute_result"
    }
   ],
   "source": [
    "train_data.shape, test_data.shape"
   ]
  },
  {
   "cell_type": "markdown",
   "id": "915ade79",
   "metadata": {
    "papermill": {
     "duration": 0.013059,
     "end_time": "2023-10-27T14:49:49.695304",
     "exception": false,
     "start_time": "2023-10-27T14:49:49.682245",
     "status": "completed"
    },
    "tags": []
   },
   "source": [
    "## Preparing Dataset"
   ]
  },
  {
   "cell_type": "code",
   "execution_count": 5,
   "id": "8480b6a9",
   "metadata": {
    "execution": {
     "iopub.execute_input": "2023-10-27T14:49:49.720461Z",
     "iopub.status.busy": "2023-10-27T14:49:49.720063Z",
     "iopub.status.idle": "2023-10-27T14:49:49.728445Z",
     "shell.execute_reply": "2023-10-27T14:49:49.727248Z"
    },
    "papermill": {
     "duration": 0.023509,
     "end_time": "2023-10-27T14:49:49.731000",
     "exception": false,
     "start_time": "2023-10-27T14:49:49.707491",
     "status": "completed"
    },
    "tags": []
   },
   "outputs": [
    {
     "data": {
      "text/plain": [
       "((42000, 784), (42000,))"
      ]
     },
     "execution_count": 5,
     "metadata": {},
     "output_type": "execute_result"
    }
   ],
   "source": [
    "X = train_data.values[:, 1:]\n",
    "y = train_data.values[:, 0]\n",
    "X_test = test_data.values\n",
    "X.shape, y.shape"
   ]
  },
  {
   "cell_type": "code",
   "execution_count": 6,
   "id": "65f5052f",
   "metadata": {
    "execution": {
     "iopub.execute_input": "2023-10-27T14:49:49.755130Z",
     "iopub.status.busy": "2023-10-27T14:49:49.754737Z",
     "iopub.status.idle": "2023-10-27T14:49:50.540126Z",
     "shell.execute_reply": "2023-10-27T14:49:50.538539Z"
    },
    "papermill": {
     "duration": 0.801027,
     "end_time": "2023-10-27T14:49:50.543120",
     "exception": false,
     "start_time": "2023-10-27T14:49:49.742093",
     "status": "completed"
    },
    "tags": []
   },
   "outputs": [
    {
     "data": {
      "text/plain": [
       "((33600, 784), (8400, 784), (33600,), (8400,))"
      ]
     },
     "execution_count": 6,
     "metadata": {},
     "output_type": "execute_result"
    }
   ],
   "source": [
    "from sklearn.model_selection import train_test_split\n",
    "\n",
    "X_train, X_val, y_train, y_val = train_test_split(X, y, test_size=0.2, random_state=42)\n",
    "X_train.shape, X_val.shape, y_train.shape, y_val.shape"
   ]
  },
  {
   "cell_type": "code",
   "execution_count": 7,
   "id": "e52d78ec",
   "metadata": {
    "collapsed": false,
    "execution": {
     "iopub.execute_input": "2023-10-27T14:49:50.567913Z",
     "iopub.status.busy": "2023-10-27T14:49:50.567461Z",
     "iopub.status.idle": "2023-10-27T14:49:50.576276Z",
     "shell.execute_reply": "2023-10-27T14:49:50.574991Z"
    },
    "jupyter": {
     "outputs_hidden": false
    },
    "papermill": {
     "duration": 0.024435,
     "end_time": "2023-10-27T14:49:50.579039",
     "exception": false,
     "start_time": "2023-10-27T14:49:50.554604",
     "status": "completed"
    },
    "tags": []
   },
   "outputs": [],
   "source": [
    "class MNISTDataset(Dataset):\n",
    "    def __init__(self, X, y, transform=None):\n",
    "        self.n_samples = X.shape[0]\n",
    "        X = X.reshape(-1, 1, 28, 28) / 255.\n",
    "        self.x_data = torch.from_numpy(X.astype(np.float32))\n",
    "        self.y_data = torch.from_numpy(y)\n",
    "        \n",
    "        self.transform = transform\n",
    "        \n",
    "    def __len__(self):\n",
    "        return self.n_samples\n",
    "    \n",
    "    def __getitem__(self, item):\n",
    "        image, label = self.x_data[item], self.y_data[item]\n",
    "        \n",
    "        if self.transform is not None:\n",
    "            image = self.transform(image)\n",
    "            \n",
    "        return image, label"
   ]
  },
  {
   "cell_type": "code",
   "execution_count": 8,
   "id": "6de3d2d9",
   "metadata": {
    "collapsed": false,
    "execution": {
     "iopub.execute_input": "2023-10-27T14:49:50.604678Z",
     "iopub.status.busy": "2023-10-27T14:49:50.604275Z",
     "iopub.status.idle": "2023-10-27T14:49:50.612313Z",
     "shell.execute_reply": "2023-10-27T14:49:50.611289Z"
    },
    "jupyter": {
     "outputs_hidden": false
    },
    "papermill": {
     "duration": 0.023693,
     "end_time": "2023-10-27T14:49:50.614961",
     "exception": false,
     "start_time": "2023-10-27T14:49:50.591268",
     "status": "completed"
    },
    "tags": []
   },
   "outputs": [],
   "source": [
    "class MNISTDataset_test(Dataset):\n",
    "    def __init__(self, X, transform=None):\n",
    "        self.n_samples = X.shape[0]\n",
    "        X = X.reshape(-1, 1, 28, 28) / 255.\n",
    "        self.x_data = torch.from_numpy(X.astype(np.float32))\n",
    "        \n",
    "        self.transform = transform\n",
    "        \n",
    "    def __len__(self):\n",
    "        return self.n_samples\n",
    "    \n",
    "    def __getitem__(self, item):\n",
    "        sample = self.x_data[item]\n",
    "        \n",
    "        if self.transform is not None:\n",
    "            sample = self.transform(sample)\n",
    "            \n",
    "        return sample"
   ]
  },
  {
   "cell_type": "markdown",
   "id": "51ce181f",
   "metadata": {
    "papermill": {
     "duration": 0.012437,
     "end_time": "2023-10-27T14:49:50.639467",
     "exception": false,
     "start_time": "2023-10-27T14:49:50.627030",
     "status": "completed"
    },
    "tags": []
   },
   "source": [
    "## Transformations"
   ]
  },
  {
   "cell_type": "code",
   "execution_count": 9,
   "id": "d9acf57f",
   "metadata": {
    "collapsed": false,
    "execution": {
     "iopub.execute_input": "2023-10-27T14:49:50.667151Z",
     "iopub.status.busy": "2023-10-27T14:49:50.665967Z",
     "iopub.status.idle": "2023-10-27T14:49:50.679938Z",
     "shell.execute_reply": "2023-10-27T14:49:50.678695Z"
    },
    "jupyter": {
     "outputs_hidden": false
    },
    "papermill": {
     "duration": 0.030362,
     "end_time": "2023-10-27T14:49:50.683017",
     "exception": false,
     "start_time": "2023-10-27T14:49:50.652655",
     "status": "completed"
    },
    "tags": []
   },
   "outputs": [
    {
     "name": "stderr",
     "output_type": "stream",
     "text": [
      "/tmp/ipykernel_20/1988255430.py:1: DeprecationWarning: Please use `gaussian_filter` from the `scipy.ndimage` namespace, the `scipy.ndimage.filters` namespace is deprecated.\n",
      "  from scipy.ndimage.filters import gaussian_filter\n",
      "/tmp/ipykernel_20/1988255430.py:2: DeprecationWarning: Please use `map_coordinates` from the `scipy.ndimage` namespace, the `scipy.ndimage.interpolation` namespace is deprecated.\n",
      "  from scipy.ndimage.interpolation import map_coordinates\n"
     ]
    }
   ],
   "source": [
    "from scipy.ndimage.filters import gaussian_filter\n",
    "from scipy.ndimage.interpolation import map_coordinates\n",
    "\n",
    "def elastic_transform(image, alpha_range, sigma, random_state=None):\n",
    "    \"\"\"\n",
    "    # Arguments\n",
    "       image: Numpy array with shape (height, width, channels). \n",
    "       alpha_range: Float for fixed value or [lower, upper] for random value from uniform distribution.\n",
    "           Controls intensity of deformation.\n",
    "       sigma: Float, sigma of gaussian filter that smooths the displacement fields.\n",
    "       random_state: `numpy.random.RandomState` object for generating displacement fields.\n",
    "    \"\"\"\n",
    "\n",
    "    if random_state is None:\n",
    "        random_state = np.random.RandomState(None)\n",
    "    \n",
    "    if np.isscalar(alpha_range):\n",
    "        alpha = alpha_range\n",
    "    else:\n",
    "        alpha = np.random.uniform(low=alpha_range[0], high=alpha_range[1])\n",
    "    \n",
    "    shape = image.shape\n",
    "    dx = gaussian_filter((random_state.rand(*shape) * 2 - 1), sigma) * alpha\n",
    "    dy = gaussian_filter((random_state.rand(*shape) * 2 - 1), sigma) * alpha\n",
    "    \n",
    "    x, y, z = np.meshgrid(np.arange(shape[0]), np.arange(shape[1]), np.arange(shape[2]), indexing='ij')\n",
    "    indices = np.reshape(x + dx, (-1, 1)), np.reshape(y + dy, (-1, 1)), np.reshape(z, (-1, 1))\n",
    "    \n",
    "    return torch.from_numpy(map_coordinates(image, indices, order=1, mode='reflect').reshape(1, 28, 28)).to(device, torch.float32)"
   ]
  },
  {
   "cell_type": "code",
   "execution_count": 10,
   "id": "b0ec2dca",
   "metadata": {
    "collapsed": false,
    "execution": {
     "iopub.execute_input": "2023-10-27T14:49:50.708239Z",
     "iopub.status.busy": "2023-10-27T14:49:50.707845Z",
     "iopub.status.idle": "2023-10-27T14:49:50.715552Z",
     "shell.execute_reply": "2023-10-27T14:49:50.714343Z"
    },
    "jupyter": {
     "outputs_hidden": false
    },
    "papermill": {
     "duration": 0.023435,
     "end_time": "2023-10-27T14:49:50.718232",
     "exception": false,
     "start_time": "2023-10-27T14:49:50.694797",
     "status": "completed"
    },
    "tags": []
   },
   "outputs": [],
   "source": [
    "transform_train = transforms.Compose([\n",
    "    transforms.ToPILImage(),\n",
    "    transforms.RandomRotation(10),  # Randomly rotate by up to 10 degrees\n",
    "    transforms.RandomAffine(degrees=0, translate=(0.1, 0.1), scale=(0.9, 1.1)),  # Randomly zoom and shift\n",
    "    transforms.Lambda(lambda x: elastic_transform(np.array(x).reshape(28, 28, 1), alpha_range=[0, 10], sigma=3)),\n",
    "#     transforms.ToTensor()\n",
    "])"
   ]
  },
  {
   "cell_type": "code",
   "execution_count": 11,
   "id": "ca87c344",
   "metadata": {
    "collapsed": false,
    "execution": {
     "iopub.execute_input": "2023-10-27T14:49:50.743318Z",
     "iopub.status.busy": "2023-10-27T14:49:50.742922Z",
     "iopub.status.idle": "2023-10-27T14:49:50.748462Z",
     "shell.execute_reply": "2023-10-27T14:49:50.747081Z"
    },
    "jupyter": {
     "outputs_hidden": false
    },
    "papermill": {
     "duration": 0.020993,
     "end_time": "2023-10-27T14:49:50.751183",
     "exception": false,
     "start_time": "2023-10-27T14:49:50.730190",
     "status": "completed"
    },
    "tags": []
   },
   "outputs": [],
   "source": [
    "batch_size = 128\n",
    "num_classes = 10 "
   ]
  },
  {
   "cell_type": "code",
   "execution_count": 12,
   "id": "2de76a8c",
   "metadata": {
    "collapsed": false,
    "execution": {
     "iopub.execute_input": "2023-10-27T14:49:50.776050Z",
     "iopub.status.busy": "2023-10-27T14:49:50.775604Z",
     "iopub.status.idle": "2023-10-27T14:49:51.316738Z",
     "shell.execute_reply": "2023-10-27T14:49:51.315329Z"
    },
    "jupyter": {
     "outputs_hidden": false
    },
    "papermill": {
     "duration": 0.556728,
     "end_time": "2023-10-27T14:49:51.319598",
     "exception": false,
     "start_time": "2023-10-27T14:49:50.762870",
     "status": "completed"
    },
    "tags": []
   },
   "outputs": [],
   "source": [
    "train_dataset = MNISTDataset(X_train, y_train)\n",
    "val_dataset = MNISTDataset(X_val, y_val)\n",
    "\n",
    "full_train_dataset = MNISTDataset(X, y)\n",
    "test_dataset = MNISTDataset_test(X_test)"
   ]
  },
  {
   "cell_type": "code",
   "execution_count": 13,
   "id": "e7ed7236",
   "metadata": {
    "execution": {
     "iopub.execute_input": "2023-10-27T14:49:51.344432Z",
     "iopub.status.busy": "2023-10-27T14:49:51.344009Z",
     "iopub.status.idle": "2023-10-27T14:49:51.353592Z",
     "shell.execute_reply": "2023-10-27T14:49:51.352769Z"
    },
    "papermill": {
     "duration": 0.024852,
     "end_time": "2023-10-27T14:49:51.355912",
     "exception": false,
     "start_time": "2023-10-27T14:49:51.331060",
     "status": "completed"
    },
    "tags": []
   },
   "outputs": [
    {
     "data": {
      "text/plain": [
       "263"
      ]
     },
     "execution_count": 13,
     "metadata": {},
     "output_type": "execute_result"
    }
   ],
   "source": [
    "train_loader = DataLoader(dataset=train_dataset, batch_size=batch_size, shuffle=True)\n",
    "val_loader = DataLoader(dataset=val_dataset, batch_size=batch_size, shuffle=True)\n",
    "\n",
    "full_train_loader = DataLoader(dataset=full_train_dataset, batch_size=batch_size, shuffle=True)\n",
    "test_loader = DataLoader(dataset=test_dataset, batch_size=batch_size, shuffle=False)\n",
    "\n",
    "steps_per_epoch = len(train_loader)\n",
    "steps_per_epoch"
   ]
  },
  {
   "cell_type": "code",
   "execution_count": 14,
   "id": "b6851210",
   "metadata": {
    "execution": {
     "iopub.execute_input": "2023-10-27T14:49:51.380791Z",
     "iopub.status.busy": "2023-10-27T14:49:51.380338Z",
     "iopub.status.idle": "2023-10-27T14:49:51.483245Z",
     "shell.execute_reply": "2023-10-27T14:49:51.481949Z"
    },
    "papermill": {
     "duration": 0.118389,
     "end_time": "2023-10-27T14:49:51.485901",
     "exception": false,
     "start_time": "2023-10-27T14:49:51.367512",
     "status": "completed"
    },
    "tags": []
   },
   "outputs": [
    {
     "data": {
      "text/plain": [
       "(torch.Size([128, 1, 28, 28]), torch.Size([128]))"
      ]
     },
     "execution_count": 14,
     "metadata": {},
     "output_type": "execute_result"
    }
   ],
   "source": [
    "images, labels = next(iter(train_loader))\n",
    "images.shape, labels.shape"
   ]
  },
  {
   "cell_type": "markdown",
   "id": "4423879a",
   "metadata": {
    "papermill": {
     "duration": 0.011249,
     "end_time": "2023-10-27T14:49:51.508777",
     "exception": false,
     "start_time": "2023-10-27T14:49:51.497528",
     "status": "completed"
    },
    "tags": []
   },
   "source": [
    "## Training Models"
   ]
  },
  {
   "cell_type": "code",
   "execution_count": 15,
   "id": "144fa942",
   "metadata": {
    "collapsed": false,
    "execution": {
     "iopub.execute_input": "2023-10-27T14:49:51.534207Z",
     "iopub.status.busy": "2023-10-27T14:49:51.533821Z",
     "iopub.status.idle": "2023-10-27T14:49:51.549509Z",
     "shell.execute_reply": "2023-10-27T14:49:51.548113Z"
    },
    "jupyter": {
     "outputs_hidden": false
    },
    "papermill": {
     "duration": 0.031789,
     "end_time": "2023-10-27T14:49:51.552168",
     "exception": false,
     "start_time": "2023-10-27T14:49:51.520379",
     "status": "completed"
    },
    "tags": []
   },
   "outputs": [],
   "source": [
    "def train_model(model, criterion, optimizer, num_epochs, train_loader=train_loader, val_loader=None, scheduler=None):\n",
    "    for epoch in range(num_epochs):\n",
    "\n",
    "        running_loss = 0.0\n",
    "        running_corrects = 0\n",
    "        running_corrects_val = 0\n",
    "            \n",
    "        for i, (images, labels) in enumerate(train_loader):\n",
    "            images = images.to(device)\n",
    "            labels = labels.to(device)            \n",
    "            \n",
    "            optimizer.zero_grad()\n",
    "            output = model(images)\n",
    "            loss = criterion(output, labels)\n",
    "            loss.backward()\n",
    "            optimizer.step()\n",
    "            \n",
    "            with torch.no_grad():\n",
    "                _, predictions = torch.max(output, 1)\n",
    "                corrects = (predictions == labels).sum().item()\n",
    "                running_corrects += corrects\n",
    "                \n",
    "                running_loss += loss.item()\n",
    "                \n",
    "            writer.add_scalar('train_loss', loss, epoch*steps_per_epoch + i)\n",
    "            writer.add_scalar('train_accuracy', corrects/labels.shape[0], epoch*steps_per_epoch + i)\n",
    "        \n",
    "        epoch_loss = running_loss / steps_per_epoch\n",
    "        epoch_acc = running_corrects*100/len(train_loader)/batch_size\n",
    "\n",
    "        print(f'epoch {epoch+1}/{num_epochs}, loss {epoch_loss:.4f}, training accuracy {epoch_acc:.2f}%', end='')\n",
    "                \n",
    "        if val_loader is not None:\n",
    "            for i, (images, labels) in enumerate(val_loader):\n",
    "                images = images.to(device)\n",
    "                labels = labels.to(device)\n",
    "                \n",
    "                with torch.no_grad():\n",
    "                    output = model(images)\n",
    "                    _, predictions = torch.max(output, 1)\n",
    "                    corrects = (predictions == labels).sum().item()\n",
    "                    running_corrects_val += corrects\n",
    "                    \n",
    "                writer.add_scalar('val_accuracy', corrects/labels.shape[0], epoch*steps_per_epoch + i)\n",
    "                    \n",
    "            epoch_val_acc = running_corrects_val*100/len(val_loader)/batch_size\n",
    "            print(f', validation accuracy {epoch_val_acc:.2f}%')\n",
    "        else:\n",
    "            print()\n",
    "                \n",
    "        if scheduler is not None:\n",
    "            scheduler.step()\n",
    "            \n",
    "    writer.flush()\n",
    "    writer.close()\n",
    "            "
   ]
  },
  {
   "cell_type": "code",
   "execution_count": 16,
   "id": "ffce79b4",
   "metadata": {
    "collapsed": false,
    "execution": {
     "iopub.execute_input": "2023-10-27T14:49:51.577438Z",
     "iopub.status.busy": "2023-10-27T14:49:51.577023Z",
     "iopub.status.idle": "2023-10-27T14:49:51.585226Z",
     "shell.execute_reply": "2023-10-27T14:49:51.584151Z"
    },
    "jupyter": {
     "outputs_hidden": false
    },
    "papermill": {
     "duration": 0.023489,
     "end_time": "2023-10-27T14:49:51.587379",
     "exception": false,
     "start_time": "2023-10-27T14:49:51.563890",
     "status": "completed"
    },
    "tags": []
   },
   "outputs": [],
   "source": [
    "from sklearn.metrics import classification_report, confusion_matrix\n",
    "\n",
    "def validate_model(model, val_loader=val_loader):\n",
    "    \n",
    "    y_true = []\n",
    "    y_pred = []\n",
    "    \n",
    "    with torch.no_grad():\n",
    "        for images, labels in val_loader:\n",
    "            images = images.to(device)\n",
    "            \n",
    "            output = model(images) \n",
    "            _, predictions = torch.max(output, 1)\n",
    "            \n",
    "            y_true.extend(labels.cpu().tolist())\n",
    "            y_pred.extend(predictions.cpu().tolist())\n",
    "            \n",
    "    print(classification_report(y_true, y_pred))\n",
    "    cm = confusion_matrix(y_true, y_pred, normalize='true')\n",
    "    sns.heatmap(cm)"
   ]
  },
  {
   "cell_type": "code",
   "execution_count": 17,
   "id": "9e4a4ee2",
   "metadata": {
    "collapsed": false,
    "execution": {
     "iopub.execute_input": "2023-10-27T14:49:51.612493Z",
     "iopub.status.busy": "2023-10-27T14:49:51.612097Z",
     "iopub.status.idle": "2023-10-27T14:49:51.619417Z",
     "shell.execute_reply": "2023-10-27T14:49:51.618567Z"
    },
    "jupyter": {
     "outputs_hidden": false
    },
    "papermill": {
     "duration": 0.02269,
     "end_time": "2023-10-27T14:49:51.621762",
     "exception": false,
     "start_time": "2023-10-27T14:49:51.599072",
     "status": "completed"
    },
    "tags": []
   },
   "outputs": [],
   "source": [
    "def test_model(model, test_loader=test_loader, y_true=None):\n",
    "    \n",
    "    y_pred = []\n",
    "    \n",
    "    with torch.no_grad():\n",
    "        for images in test_loader:\n",
    "            images = images.to(device)\n",
    "            \n",
    "            output = model(images) \n",
    "            _, predictions = torch.max(output, 1)\n",
    "            \n",
    "            y_pred.extend(predictions.cpu().tolist())\n",
    "        \n",
    "    if y_true is not None:\n",
    "        print(classification_report(y_true, y_pred))\n",
    "        cm = confusion_matrix(y_true, y_pred, normalize='true')\n",
    "        sns.heatmap(cm, annot=True)\n",
    "    else:\n",
    "        return y_pred "
   ]
  },
  {
   "cell_type": "code",
   "execution_count": 18,
   "id": "62bf5fe8",
   "metadata": {
    "collapsed": false,
    "execution": {
     "iopub.execute_input": "2023-10-27T14:49:51.647058Z",
     "iopub.status.busy": "2023-10-27T14:49:51.646669Z",
     "iopub.status.idle": "2023-10-27T14:49:51.662415Z",
     "shell.execute_reply": "2023-10-27T14:49:51.661356Z"
    },
    "jupyter": {
     "outputs_hidden": false
    },
    "papermill": {
     "duration": 0.031454,
     "end_time": "2023-10-27T14:49:51.665033",
     "exception": false,
     "start_time": "2023-10-27T14:49:51.633579",
     "status": "completed"
    },
    "tags": []
   },
   "outputs": [],
   "source": [
    "class LinearNet(nn.Module):\n",
    "    def __init__(self, in_features=784):\n",
    "        super().__init__()\n",
    "        self.fc = nn.Linear(in_features, num_classes)\n",
    "        \n",
    "    def forward(self, x):\n",
    "        x = x.flatten(start_dim=1)\n",
    "        x = self.fc(x)\n",
    "        return x\n",
    "    \n",
    "class LinearNet2(nn.Module):\n",
    "    def __init__(self, in_features=784, hidden_layer=256):\n",
    "        super().__init__()\n",
    "        self.fc = nn.Sequential(\n",
    "            nn.Linear(in_features, hidden_layer),\n",
    "            nn.BatchNorm1d(hidden_layer),\n",
    "            nn.ReLU(),\n",
    "            nn.Linear(hidden_layer, hidden_layer),\n",
    "            nn.BatchNorm1d(hidden_layer),\n",
    "            nn.ReLU(),\n",
    "            nn.Linear(hidden_layer, num_classes)\n",
    "        )\n",
    "        \n",
    "    def forward(self, x):\n",
    "        x = x.flatten(start_dim=1)\n",
    "        return self.fc(x)\n",
    "    \n",
    "class ConvNet(nn.Module):\n",
    "    def __init__(self):\n",
    "        super().__init__()\n",
    "        self.net = nn.Sequential(\n",
    "        )\n",
    "\n",
    "    def forward(self, x):\n",
    "        return self.fc(x)\n",
    "\n",
    "class LeNet(nn.Module):\n",
    "    def __init__(self):\n",
    "        super().__init__()\n",
    "        self.net = nn.Sequential(\n",
    "            nn.LazyConv2d(6, kernel_size=5, padding=2), nn.ReLU(),\n",
    "            nn.AvgPool2d(kernel_size=2, stride=2),\n",
    "            nn.LazyConv2d(16, kernel_size=5), nn.ReLU(),\n",
    "            nn.AvgPool2d(kernel_size=2, stride=2),\n",
    "            nn.Flatten(),\n",
    "            nn.LazyLinear(128), nn.ReLU(),\n",
    "            nn.LazyLinear(64), nn.ReLU(),\n",
    "            nn.LazyLinear(num_classes))\n",
    "        \n",
    "    def forward(self, x):\n",
    "        return self.net(x)\n"
   ]
  },
  {
   "cell_type": "markdown",
   "id": "4d08e684",
   "metadata": {
    "papermill": {
     "duration": 0.011825,
     "end_time": "2023-10-27T14:49:51.688698",
     "exception": false,
     "start_time": "2023-10-27T14:49:51.676873",
     "status": "completed"
    },
    "tags": []
   },
   "source": [
    "## Comparing Results of Different Models and optimizers"
   ]
  },
  {
   "cell_type": "code",
   "execution_count": 19,
   "id": "4a86224d",
   "metadata": {
    "collapsed": false,
    "execution": {
     "iopub.execute_input": "2023-10-27T14:49:51.714235Z",
     "iopub.status.busy": "2023-10-27T14:49:51.713487Z",
     "iopub.status.idle": "2023-10-27T14:51:45.878388Z",
     "shell.execute_reply": "2023-10-27T14:51:45.877179Z"
    },
    "jupyter": {
     "outputs_hidden": false
    },
    "papermill": {
     "duration": 114.180663,
     "end_time": "2023-10-27T14:51:45.881025",
     "exception": false,
     "start_time": "2023-10-27T14:49:51.700362",
     "status": "completed"
    },
    "tags": []
   },
   "outputs": [
    {
     "name": "stderr",
     "output_type": "stream",
     "text": [
      "/opt/conda/lib/python3.10/site-packages/torch/nn/modules/lazy.py:180: UserWarning: Lazy modules are a new feature under heavy development so changes to the API or functionality can happen at any moment.\n",
      "  warnings.warn('Lazy modules are a new feature under heavy development '\n"
     ]
    },
    {
     "name": "stdout",
     "output_type": "stream",
     "text": [
      "epoch 1/20, loss 0.6857, training accuracy 78.64%, validation accuracy 89.39%\n",
      "epoch 2/20, loss 0.2401, training accuracy 92.50%, validation accuracy 93.76%\n",
      "epoch 3/20, loss 0.1509, training accuracy 95.20%, validation accuracy 95.61%\n",
      "epoch 4/20, loss 0.1062, training accuracy 96.48%, validation accuracy 96.38%\n",
      "epoch 5/20, loss 0.0886, training accuracy 97.02%, validation accuracy 96.28%\n",
      "epoch 6/20, loss 0.0730, training accuracy 97.53%, validation accuracy 97.01%\n",
      "epoch 7/20, loss 0.0619, training accuracy 97.92%, validation accuracy 97.31%\n",
      "epoch 8/20, loss 0.0560, training accuracy 98.11%, validation accuracy 97.56%\n",
      "epoch 9/20, loss 0.0494, training accuracy 98.29%, validation accuracy 97.42%\n",
      "epoch 10/20, loss 0.0440, training accuracy 98.46%, validation accuracy 97.64%\n",
      "epoch 11/20, loss 0.0415, training accuracy 98.49%, validation accuracy 97.62%\n",
      "epoch 12/20, loss 0.0365, training accuracy 98.69%, validation accuracy 97.75%\n",
      "epoch 13/20, loss 0.0347, training accuracy 98.73%, validation accuracy 97.55%\n",
      "epoch 14/20, loss 0.0306, training accuracy 98.82%, validation accuracy 97.88%\n",
      "epoch 15/20, loss 0.0267, training accuracy 98.97%, validation accuracy 97.80%\n",
      "epoch 16/20, loss 0.0255, training accuracy 98.98%, validation accuracy 97.82%\n",
      "epoch 17/20, loss 0.0236, training accuracy 99.06%, validation accuracy 98.06%\n",
      "epoch 18/20, loss 0.0214, training accuracy 99.14%, validation accuracy 97.86%\n",
      "epoch 19/20, loss 0.0200, training accuracy 99.12%, validation accuracy 97.86%\n",
      "epoch 20/20, loss 0.0191, training accuracy 99.17%, validation accuracy 97.90%\n"
     ]
    }
   ],
   "source": [
    "lr = 1e-3\n",
    "# model = LinearNet2().to(device)\n",
    "model = LeNet().to(device)\n",
    "optimizer = optim.Adam(model.parameters(), lr=lr)\n",
    "criterion = nn.CrossEntropyLoss()\n",
    "\n",
    "train_model(model, criterion, optimizer, num_epochs=20, val_loader=val_loader)"
   ]
  },
  {
   "cell_type": "code",
   "execution_count": 20,
   "id": "64d4b042",
   "metadata": {
    "collapsed": false,
    "execution": {
     "iopub.execute_input": "2023-10-27T14:51:45.914022Z",
     "iopub.status.busy": "2023-10-27T14:51:45.912868Z",
     "iopub.status.idle": "2023-10-27T14:51:46.856834Z",
     "shell.execute_reply": "2023-10-27T14:51:46.855546Z"
    },
    "jupyter": {
     "outputs_hidden": false
    },
    "papermill": {
     "duration": 0.963291,
     "end_time": "2023-10-27T14:51:46.859534",
     "exception": false,
     "start_time": "2023-10-27T14:51:45.896243",
     "status": "completed"
    },
    "tags": []
   },
   "outputs": [
    {
     "name": "stdout",
     "output_type": "stream",
     "text": [
      "              precision    recall  f1-score   support\n",
      "\n",
      "           0       0.99      1.00      0.99       816\n",
      "           1       0.99      0.99      0.99       909\n",
      "           2       0.99      0.98      0.98       846\n",
      "           3       0.99      0.98      0.98       937\n",
      "           4       0.99      0.99      0.99       839\n",
      "           5       0.98      0.97      0.98       702\n",
      "           6       0.97      1.00      0.98       785\n",
      "           7       1.00      0.98      0.99       893\n",
      "           8       0.97      0.99      0.98       835\n",
      "           9       0.98      0.98      0.98       838\n",
      "\n",
      "    accuracy                           0.98      8400\n",
      "   macro avg       0.98      0.98      0.98      8400\n",
      "weighted avg       0.98      0.98      0.98      8400\n",
      "\n"
     ]
    },
    {
     "data": {
      "image/png": "[encoded data removed]",
      "text/plain": [
       "<Figure size 640x480 with 2 Axes>"
      ]
     },
     "metadata": {},
     "output_type": "display_data"
    }
   ],
   "source": [
    "validate_model(model)"
   ]
  },
  {
   "cell_type": "markdown",
   "id": "7f4ea358",
   "metadata": {
    "papermill": {
     "duration": 0.015564,
     "end_time": "2023-10-27T14:51:46.891517",
     "exception": false,
     "start_time": "2023-10-27T14:51:46.875953",
     "status": "completed"
    },
    "tags": []
   },
   "source": [
    "## Final Training and Submission"
   ]
  },
  {
   "cell_type": "code",
   "execution_count": 21,
   "id": "1a23dd2e",
   "metadata": {
    "collapsed": false,
    "execution": {
     "iopub.execute_input": "2023-10-27T14:51:46.993513Z",
     "iopub.status.busy": "2023-10-27T14:51:46.993120Z",
     "iopub.status.idle": "2023-10-27T14:55:12.669446Z",
     "shell.execute_reply": "2023-10-27T14:55:12.663251Z"
    },
    "jupyter": {
     "outputs_hidden": false
    },
    "papermill": {
     "duration": 205.778658,
     "end_time": "2023-10-27T14:55:12.686258",
     "exception": false,
     "start_time": "2023-10-27T14:51:46.907600",
     "status": "completed"
    },
    "tags": []
   },
   "outputs": [
    {
     "name": "stderr",
     "output_type": "stream",
     "text": [
      "/opt/conda/lib/python3.10/site-packages/torch/nn/modules/lazy.py:180: UserWarning: Lazy modules are a new feature under heavy development so changes to the API or functionality can happen at any moment.\n",
      "  warnings.warn('Lazy modules are a new feature under heavy development '\n"
     ]
    },
    {
     "name": "stdout",
     "output_type": "stream",
     "text": [
      "epoch 1/30, loss 0.7479, training accuracy 81.24%\n",
      "epoch 2/30, loss 0.1907, training accuracy 95.10%\n",
      "epoch 3/30, loss 0.1268, training accuracy 96.64%\n",
      "epoch 4/30, loss 0.0983, training accuracy 97.36%\n",
      "epoch 5/30, loss 0.0834, training accuracy 97.69%\n",
      "epoch 6/30, loss 0.0695, training accuracy 98.02%\n",
      "epoch 7/30, loss 0.0618, training accuracy 98.16%\n",
      "epoch 8/30, loss 0.0552, training accuracy 98.35%\n",
      "epoch 9/30, loss 0.0482, training accuracy 98.53%\n",
      "epoch 10/30, loss 0.0412, training accuracy 98.67%\n",
      "epoch 11/30, loss 0.0388, training accuracy 98.73%\n",
      "epoch 12/30, loss 0.0349, training accuracy 98.80%\n",
      "epoch 13/30, loss 0.0321, training accuracy 98.93%\n",
      "epoch 14/30, loss 0.0284, training accuracy 99.01%\n",
      "epoch 15/30, loss 0.0268, training accuracy 99.08%\n",
      "epoch 16/30, loss 0.0240, training accuracy 99.11%\n",
      "epoch 17/30, loss 0.0216, training accuracy 99.16%\n",
      "epoch 18/30, loss 0.0204, training accuracy 99.20%\n",
      "epoch 19/30, loss 0.0172, training accuracy 99.27%\n",
      "epoch 20/30, loss 0.0178, training accuracy 99.28%\n",
      "epoch 21/30, loss 0.0165, training accuracy 99.27%\n",
      "epoch 22/30, loss 0.0133, training accuracy 99.38%\n",
      "epoch 23/30, loss 0.0153, training accuracy 99.34%\n",
      "epoch 24/30, loss 0.0104, training accuracy 99.46%\n",
      "epoch 25/30, loss 0.0129, training accuracy 99.37%\n",
      "epoch 26/30, loss 0.0097, training accuracy 99.48%\n",
      "epoch 27/30, loss 0.0113, training accuracy 99.42%\n",
      "epoch 28/30, loss 0.0135, training accuracy 99.32%\n",
      "epoch 29/30, loss 0.0094, training accuracy 99.48%\n",
      "epoch 30/30, loss 0.0116, training accuracy 99.49%\n"
     ]
    }
   ],
   "source": [
    "lr = 1e-3\n",
    "# best_model = LinearNet2().to(device)\n",
    "best_model = LeNet().to(device)\n",
    "optimizer = optim.Adam(best_model.parameters(), lr=lr)\n",
    "criterion = nn.CrossEntropyLoss()\n",
    "\n",
    "train_model(best_model, criterion, optimizer, num_epochs=30, train_loader=full_train_loader)"
   ]
  },
  {
   "cell_type": "code",
   "execution_count": 22,
   "id": "d839406d",
   "metadata": {
    "collapsed": false,
    "execution": {
     "iopub.execute_input": "2023-10-27T14:55:12.725789Z",
     "iopub.status.busy": "2023-10-27T14:55:12.725354Z",
     "iopub.status.idle": "2023-10-27T14:55:12.731339Z",
     "shell.execute_reply": "2023-10-27T14:55:12.730196Z"
    },
    "jupyter": {
     "outputs_hidden": false
    },
    "papermill": {
     "duration": 0.028866,
     "end_time": "2023-10-27T14:55:12.733873",
     "exception": false,
     "start_time": "2023-10-27T14:55:12.705007",
     "status": "completed"
    },
    "tags": []
   },
   "outputs": [],
   "source": [
    "def submit_prediction(y_pred, name='submission'):\n",
    "    submission = pd.DataFrame({'ImageId': range(1, len(y_pred)+1), 'Label': y_pred})\n",
    "    submission.to_csv(f'/kaggle/working/{name}.csv', index=False)"
   ]
  },
  {
   "cell_type": "code",
   "execution_count": 23,
   "id": "e7f917f6",
   "metadata": {
    "collapsed": false,
    "execution": {
     "iopub.execute_input": "2023-10-27T14:55:12.773125Z",
     "iopub.status.busy": "2023-10-27T14:55:12.772335Z",
     "iopub.status.idle": "2023-10-27T14:55:14.219996Z",
     "shell.execute_reply": "2023-10-27T14:55:14.218758Z"
    },
    "jupyter": {
     "outputs_hidden": false
    },
    "papermill": {
     "duration": 1.471041,
     "end_time": "2023-10-27T14:55:14.223519",
     "exception": false,
     "start_time": "2023-10-27T14:55:12.752478",
     "status": "completed"
    },
    "tags": []
   },
   "outputs": [],
   "source": [
    "y_pred = test_model(best_model)\n",
    "submit_prediction(y_pred)"
   ]
  }
 ],
 "metadata": {
  "kernelspec": {
   "display_name": "Python 3",
   "language": "python",
   "name": "python3"
  },
  "language_info": {
   "codemirror_mode": {
    "name": "ipython",
    "version": 3
   },
   "file_extension": ".py",
   "mimetype": "text/x-python",
   "name": "python",
   "nbconvert_exporter": "python",
   "pygments_lexer": "ipython3",
   "version": "3.10.12"
  },
  "papermill": {
   "default_parameters": {},
   "duration": 356.797349,
   "end_time": "2023-10-27T14:55:17.092941",
   "environment_variables": {},
   "exception": null,
   "input_path": "__notebook__.ipynb",
   "output_path": "__notebook__.ipynb",
   "parameters": {},
   "start_time": "2023-10-27T14:49:20.295592",
   "version": "2.4.0"
  }
 },
 "nbformat": 4,
 "nbformat_minor": 5
}
