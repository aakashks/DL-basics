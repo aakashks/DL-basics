{
 "cells": [
  {
   "cell_type": "markdown",
   "id": "4487967c",
   "metadata": {
    "papermill": {
     "duration": 0.008616,
     "end_time": "2023-10-27T14:40:15.654800",
     "exception": false,
     "start_time": "2023-10-27T14:40:15.646184",
     "status": "completed"
    },
    "tags": []
   },
   "source": [
    "# MNIST Digit Recognition with higher accuracy using Elastic Distortion"
   ]
  },
  {
   "cell_type": "markdown",
   "id": "3f629f56",
   "metadata": {
    "papermill": {
     "duration": 0.007913,
     "end_time": "2023-10-27T14:40:15.670948",
     "exception": false,
     "start_time": "2023-10-27T14:40:15.663035",
     "status": "completed"
    },
    "tags": []
   },
   "source": [
    "## Imports"
   ]
  },
  {
   "cell_type": "code",
   "execution_count": 1,
   "id": "6894619b",
   "metadata": {
    "execution": {
     "iopub.execute_input": "2023-10-27T14:40:15.689061Z",
     "iopub.status.busy": "2023-10-27T14:40:15.688325Z",
     "iopub.status.idle": "2023-10-27T14:40:28.518212Z",
     "shell.execute_reply": "2023-10-27T14:40:28.517191Z"
    },
    "papermill": {
     "duration": 12.841434,
     "end_time": "2023-10-27T14:40:28.520423",
     "exception": false,
     "start_time": "2023-10-27T14:40:15.678989",
     "status": "completed"
    },
    "tags": []
   },
   "outputs": [
    {
     "name": "stderr",
     "output_type": "stream",
     "text": [
      "/opt/conda/lib/python3.10/site-packages/scipy/__init__.py:146: UserWarning: A NumPy version >=1.16.5 and <1.23.0 is required for this version of SciPy (detected version 1.23.5\n",
      "  warnings.warn(f\"A NumPy version >={np_minversion} and <{np_maxversion}\"\n"
     ]
    },
    {
     "data": {
      "text/plain": [
       "device(type='cuda')"
      ]
     },
     "execution_count": 1,
     "metadata": {},
     "output_type": "execute_result"
    }
   ],
   "source": [
    "import time\n",
    "import os\n",
    "\n",
    "import numpy as np\n",
    "import pandas as pd\n",
    "import matplotlib.pyplot as plt\n",
    "import seaborn as sns\n",
    "\n",
    "import torch\n",
    "import torch.nn as nn\n",
    "import torch.nn.functional as F\n",
    "\n",
    "import torch.optim as optim\n",
    "from torch.optim import lr_scheduler\n",
    "from torch.utils.data import Dataset, DataLoader, TensorDataset\n",
    "\n",
    "import torchvision\n",
    "from torchvision import transforms\n",
    "from torchvision import datasets, models, transforms\n",
    "\n",
    "from torch.utils.tensorboard import SummaryWriter\n",
    "\n",
    "from PIL import Image\n",
    "from tempfile import TemporaryDirectory\n",
    "\n",
    "writer = SummaryWriter('/kaggle/working/logs')\n",
    "# %load_ext tensorboard.notebook\n",
    "# %tensorboard --logdir /kaggle/working/logs\n",
    "\n",
    "device = torch.device('cuda')\n",
    "device"
   ]
  },
  {
   "cell_type": "code",
   "execution_count": 2,
   "id": "1c64331b",
   "metadata": {
    "execution": {
     "iopub.execute_input": "2023-10-27T14:40:28.539288Z",
     "iopub.status.busy": "2023-10-27T14:40:28.538477Z",
     "iopub.status.idle": "2023-10-27T14:40:34.197539Z",
     "shell.execute_reply": "2023-10-27T14:40:34.196501Z"
    },
    "papermill": {
     "duration": 5.670677,
     "end_time": "2023-10-27T14:40:34.199661",
     "exception": false,
     "start_time": "2023-10-27T14:40:28.528984",
     "status": "completed"
    },
    "tags": []
   },
   "outputs": [
    {
     "name": "stdout",
     "output_type": "stream",
     "text": [
      "<class 'pandas.core.frame.DataFrame'>\n",
      "RangeIndex: 42000 entries, 0 to 41999\n",
      "Columns: 785 entries, label to pixel783\n",
      "dtypes: int64(785)\n",
      "memory usage: 251.5 MB\n"
     ]
    }
   ],
   "source": [
    "# PATH_TO_DATA = 'Datasets/'\n",
    "PATH_TO_DATA = '/kaggle/input/digit-recognizer/'\n",
    "train_data = pd.read_csv(os.path.join(PATH_TO_DATA, 'train.csv'))\n",
    "test_data = pd.read_csv(os.path.join(PATH_TO_DATA, 'test.csv'))\n",
    "\n",
    "train_data.info()"
   ]
  },
  {
   "cell_type": "code",
   "execution_count": 3,
   "id": "9f1d4bc8",
   "metadata": {
    "execution": {
     "iopub.execute_input": "2023-10-27T14:40:34.218218Z",
     "iopub.status.busy": "2023-10-27T14:40:34.217932Z",
     "iopub.status.idle": "2023-10-27T14:40:34.236541Z",
     "shell.execute_reply": "2023-10-27T14:40:34.235725Z"
    },
    "papermill": {
     "duration": 0.030017,
     "end_time": "2023-10-27T14:40:34.238408",
     "exception": false,
     "start_time": "2023-10-27T14:40:34.208391",
     "status": "completed"
    },
    "tags": []
   },
   "outputs": [
    {
     "data": {
      "text/html": [
       "<div>\n",
       "<style scoped>\n",
       "    .dataframe tbody tr th:only-of-type {\n",
       "        vertical-align: middle;\n",
       "    }\n",
       "\n",
       "    .dataframe tbody tr th {\n",
       "        vertical-align: top;\n",
       "    }\n",
       "\n",
       "    .dataframe thead th {\n",
       "        text-align: right;\n",
       "    }\n",
       "</style>\n",
       "<table border=\"1\" class=\"dataframe\">\n",
       "  <thead>\n",
       "    <tr style=\"text-align: right;\">\n",
       "      <th></th>\n",
       "      <th>label</th>\n",
       "      <th>pixel0</th>\n",
       "      <th>pixel1</th>\n",
       "      <th>pixel2</th>\n",
       "      <th>pixel3</th>\n",
       "      <th>pixel4</th>\n",
       "      <th>pixel5</th>\n",
       "      <th>pixel6</th>\n",
       "      <th>pixel7</th>\n",
       "      <th>pixel8</th>\n",
       "      <th>...</th>\n",
       "      <th>pixel774</th>\n",
       "      <th>pixel775</th>\n",
       "      <th>pixel776</th>\n",
       "      <th>pixel777</th>\n",
       "      <th>pixel778</th>\n",
       "      <th>pixel779</th>\n",
       "      <th>pixel780</th>\n",
       "      <th>pixel781</th>\n",
       "      <th>pixel782</th>\n",
       "      <th>pixel783</th>\n",
       "    </tr>\n",
       "  </thead>\n",
       "  <tbody>\n",
       "    <tr>\n",
       "      <th>0</th>\n",
       "      <td>1</td>\n",
       "      <td>0</td>\n",
       "      <td>0</td>\n",
       "      <td>0</td>\n",
       "      <td>0</td>\n",
       "      <td>0</td>\n",
       "      <td>0</td>\n",
       "      <td>0</td>\n",
       "      <td>0</td>\n",
       "      <td>0</td>\n",
       "      <td>...</td>\n",
       "      <td>0</td>\n",
       "      <td>0</td>\n",
       "      <td>0</td>\n",
       "      <td>0</td>\n",
       "      <td>0</td>\n",
       "      <td>0</td>\n",
       "      <td>0</td>\n",
       "      <td>0</td>\n",
       "      <td>0</td>\n",
       "      <td>0</td>\n",
       "    </tr>\n",
       "    <tr>\n",
       "      <th>1</th>\n",
       "      <td>0</td>\n",
       "      <td>0</td>\n",
       "      <td>0</td>\n",
       "      <td>0</td>\n",
       "      <td>0</td>\n",
       "      <td>0</td>\n",
       "      <td>0</td>\n",
       "      <td>0</td>\n",
       "      <td>0</td>\n",
       "      <td>0</td>\n",
       "      <td>...</td>\n",
       "      <td>0</td>\n",
       "      <td>0</td>\n",
       "      <td>0</td>\n",
       "      <td>0</td>\n",
       "      <td>0</td>\n",
       "      <td>0</td>\n",
       "      <td>0</td>\n",
       "      <td>0</td>\n",
       "      <td>0</td>\n",
       "      <td>0</td>\n",
       "    </tr>\n",
       "    <tr>\n",
       "      <th>2</th>\n",
       "      <td>1</td>\n",
       "      <td>0</td>\n",
       "      <td>0</td>\n",
       "      <td>0</td>\n",
       "      <td>0</td>\n",
       "      <td>0</td>\n",
       "      <td>0</td>\n",
       "      <td>0</td>\n",
       "      <td>0</td>\n",
       "      <td>0</td>\n",
       "      <td>...</td>\n",
       "      <td>0</td>\n",
       "      <td>0</td>\n",
       "      <td>0</td>\n",
       "      <td>0</td>\n",
       "      <td>0</td>\n",
       "      <td>0</td>\n",
       "      <td>0</td>\n",
       "      <td>0</td>\n",
       "      <td>0</td>\n",
       "      <td>0</td>\n",
       "    </tr>\n",
       "    <tr>\n",
       "      <th>3</th>\n",
       "      <td>4</td>\n",
       "      <td>0</td>\n",
       "      <td>0</td>\n",
       "      <td>0</td>\n",
       "      <td>0</td>\n",
       "      <td>0</td>\n",
       "      <td>0</td>\n",
       "      <td>0</td>\n",
       "      <td>0</td>\n",
       "      <td>0</td>\n",
       "      <td>...</td>\n",
       "      <td>0</td>\n",
       "      <td>0</td>\n",
       "      <td>0</td>\n",
       "      <td>0</td>\n",
       "      <td>0</td>\n",
       "      <td>0</td>\n",
       "      <td>0</td>\n",
       "      <td>0</td>\n",
       "      <td>0</td>\n",
       "      <td>0</td>\n",
       "    </tr>\n",
       "    <tr>\n",
       "      <th>4</th>\n",
       "      <td>0</td>\n",
       "      <td>0</td>\n",
       "      <td>0</td>\n",
       "      <td>0</td>\n",
       "      <td>0</td>\n",
       "      <td>0</td>\n",
       "      <td>0</td>\n",
       "      <td>0</td>\n",
       "      <td>0</td>\n",
       "      <td>0</td>\n",
       "      <td>...</td>\n",
       "      <td>0</td>\n",
       "      <td>0</td>\n",
       "      <td>0</td>\n",
       "      <td>0</td>\n",
       "      <td>0</td>\n",
       "      <td>0</td>\n",
       "      <td>0</td>\n",
       "      <td>0</td>\n",
       "      <td>0</td>\n",
       "      <td>0</td>\n",
       "    </tr>\n",
       "  </tbody>\n",
       "</table>\n",
       "<p>5 rows × 785 columns</p>\n",
       "</div>"
      ],
      "text/plain": [
       "   label  pixel0  pixel1  pixel2  pixel3  pixel4  pixel5  pixel6  pixel7  \\\n",
       "0      1       0       0       0       0       0       0       0       0   \n",
       "1      0       0       0       0       0       0       0       0       0   \n",
       "2      1       0       0       0       0       0       0       0       0   \n",
       "3      4       0       0       0       0       0       0       0       0   \n",
       "4      0       0       0       0       0       0       0       0       0   \n",
       "\n",
       "   pixel8  ...  pixel774  pixel775  pixel776  pixel777  pixel778  pixel779  \\\n",
       "0       0  ...         0         0         0         0         0         0   \n",
       "1       0  ...         0         0         0         0         0         0   \n",
       "2       0  ...         0         0         0         0         0         0   \n",
       "3       0  ...         0         0         0         0         0         0   \n",
       "4       0  ...         0         0         0         0         0         0   \n",
       "\n",
       "   pixel780  pixel781  pixel782  pixel783  \n",
       "0         0         0         0         0  \n",
       "1         0         0         0         0  \n",
       "2         0         0         0         0  \n",
       "3         0         0         0         0  \n",
       "4         0         0         0         0  \n",
       "\n",
       "[5 rows x 785 columns]"
      ]
     },
     "execution_count": 3,
     "metadata": {},
     "output_type": "execute_result"
    }
   ],
   "source": [
    "train_data.head()"
   ]
  },
  {
   "cell_type": "code",
   "execution_count": 4,
   "id": "140601b9",
   "metadata": {
    "execution": {
     "iopub.execute_input": "2023-10-27T14:40:34.257619Z",
     "iopub.status.busy": "2023-10-27T14:40:34.257367Z",
     "iopub.status.idle": "2023-10-27T14:40:34.262911Z",
     "shell.execute_reply": "2023-10-27T14:40:34.262059Z"
    },
    "papermill": {
     "duration": 0.017195,
     "end_time": "2023-10-27T14:40:34.264792",
     "exception": false,
     "start_time": "2023-10-27T14:40:34.247597",
     "status": "completed"
    },
    "tags": []
   },
   "outputs": [
    {
     "data": {
      "text/plain": [
       "((42000, 785), (28000, 784))"
      ]
     },
     "execution_count": 4,
     "metadata": {},
     "output_type": "execute_result"
    }
   ],
   "source": [
    "train_data.shape, test_data.shape"
   ]
  },
  {
   "cell_type": "markdown",
   "id": "5daf1eaa",
   "metadata": {
    "papermill": {
     "duration": 0.008641,
     "end_time": "2023-10-27T14:40:34.282426",
     "exception": false,
     "start_time": "2023-10-27T14:40:34.273785",
     "status": "completed"
    },
    "tags": []
   },
   "source": [
    "## Preparing Dataset"
   ]
  },
  {
   "cell_type": "code",
   "execution_count": 5,
   "id": "1a6f706d",
   "metadata": {
    "execution": {
     "iopub.execute_input": "2023-10-27T14:40:34.301340Z",
     "iopub.status.busy": "2023-10-27T14:40:34.301065Z",
     "iopub.status.idle": "2023-10-27T14:40:34.307212Z",
     "shell.execute_reply": "2023-10-27T14:40:34.306382Z"
    },
    "papermill": {
     "duration": 0.017803,
     "end_time": "2023-10-27T14:40:34.309128",
     "exception": false,
     "start_time": "2023-10-27T14:40:34.291325",
     "status": "completed"
    },
    "tags": []
   },
   "outputs": [
    {
     "data": {
      "text/plain": [
       "((42000, 784), (42000,))"
      ]
     },
     "execution_count": 5,
     "metadata": {},
     "output_type": "execute_result"
    }
   ],
   "source": [
    "X = train_data.values[:, 1:]\n",
    "y = train_data.values[:, 0]\n",
    "X_test = test_data.values\n",
    "X.shape, y.shape"
   ]
  },
  {
   "cell_type": "code",
   "execution_count": 6,
   "id": "414cc63a",
   "metadata": {
    "execution": {
     "iopub.execute_input": "2023-10-27T14:40:34.328335Z",
     "iopub.status.busy": "2023-10-27T14:40:34.328037Z",
     "iopub.status.idle": "2023-10-27T14:40:34.899271Z",
     "shell.execute_reply": "2023-10-27T14:40:34.898282Z"
    },
    "papermill": {
     "duration": 0.583038,
     "end_time": "2023-10-27T14:40:34.901229",
     "exception": false,
     "start_time": "2023-10-27T14:40:34.318191",
     "status": "completed"
    },
    "tags": []
   },
   "outputs": [
    {
     "data": {
      "text/plain": [
       "((33600, 784), (8400, 784), (33600,), (8400,))"
      ]
     },
     "execution_count": 6,
     "metadata": {},
     "output_type": "execute_result"
    }
   ],
   "source": [
    "from sklearn.model_selection import train_test_split\n",
    "\n",
    "X_train, X_val, y_train, y_val = train_test_split(X, y, test_size=0.2, random_state=42)\n",
    "X_train.shape, X_val.shape, y_train.shape, y_val.shape"
   ]
  },
  {
   "cell_type": "code",
   "execution_count": 7,
   "id": "9141ba79",
   "metadata": {
    "collapsed": false,
    "execution": {
     "iopub.execute_input": "2023-10-27T14:40:34.921298Z",
     "iopub.status.busy": "2023-10-27T14:40:34.920940Z",
     "iopub.status.idle": "2023-10-27T14:40:34.928034Z",
     "shell.execute_reply": "2023-10-27T14:40:34.927184Z"
    },
    "papermill": {
     "duration": 0.019264,
     "end_time": "2023-10-27T14:40:34.929963",
     "exception": false,
     "start_time": "2023-10-27T14:40:34.910699",
     "status": "completed"
    },
    "tags": []
   },
   "outputs": [],
   "source": [
    "class MNISTDataset(Dataset):\n",
    "    def __init__(self, X, y, transform=None):\n",
    "        self.n_samples = X.shape[0]\n",
    "        X = X.reshape(-1, 1, 28, 28) / 255.\n",
    "        self.x_data = torch.from_numpy(X.astype(np.float32))\n",
    "        self.y_data = torch.from_numpy(y)\n",
    "        \n",
    "        self.transform = transform\n",
    "        \n",
    "    def __len__(self):\n",
    "        return self.n_samples\n",
    "    \n",
    "    def __getitem__(self, item):\n",
    "        image, label = self.x_data[item], self.y_data[item]\n",
    "        \n",
    "        if self.transform is not None:\n",
    "            image = self.transform(image)\n",
    "            \n",
    "        return image, label"
   ]
  },
  {
   "cell_type": "code",
   "execution_count": 8,
   "id": "54a93ba2",
   "metadata": {
    "collapsed": false,
    "execution": {
     "iopub.execute_input": "2023-10-27T14:40:34.949142Z",
     "iopub.status.busy": "2023-10-27T14:40:34.948881Z",
     "iopub.status.idle": "2023-10-27T14:40:34.955118Z",
     "shell.execute_reply": "2023-10-27T14:40:34.954306Z"
    },
    "papermill": {
     "duration": 0.017957,
     "end_time": "2023-10-27T14:40:34.957047",
     "exception": false,
     "start_time": "2023-10-27T14:40:34.939090",
     "status": "completed"
    },
    "tags": []
   },
   "outputs": [],
   "source": [
    "class MNISTDataset_test(Dataset):\n",
    "    def __init__(self, X, transform=None):\n",
    "        self.n_samples = X.shape[0]\n",
    "        X = X.reshape(-1, 1, 28, 28) / 255.\n",
    "        self.x_data = torch.from_numpy(X.astype(np.float32))\n",
    "        \n",
    "        self.transform = transform\n",
    "        \n",
    "    def __len__(self):\n",
    "        return self.n_samples\n",
    "    \n",
    "    def __getitem__(self, item):\n",
    "        sample = self.x_data[item]\n",
    "        \n",
    "        if self.transform is not None:\n",
    "            sample = self.transform(sample)\n",
    "            \n",
    "        return sample"
   ]
  },
  {
   "cell_type": "markdown",
   "id": "28eaa6f9",
   "metadata": {
    "papermill": {
     "duration": 0.009196,
     "end_time": "2023-10-27T14:40:34.975568",
     "exception": false,
     "start_time": "2023-10-27T14:40:34.966372",
     "status": "completed"
    },
    "tags": []
   },
   "source": [
    "## Transformations"
   ]
  },
  {
   "cell_type": "code",
   "execution_count": 9,
   "id": "7c7979d8",
   "metadata": {
    "collapsed": false,
    "execution": {
     "iopub.execute_input": "2023-10-27T14:40:34.995371Z",
     "iopub.status.busy": "2023-10-27T14:40:34.994718Z",
     "iopub.status.idle": "2023-10-27T14:40:35.003972Z",
     "shell.execute_reply": "2023-10-27T14:40:35.003315Z"
    },
    "papermill": {
     "duration": 0.020965,
     "end_time": "2023-10-27T14:40:35.005826",
     "exception": false,
     "start_time": "2023-10-27T14:40:34.984861",
     "status": "completed"
    },
    "tags": []
   },
   "outputs": [],
   "source": [
    "from scipy.ndimage.filters import gaussian_filter\n",
    "from scipy.ndimage.interpolation import map_coordinates\n",
    "\n",
    "def elastic_transform(image, alpha_range, sigma, random_state=None):\n",
    "    \"\"\"\n",
    "    # Arguments\n",
    "       image: Numpy array with shape (height, width, channels). \n",
    "       alpha_range: Float for fixed value or [lower, upper] for random value from uniform distribution.\n",
    "           Controls intensity of deformation.\n",
    "       sigma: Float, sigma of gaussian filter that smooths the displacement fields.\n",
    "       random_state: `numpy.random.RandomState` object for generating displacement fields.\n",
    "    \"\"\"\n",
    "\n",
    "    if random_state is None:\n",
    "        random_state = np.random.RandomState(None)\n",
    "    \n",
    "    if np.isscalar(alpha_range):\n",
    "        alpha = alpha_range\n",
    "    else:\n",
    "        alpha = np.random.uniform(low=alpha_range[0], high=alpha_range[1])\n",
    "    \n",
    "    shape = image.shape\n",
    "    dx = gaussian_filter((random_state.rand(*shape) * 2 - 1), sigma) * alpha\n",
    "    dy = gaussian_filter((random_state.rand(*shape) * 2 - 1), sigma) * alpha\n",
    "    \n",
    "    x, y, z = np.meshgrid(np.arange(shape[0]), np.arange(shape[1]), np.arange(shape[2]), indexing='ij')\n",
    "    indices = np.reshape(x + dx, (-1, 1)), np.reshape(y + dy, (-1, 1)), np.reshape(z, (-1, 1))\n",
    "    \n",
    "    return torch.from_numpy(map_coordinates(image, indices, order=1, mode='reflect').reshape(1, 28, 28)).to(device, torch.float32)"
   ]
  },
  {
   "cell_type": "code",
   "execution_count": 10,
   "id": "8262e97a",
   "metadata": {
    "collapsed": false,
    "execution": {
     "iopub.execute_input": "2023-10-27T14:40:35.025155Z",
     "iopub.status.busy": "2023-10-27T14:40:35.024890Z",
     "iopub.status.idle": "2023-10-27T14:40:35.030108Z",
     "shell.execute_reply": "2023-10-27T14:40:35.029415Z"
    },
    "papermill": {
     "duration": 0.017024,
     "end_time": "2023-10-27T14:40:35.032162",
     "exception": false,
     "start_time": "2023-10-27T14:40:35.015138",
     "status": "completed"
    },
    "tags": []
   },
   "outputs": [],
   "source": [
    "transform_train = transforms.Compose([\n",
    "    transforms.ToPILImage(),\n",
    "    transforms.RandomRotation(10),  # Randomly rotate by up to 10 degrees\n",
    "    transforms.RandomAffine(degrees=0, translate=(0.1, 0.1), scale=(0.9, 1.1)),  # Randomly zoom and shift\n",
    "    # transforms.Lambda(lambda x: elastic_transform(np.array(x).reshape(28, 28, 1), alpha_range=[0, 10], sigma=3)),\n",
    "    transforms.ToTensor()\n",
    "])"
   ]
  },
  {
   "cell_type": "code",
   "execution_count": 11,
   "id": "01196491",
   "metadata": {
    "collapsed": false,
    "execution": {
     "iopub.execute_input": "2023-10-27T14:40:35.051380Z",
     "iopub.status.busy": "2023-10-27T14:40:35.051076Z",
     "iopub.status.idle": "2023-10-27T14:40:35.054822Z",
     "shell.execute_reply": "2023-10-27T14:40:35.054082Z"
    },
    "papermill": {
     "duration": 0.015521,
     "end_time": "2023-10-27T14:40:35.056674",
     "exception": false,
     "start_time": "2023-10-27T14:40:35.041153",
     "status": "completed"
    },
    "tags": []
   },
   "outputs": [],
   "source": [
    "batch_size = 128\n",
    "num_classes = 10 "
   ]
  },
  {
   "cell_type": "code",
   "execution_count": 12,
   "id": "2a4a2722",
   "metadata": {
    "collapsed": false,
    "execution": {
     "iopub.execute_input": "2023-10-27T14:40:35.075831Z",
     "iopub.status.busy": "2023-10-27T14:40:35.075573Z",
     "iopub.status.idle": "2023-10-27T14:40:35.474527Z",
     "shell.execute_reply": "2023-10-27T14:40:35.473734Z"
    },
    "papermill": {
     "duration": 0.411019,
     "end_time": "2023-10-27T14:40:35.476855",
     "exception": false,
     "start_time": "2023-10-27T14:40:35.065836",
     "status": "completed"
    },
    "tags": []
   },
   "outputs": [],
   "source": [
    "train_dataset = MNISTDataset(X_train, y_train, transform=transform_train)\n",
    "val_dataset = MNISTDataset(X_val, y_val)\n",
    "\n",
    "full_train_dataset = MNISTDataset(X, y, transform=transform_train)\n",
    "test_dataset = MNISTDataset_test(X_test)"
   ]
  },
  {
   "cell_type": "code",
   "execution_count": 13,
   "id": "dc3d54cb",
   "metadata": {
    "execution": {
     "iopub.execute_input": "2023-10-27T14:40:35.496894Z",
     "iopub.status.busy": "2023-10-27T14:40:35.496588Z",
     "iopub.status.idle": "2023-10-27T14:40:35.504154Z",
     "shell.execute_reply": "2023-10-27T14:40:35.503306Z"
    },
    "papermill": {
     "duration": 0.019461,
     "end_time": "2023-10-27T14:40:35.506036",
     "exception": false,
     "start_time": "2023-10-27T14:40:35.486575",
     "status": "completed"
    },
    "tags": []
   },
   "outputs": [
    {
     "data": {
      "text/plain": [
       "263"
      ]
     },
     "execution_count": 13,
     "metadata": {},
     "output_type": "execute_result"
    }
   ],
   "source": [
    "train_loader = DataLoader(dataset=train_dataset, batch_size=batch_size, shuffle=True)\n",
    "val_loader = DataLoader(dataset=val_dataset, batch_size=batch_size, shuffle=True)\n",
    "\n",
    "full_train_loader = DataLoader(dataset=full_train_dataset, batch_size=batch_size, shuffle=True)\n",
    "test_loader = DataLoader(dataset=test_dataset, batch_size=batch_size, shuffle=False)\n",
    "\n",
    "steps_per_epoch = len(train_loader)\n",
    "steps_per_epoch"
   ]
  },
  {
   "cell_type": "code",
   "execution_count": 14,
   "id": "4e21a4ae",
   "metadata": {
    "execution": {
     "iopub.execute_input": "2023-10-27T14:40:35.525822Z",
     "iopub.status.busy": "2023-10-27T14:40:35.525063Z",
     "iopub.status.idle": "2023-10-27T14:40:40.732334Z",
     "shell.execute_reply": "2023-10-27T14:40:40.731433Z"
    },
    "papermill": {
     "duration": 5.219255,
     "end_time": "2023-10-27T14:40:40.734377",
     "exception": false,
     "start_time": "2023-10-27T14:40:35.515122",
     "status": "completed"
    },
    "tags": []
   },
   "outputs": [
    {
     "data": {
      "text/plain": [
       "(torch.Size([128, 1, 28, 28]), torch.Size([128]))"
      ]
     },
     "execution_count": 14,
     "metadata": {},
     "output_type": "execute_result"
    }
   ],
   "source": [
    "images, labels = next(iter(train_loader))\n",
    "images.shape, labels.shape"
   ]
  },
  {
   "cell_type": "markdown",
   "id": "eaa9b899",
   "metadata": {
    "papermill": {
     "duration": 0.00935,
     "end_time": "2023-10-27T14:40:40.753434",
     "exception": false,
     "start_time": "2023-10-27T14:40:40.744084",
     "status": "completed"
    },
    "tags": []
   },
   "source": [
    "## Training Models"
   ]
  },
  {
   "cell_type": "code",
   "execution_count": 15,
   "id": "9ddbc0e2",
   "metadata": {
    "collapsed": false,
    "execution": {
     "iopub.execute_input": "2023-10-27T14:40:40.773527Z",
     "iopub.status.busy": "2023-10-27T14:40:40.773211Z",
     "iopub.status.idle": "2023-10-27T14:40:40.785544Z",
     "shell.execute_reply": "2023-10-27T14:40:40.784585Z"
    },
    "papermill": {
     "duration": 0.02452,
     "end_time": "2023-10-27T14:40:40.787351",
     "exception": false,
     "start_time": "2023-10-27T14:40:40.762831",
     "status": "completed"
    },
    "tags": []
   },
   "outputs": [],
   "source": [
    "def train_model(model, criterion, optimizer, num_epochs, train_loader=train_loader, val_loader=None, scheduler=None):\n",
    "    for epoch in range(num_epochs):\n",
    "\n",
    "        running_loss = 0.0\n",
    "        running_corrects = 0\n",
    "        running_corrects_val = 0\n",
    "            \n",
    "        for i, (images, labels) in enumerate(train_loader):\n",
    "            images = images.to(device)\n",
    "            labels = labels.to(device)            \n",
    "            \n",
    "            optimizer.zero_grad()\n",
    "            output = model(images)\n",
    "            loss = criterion(output, labels)\n",
    "            loss.backward()\n",
    "            optimizer.step()\n",
    "            \n",
    "            with torch.no_grad():\n",
    "                _, predictions = torch.max(output, 1)\n",
    "                corrects = (predictions == labels).sum().item()\n",
    "                running_corrects += corrects\n",
    "                \n",
    "                running_loss += loss.item()\n",
    "                \n",
    "            writer.add_scalar('train_loss', loss, epoch*steps_per_epoch + i)\n",
    "            writer.add_scalar('train_accuracy', corrects/labels.shape[0], epoch*steps_per_epoch + i)\n",
    "        \n",
    "        epoch_loss = running_loss / steps_per_epoch\n",
    "        epoch_acc = running_corrects*100/len(train_loader)/batch_size\n",
    "\n",
    "        print(f'epoch {epoch+1}/{num_epochs}, loss {epoch_loss:.4f}, training accuracy {epoch_acc:.2f}%', end='')\n",
    "                \n",
    "        if val_loader is not None:\n",
    "            for i, (images, labels) in enumerate(val_loader):\n",
    "                images = images.to(device)\n",
    "                labels = labels.to(device)\n",
    "                \n",
    "                with torch.no_grad():\n",
    "                    output = model(images)\n",
    "                    _, predictions = torch.max(output, 1)\n",
    "                    corrects = (predictions == labels).sum().item()\n",
    "                    running_corrects_val += corrects\n",
    "                    \n",
    "                writer.add_scalar('val_accuracy', corrects/labels.shape[0], epoch*steps_per_epoch + i)\n",
    "                    \n",
    "            epoch_val_acc = running_corrects_val*100/len(val_loader)/batch_size\n",
    "            print(f', validation accuracy {epoch_val_acc:.2f}%')\n",
    "        else:\n",
    "            print()\n",
    "                \n",
    "        if scheduler is not None:\n",
    "            scheduler.step()\n",
    "            \n",
    "    writer.flush()\n",
    "    writer.close()\n",
    "            "
   ]
  },
  {
   "cell_type": "code",
   "execution_count": 16,
   "id": "4b617da8",
   "metadata": {
    "collapsed": false,
    "execution": {
     "iopub.execute_input": "2023-10-27T14:40:40.808090Z",
     "iopub.status.busy": "2023-10-27T14:40:40.807620Z",
     "iopub.status.idle": "2023-10-27T14:40:40.814136Z",
     "shell.execute_reply": "2023-10-27T14:40:40.813305Z"
    },
    "papermill": {
     "duration": 0.019096,
     "end_time": "2023-10-27T14:40:40.816155",
     "exception": false,
     "start_time": "2023-10-27T14:40:40.797059",
     "status": "completed"
    },
    "tags": []
   },
   "outputs": [],
   "source": [
    "from sklearn.metrics import classification_report, confusion_matrix\n",
    "\n",
    "def validate_model(model, val_loader=val_loader):\n",
    "    \n",
    "    y_true = []\n",
    "    y_pred = []\n",
    "    \n",
    "    with torch.no_grad():\n",
    "        for images, labels in val_loader:\n",
    "            images = images.to(device)\n",
    "            \n",
    "            output = model(images) \n",
    "            _, predictions = torch.max(output, 1)\n",
    "            \n",
    "            y_true.extend(labels.cpu().tolist())\n",
    "            y_pred.extend(predictions.cpu().tolist())\n",
    "            \n",
    "    print(classification_report(y_true, y_pred))\n",
    "    cm = confusion_matrix(y_true, y_pred, normalize='true')\n",
    "    sns.heatmap(cm, annot=True)"
   ]
  },
  {
   "cell_type": "code",
   "execution_count": 17,
   "id": "e96631f1",
   "metadata": {
    "collapsed": false,
    "execution": {
     "iopub.execute_input": "2023-10-27T14:40:40.836018Z",
     "iopub.status.busy": "2023-10-27T14:40:40.835755Z",
     "iopub.status.idle": "2023-10-27T14:40:40.841831Z",
     "shell.execute_reply": "2023-10-27T14:40:40.841016Z"
    },
    "papermill": {
     "duration": 0.018072,
     "end_time": "2023-10-27T14:40:40.843674",
     "exception": false,
     "start_time": "2023-10-27T14:40:40.825602",
     "status": "completed"
    },
    "tags": []
   },
   "outputs": [],
   "source": [
    "def test_model(model, test_loader=test_loader, y_true=None):\n",
    "    \n",
    "    y_pred = []\n",
    "    \n",
    "    with torch.no_grad():\n",
    "        for images in test_loader:\n",
    "            images = images.to(device)\n",
    "            \n",
    "            output = model(images) \n",
    "            _, predictions = torch.max(output, 1)\n",
    "            \n",
    "            y_pred.extend(predictions.cpu().tolist())\n",
    "        \n",
    "    if y_true is not None:\n",
    "        print(classification_report(y_true, y_pred))\n",
    "        cm = confusion_matrix(y_true, y_pred, normalize='true')\n",
    "        sns.heatmap(cm, annot=True)\n",
    "    else:\n",
    "        return y_pred "
   ]
  },
  {
   "cell_type": "code",
   "execution_count": 18,
   "id": "e95928f7",
   "metadata": {
    "collapsed": false,
    "execution": {
     "iopub.execute_input": "2023-10-27T14:40:40.863321Z",
     "iopub.status.busy": "2023-10-27T14:40:40.863033Z",
     "iopub.status.idle": "2023-10-27T14:40:40.874257Z",
     "shell.execute_reply": "2023-10-27T14:40:40.873546Z"
    },
    "papermill": {
     "duration": 0.02307,
     "end_time": "2023-10-27T14:40:40.875997",
     "exception": false,
     "start_time": "2023-10-27T14:40:40.852927",
     "status": "completed"
    },
    "tags": []
   },
   "outputs": [],
   "source": [
    "class LinearNet(nn.Module):\n",
    "    def __init__(self, in_features=784):\n",
    "        super().__init__()\n",
    "        self.fc = nn.Linear(in_features, num_classes)\n",
    "        \n",
    "    def forward(self, x):\n",
    "        x = x.flatten(start_dim=1)\n",
    "        x = self.fc(x)\n",
    "        return x\n",
    "    \n",
    "class LinearNet2(nn.Module):\n",
    "    def __init__(self, in_features=784, hidden_layer=256):\n",
    "        super().__init__()\n",
    "        self.fc = nn.Sequential(\n",
    "            nn.Linear(in_features, hidden_layer),\n",
    "            nn.BatchNorm1d(hidden_layer),\n",
    "            nn.ReLU(),\n",
    "            nn.Linear(hidden_layer, hidden_layer),\n",
    "            nn.BatchNorm1d(hidden_layer),\n",
    "            nn.ReLU(),\n",
    "            nn.Linear(hidden_layer, num_classes)\n",
    "        )\n",
    "        \n",
    "    def forward(self, x):\n",
    "        x = x.flatten(start_dim=1)\n",
    "        return self.fc(x)\n",
    "    \n",
    "class ConvNet(nn.Module):\n",
    "    def __init__(self):\n",
    "        super().__init__()\n",
    "        self.net = nn.Sequential(\n",
    "            nn.Conv2d(1, 8, 5, 1),\n",
    "            nn.ReLU(),\n",
    "            nn.MaxPool2d(2, 2),\n",
    "            nn.Conv2d(8, 16, 5, 1),\n",
    "            nn.ReLU(),\n",
    "            nn.MaxPool2d(2, 2),\n",
    "            nn.Flatten(),\n",
    "            nn.Linear(16 * 4 * 4, 10)\n",
    "        )\n",
    "\n",
    "    def forward(self, x):\n",
    "        return self.net(x)\n",
    "\n",
    "class LeNet(nn.Module):\n",
    "    def __init__(self):\n",
    "        super().__init__()\n",
    "        self.net = nn.Sequential(\n",
    "            nn.LazyConv2d(6, kernel_size=5, padding=2), nn.ReLU(),\n",
    "            nn.AvgPool2d(kernel_size=2, stride=2),\n",
    "            nn.LazyConv2d(16, kernel_size=5), nn.ReLU(),\n",
    "            nn.AvgPool2d(kernel_size=2, stride=2),\n",
    "            nn.Flatten(),\n",
    "            nn.LazyLinear(128), nn.ReLU(),\n",
    "            nn.LazyLinear(64), nn.ReLU(),\n",
    "            nn.LazyLinear(num_classes))\n",
    "        \n",
    "    def forward(self, x):\n",
    "        return self.net(x)"
   ]
  },
  {
   "cell_type": "markdown",
   "id": "2ff27f07",
   "metadata": {
    "papermill": {
     "duration": 0.009275,
     "end_time": "2023-10-27T14:40:40.894505",
     "exception": false,
     "start_time": "2023-10-27T14:40:40.885230",
     "status": "completed"
    },
    "tags": []
   },
   "source": [
    "## Comparing Results of Different Models and optimizers"
   ]
  },
  {
   "cell_type": "code",
   "execution_count": 19,
   "id": "322232a8",
   "metadata": {
    "collapsed": false,
    "execution": {
     "iopub.execute_input": "2023-10-27T14:40:40.913960Z",
     "iopub.status.busy": "2023-10-27T14:40:40.913725Z",
     "iopub.status.idle": "2023-10-27T14:58:12.845877Z",
     "shell.execute_reply": "2023-10-27T14:58:12.844975Z"
    },
    "papermill": {
     "duration": 1051.954808,
     "end_time": "2023-10-27T14:58:12.858533",
     "exception": false,
     "start_time": "2023-10-27T14:40:40.903725",
     "status": "completed"
    },
    "tags": []
   },
   "outputs": [
    {
     "name": "stdout",
     "output_type": "stream",
     "text": [
      "epoch 1/20, loss 0.5636, training accuracy 82.72%, validation accuracy 94.00%\n",
      "epoch 2/20, loss 0.2699, training accuracy 91.31%, validation accuracy 94.96%\n",
      "epoch 3/20, loss 0.2237, training accuracy 92.86%, validation accuracy 95.69%\n",
      "epoch 4/20, loss 0.1929, training accuracy 93.62%, validation accuracy 95.95%\n",
      "epoch 5/20, loss 0.1749, training accuracy 94.27%, validation accuracy 96.28%\n",
      "epoch 6/20, loss 0.1603, training accuracy 94.68%, validation accuracy 96.61%\n",
      "epoch 7/20, loss 0.1550, training accuracy 94.95%, validation accuracy 96.69%\n",
      "epoch 8/20, loss 0.1461, training accuracy 95.24%, validation accuracy 96.73%\n",
      "epoch 9/20, loss 0.1373, training accuracy 95.42%, validation accuracy 96.86%\n",
      "epoch 10/20, loss 0.1341, training accuracy 95.57%, validation accuracy 96.98%\n",
      "epoch 11/20, loss 0.1282, training accuracy 95.68%, validation accuracy 97.30%\n",
      "epoch 12/20, loss 0.1193, training accuracy 96.11%, validation accuracy 96.80%\n",
      "epoch 13/20, loss 0.1222, training accuracy 95.88%, validation accuracy 97.28%\n",
      "epoch 14/20, loss 0.1131, training accuracy 96.17%, validation accuracy 97.15%\n",
      "epoch 15/20, loss 0.1132, training accuracy 96.14%, validation accuracy 97.27%\n",
      "epoch 16/20, loss 0.1097, training accuracy 96.38%, validation accuracy 97.31%\n",
      "epoch 17/20, loss 0.1048, training accuracy 96.50%, validation accuracy 97.46%\n",
      "epoch 18/20, loss 0.1033, training accuracy 96.46%, validation accuracy 97.14%\n",
      "epoch 19/20, loss 0.1015, training accuracy 96.61%, validation accuracy 97.43%\n",
      "epoch 20/20, loss 0.1007, training accuracy 96.50%, validation accuracy 97.37%\n"
     ]
    }
   ],
   "source": [
    "lr = 1e-3\n",
    "model = LinearNet2().to(device)\n",
    "# model = LeNet().to(device)\n",
    "optimizer = optim.Adam(model.parameters(), lr=lr)\n",
    "criterion = nn.CrossEntropyLoss()\n",
    "\n",
    "train_model(model, criterion, optimizer, num_epochs=20, val_loader=val_loader)"
   ]
  },
  {
   "cell_type": "code",
   "execution_count": 20,
   "id": "c6ea856c",
   "metadata": {
    "collapsed": false,
    "execution": {
     "iopub.execute_input": "2023-10-27T14:58:12.881348Z",
     "iopub.status.busy": "2023-10-27T14:58:12.881034Z",
     "iopub.status.idle": "2023-10-27T14:58:13.338694Z",
     "shell.execute_reply": "2023-10-27T14:58:13.337840Z"
    },
    "papermill": {
     "duration": 0.47149,
     "end_time": "2023-10-27T14:58:13.340846",
     "exception": false,
     "start_time": "2023-10-27T14:58:12.869356",
     "status": "completed"
    },
    "tags": []
   },
   "outputs": [
    {
     "name": "stdout",
     "output_type": "stream",
     "text": [
      "              precision    recall  f1-score   support\n",
      "\n",
      "           0       1.00      0.99      0.99       816\n",
      "           1       0.99      0.99      0.99       909\n",
      "           2       0.98      0.99      0.98       846\n",
      "           3       0.99      0.97      0.98       937\n",
      "           4       0.98      0.98      0.98       839\n",
      "           5       0.98      0.97      0.98       702\n",
      "           6       0.98      0.99      0.99       785\n",
      "           7       0.96      0.99      0.98       893\n",
      "           8       0.97      0.98      0.97       835\n",
      "           9       0.98      0.96      0.97       838\n",
      "\n",
      "    accuracy                           0.98      8400\n",
      "   macro avg       0.98      0.98      0.98      8400\n",
      "weighted avg       0.98      0.98      0.98      8400\n"
     ]
    },
    {
     "data": {
      "image/png": "[encoded data removed]",
      "text/plain": [
       "<Figure size 640x480 with 2 Axes>"
      ]
     },
     "metadata": {},
     "output_type": "display_data"
    }
   ],
   "source": [
    "validate_model(model)"
   ]
  },
  {
   "cell_type": "markdown",
   "id": "aead9202",
   "metadata": {
    "papermill": {
     "duration": 0.01092,
     "end_time": "2023-10-27T14:58:13.363105",
     "exception": false,
     "start_time": "2023-10-27T14:58:13.352185",
     "status": "completed"
    },
    "tags": []
   },
   "source": [
    "## Final Training and Submission"
   ]
  },
  {
   "cell_type": "code",
   "execution_count": 21,
   "id": "36cc7436",
   "metadata": {
    "collapsed": false,
    "execution": {
     "iopub.execute_input": "2023-10-27T14:58:13.386409Z",
     "iopub.status.busy": "2023-10-27T14:58:13.386095Z",
     "iopub.status.idle": "2023-10-27T15:30:49.320208Z",
     "shell.execute_reply": "2023-10-27T15:30:49.319203Z"
    },
    "papermill": {
     "duration": 1955.96096,
     "end_time": "2023-10-27T15:30:49.335094",
     "exception": false,
     "start_time": "2023-10-27T14:58:13.374134",
     "status": "completed"
    },
    "tags": []
   },
   "outputs": [
    {
     "name": "stdout",
     "output_type": "stream",
     "text": [
      "epoch 1/30, loss 0.6449, training accuracy 84.15%\n",
      "epoch 2/30, loss 0.3206, training accuracy 91.81%\n",
      "epoch 3/30, loss 0.2623, training accuracy 93.18%\n",
      "epoch 4/30, loss 0.2308, training accuracy 93.94%\n",
      "epoch 5/30, loss 0.2092, training accuracy 94.41%\n",
      "epoch 6/30, loss 0.1909, training accuracy 94.97%\n",
      "epoch 7/30, loss 0.1841, training accuracy 95.12%\n",
      "epoch 8/30, loss 0.1707, training accuracy 95.36%\n",
      "epoch 9/30, loss 0.1617, training accuracy 95.66%\n",
      "epoch 10/30, loss 0.1528, training accuracy 95.86%\n",
      "epoch 11/30, loss 0.1436, training accuracy 96.12%\n",
      "epoch 12/30, loss 0.1439, training accuracy 96.05%\n",
      "epoch 13/30, loss 0.1408, training accuracy 96.18%\n",
      "epoch 14/30, loss 0.1315, training accuracy 96.40%\n",
      "epoch 15/30, loss 0.1302, training accuracy 96.42%\n",
      "epoch 16/30, loss 0.1329, training accuracy 96.33%\n",
      "epoch 17/30, loss 0.1247, training accuracy 96.56%\n",
      "epoch 18/30, loss 0.1253, training accuracy 96.53%\n",
      "epoch 19/30, loss 0.1227, training accuracy 96.75%\n",
      "epoch 20/30, loss 0.1201, training accuracy 96.72%\n",
      "epoch 21/30, loss 0.1166, training accuracy 96.75%\n",
      "epoch 22/30, loss 0.1129, training accuracy 96.80%\n",
      "epoch 23/30, loss 0.1133, training accuracy 96.81%\n",
      "epoch 24/30, loss 0.1097, training accuracy 96.99%\n",
      "epoch 25/30, loss 0.1096, training accuracy 96.91%\n",
      "epoch 26/30, loss 0.1094, training accuracy 96.92%\n",
      "epoch 27/30, loss 0.1043, training accuracy 97.14%\n",
      "epoch 28/30, loss 0.1075, training accuracy 97.01%\n",
      "epoch 29/30, loss 0.1025, training accuracy 97.11%\n",
      "epoch 30/30, loss 0.0988, training accuracy 97.25%\n"
     ]
    }
   ],
   "source": [
    "lr = 1e-3\n",
    "best_model = LinearNet2().to(device)\n",
    "# best_model = LeNet().to(device)\n",
    "optimizer = optim.Adam(best_model.parameters(), lr=lr)\n",
    "criterion = nn.CrossEntropyLoss()\n",
    "\n",
    "train_model(best_model, criterion, optimizer, num_epochs=30, train_loader=full_train_loader)"
   ]
  },
  {
   "cell_type": "code",
   "execution_count": 22,
   "id": "d7febfc1",
   "metadata": {
    "collapsed": false,
    "execution": {
     "iopub.execute_input": "2023-10-27T15:30:49.365640Z",
     "iopub.status.busy": "2023-10-27T15:30:49.365246Z",
     "iopub.status.idle": "2023-10-27T15:30:49.370578Z",
     "shell.execute_reply": "2023-10-27T15:30:49.369697Z"
    },
    "papermill": {
     "duration": 0.02397,
     "end_time": "2023-10-27T15:30:49.372449",
     "exception": false,
     "start_time": "2023-10-27T15:30:49.348479",
     "status": "completed"
    },
    "tags": []
   },
   "outputs": [],
   "source": [
    "def submit_prediction(y_pred, name='submission'):\n",
    "    submission = pd.DataFrame({'ImageId': range(1, len(y_pred)+1), 'Label': y_pred})\n",
    "    submission.to_csv(f'/kaggle/working/{name}.csv', index=False)"
   ]
  },
  {
   "cell_type": "code",
   "execution_count": 23,
   "id": "5523c37d",
   "metadata": {
    "collapsed": false,
    "execution": {
     "iopub.execute_input": "2023-10-27T15:30:49.400625Z",
     "iopub.status.busy": "2023-10-27T15:30:49.399848Z",
     "iopub.status.idle": "2023-10-27T15:30:49.789831Z",
     "shell.execute_reply": "2023-10-27T15:30:49.788881Z"
    },
    "papermill": {
     "duration": 0.406434,
     "end_time": "2023-10-27T15:30:49.792285",
     "exception": false,
     "start_time": "2023-10-27T15:30:49.385851",
     "status": "completed"
    },
    "tags": []
   },
   "outputs": [],
   "source": [
    "y_pred = test_model(best_model)\n",
    "submit_prediction(y_pred)"
   ]
  }
 ],
 "metadata": {
  "kernelspec": {
   "display_name": "Python 3",
   "language": "python",
   "name": "python3"
  },
  "language_info": {
   "codemirror_mode": {
    "name": "ipython",
    "version": 3
   },
   "file_extension": ".py",
   "mimetype": "text/x-python",
   "name": "python",
   "nbconvert_exporter": "python",
   "pygments_lexer": "ipython3",
   "version": "3.10.12"
  },
  "papermill": {
   "default_parameters": {},
   "duration": 3040.702362,
   "end_time": "2023-10-27T15:30:52.961884",
   "environment_variables": {},
   "exception": null,
   "input_path": "__notebook__.ipynb",
   "output_path": "__notebook__.ipynb",
   "parameters": {},
   "start_time": "2023-10-27T14:40:12.259522",
   "version": "2.4.0"
  }
 },
 "nbformat": 4,
 "nbformat_minor": 5
}
