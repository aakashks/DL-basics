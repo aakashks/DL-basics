{
 "cells": [
  {
   "cell_type": "markdown",
   "id": "52a77233",
   "metadata": {
    "papermill": {
     "duration": 0.007892,
     "end_time": "2023-10-27T15:27:08.996158",
     "exception": false,
     "start_time": "2023-10-27T15:27:08.988266",
     "status": "completed"
    },
    "tags": []
   },
   "source": [
    "# MNIST Digit Recognition with higher accuracy using Elastic Distortion"
   ]
  },
  {
   "cell_type": "markdown",
   "id": "6b75ebf3",
   "metadata": {
    "papermill": {
     "duration": 0.007783,
     "end_time": "2023-10-27T15:27:09.011690",
     "exception": false,
     "start_time": "2023-10-27T15:27:09.003907",
     "status": "completed"
    },
    "tags": []
   },
   "source": [
    "## Imports"
   ]
  },
  {
   "cell_type": "code",
   "execution_count": 1,
   "id": "5f7cb46e",
   "metadata": {
    "execution": {
     "iopub.execute_input": "2023-10-27T15:27:09.029278Z",
     "iopub.status.busy": "2023-10-27T15:27:09.028086Z",
     "iopub.status.idle": "2023-10-27T15:27:25.543245Z",
     "shell.execute_reply": "2023-10-27T15:27:25.541860Z"
    },
    "papermill": {
     "duration": 16.526807,
     "end_time": "2023-10-27T15:27:25.546083",
     "exception": false,
     "start_time": "2023-10-27T15:27:09.019276",
     "status": "completed"
    },
    "tags": []
   },
   "outputs": [
    {
     "data": {
      "text/plain": [
       "device(type='cpu')"
      ]
     },
     "execution_count": 1,
     "metadata": {},
     "output_type": "execute_result"
    }
   ],
   "source": [
    "import time\n",
    "import os\n",
    "\n",
    "import numpy as np\n",
    "import pandas as pd\n",
    "import matplotlib.pyplot as plt\n",
    "import seaborn as sns\n",
    "\n",
    "import torch\n",
    "import torch.nn as nn\n",
    "import torch.nn.functional as F\n",
    "\n",
    "import torch.optim as optim\n",
    "from torch.optim import lr_scheduler\n",
    "from torch.utils.data import Dataset, DataLoader, TensorDataset\n",
    "\n",
    "import torchvision\n",
    "from torchvision import transforms\n",
    "from torchvision import datasets, models, transforms\n",
    "\n",
    "from torch.utils.tensorboard import SummaryWriter\n",
    "\n",
    "from PIL import Image\n",
    "from tempfile import TemporaryDirectory\n",
    "\n",
    "writer = SummaryWriter('/kaggle/working/logs')\n",
    "# %load_ext tensorboard.notebook\n",
    "# %tensorboard --logdir /kaggle/working/logs\n",
    "\n",
    "device = torch.device('cpu')\n",
    "device"
   ]
  },
  {
   "cell_type": "code",
   "execution_count": 2,
   "id": "091bc031",
   "metadata": {
    "execution": {
     "iopub.execute_input": "2023-10-27T15:27:25.564186Z",
     "iopub.status.busy": "2023-10-27T15:27:25.563313Z",
     "iopub.status.idle": "2023-10-27T15:27:31.563047Z",
     "shell.execute_reply": "2023-10-27T15:27:31.561761Z"
    },
    "papermill": {
     "duration": 6.012932,
     "end_time": "2023-10-27T15:27:31.566741",
     "exception": false,
     "start_time": "2023-10-27T15:27:25.553809",
     "status": "completed"
    },
    "tags": []
   },
   "outputs": [
    {
     "name": "stdout",
     "output_type": "stream",
     "text": [
      "<class 'pandas.core.frame.DataFrame'>\n",
      "RangeIndex: 42000 entries, 0 to 41999\n",
      "Columns: 785 entries, label to pixel783\n",
      "dtypes: int64(785)\n",
      "memory usage: 251.5 MB\n"
     ]
    }
   ],
   "source": [
    "# PATH_TO_DATA = 'Datasets/'\n",
    "PATH_TO_DATA = '/kaggle/input/digit-recognizer/'\n",
    "train_data = pd.read_csv(os.path.join(PATH_TO_DATA, 'train.csv'))\n",
    "test_data = pd.read_csv(os.path.join(PATH_TO_DATA, 'test.csv'))\n",
    "\n",
    "train_data.info()"
   ]
  },
  {
   "cell_type": "code",
   "execution_count": 3,
   "id": "b4aac42c",
   "metadata": {
    "execution": {
     "iopub.execute_input": "2023-10-27T15:27:31.585890Z",
     "iopub.status.busy": "2023-10-27T15:27:31.584893Z",
     "iopub.status.idle": "2023-10-27T15:27:31.609924Z",
     "shell.execute_reply": "2023-10-27T15:27:31.608529Z"
    },
    "papermill": {
     "duration": 0.036859,
     "end_time": "2023-10-27T15:27:31.612497",
     "exception": false,
     "start_time": "2023-10-27T15:27:31.575638",
     "status": "completed"
    },
    "tags": []
   },
   "outputs": [
    {
     "data": {
      "text/html": [
       "<div>\n",
       "<style scoped>\n",
       "    .dataframe tbody tr th:only-of-type {\n",
       "        vertical-align: middle;\n",
       "    }\n",
       "\n",
       "    .dataframe tbody tr th {\n",
       "        vertical-align: top;\n",
       "    }\n",
       "\n",
       "    .dataframe thead th {\n",
       "        text-align: right;\n",
       "    }\n",
       "</style>\n",
       "<table border=\"1\" class=\"dataframe\">\n",
       "  <thead>\n",
       "    <tr style=\"text-align: right;\">\n",
       "      <th></th>\n",
       "      <th>label</th>\n",
       "      <th>pixel0</th>\n",
       "      <th>pixel1</th>\n",
       "      <th>pixel2</th>\n",
       "      <th>pixel3</th>\n",
       "      <th>pixel4</th>\n",
       "      <th>pixel5</th>\n",
       "      <th>pixel6</th>\n",
       "      <th>pixel7</th>\n",
       "      <th>pixel8</th>\n",
       "      <th>...</th>\n",
       "      <th>pixel774</th>\n",
       "      <th>pixel775</th>\n",
       "      <th>pixel776</th>\n",
       "      <th>pixel777</th>\n",
       "      <th>pixel778</th>\n",
       "      <th>pixel779</th>\n",
       "      <th>pixel780</th>\n",
       "      <th>pixel781</th>\n",
       "      <th>pixel782</th>\n",
       "      <th>pixel783</th>\n",
       "    </tr>\n",
       "  </thead>\n",
       "  <tbody>\n",
       "    <tr>\n",
       "      <th>0</th>\n",
       "      <td>1</td>\n",
       "      <td>0</td>\n",
       "      <td>0</td>\n",
       "      <td>0</td>\n",
       "      <td>0</td>\n",
       "      <td>0</td>\n",
       "      <td>0</td>\n",
       "      <td>0</td>\n",
       "      <td>0</td>\n",
       "      <td>0</td>\n",
       "      <td>...</td>\n",
       "      <td>0</td>\n",
       "      <td>0</td>\n",
       "      <td>0</td>\n",
       "      <td>0</td>\n",
       "      <td>0</td>\n",
       "      <td>0</td>\n",
       "      <td>0</td>\n",
       "      <td>0</td>\n",
       "      <td>0</td>\n",
       "      <td>0</td>\n",
       "    </tr>\n",
       "    <tr>\n",
       "      <th>1</th>\n",
       "      <td>0</td>\n",
       "      <td>0</td>\n",
       "      <td>0</td>\n",
       "      <td>0</td>\n",
       "      <td>0</td>\n",
       "      <td>0</td>\n",
       "      <td>0</td>\n",
       "      <td>0</td>\n",
       "      <td>0</td>\n",
       "      <td>0</td>\n",
       "      <td>...</td>\n",
       "      <td>0</td>\n",
       "      <td>0</td>\n",
       "      <td>0</td>\n",
       "      <td>0</td>\n",
       "      <td>0</td>\n",
       "      <td>0</td>\n",
       "      <td>0</td>\n",
       "      <td>0</td>\n",
       "      <td>0</td>\n",
       "      <td>0</td>\n",
       "    </tr>\n",
       "    <tr>\n",
       "      <th>2</th>\n",
       "      <td>1</td>\n",
       "      <td>0</td>\n",
       "      <td>0</td>\n",
       "      <td>0</td>\n",
       "      <td>0</td>\n",
       "      <td>0</td>\n",
       "      <td>0</td>\n",
       "      <td>0</td>\n",
       "      <td>0</td>\n",
       "      <td>0</td>\n",
       "      <td>...</td>\n",
       "      <td>0</td>\n",
       "      <td>0</td>\n",
       "      <td>0</td>\n",
       "      <td>0</td>\n",
       "      <td>0</td>\n",
       "      <td>0</td>\n",
       "      <td>0</td>\n",
       "      <td>0</td>\n",
       "      <td>0</td>\n",
       "      <td>0</td>\n",
       "    </tr>\n",
       "    <tr>\n",
       "      <th>3</th>\n",
       "      <td>4</td>\n",
       "      <td>0</td>\n",
       "      <td>0</td>\n",
       "      <td>0</td>\n",
       "      <td>0</td>\n",
       "      <td>0</td>\n",
       "      <td>0</td>\n",
       "      <td>0</td>\n",
       "      <td>0</td>\n",
       "      <td>0</td>\n",
       "      <td>...</td>\n",
       "      <td>0</td>\n",
       "      <td>0</td>\n",
       "      <td>0</td>\n",
       "      <td>0</td>\n",
       "      <td>0</td>\n",
       "      <td>0</td>\n",
       "      <td>0</td>\n",
       "      <td>0</td>\n",
       "      <td>0</td>\n",
       "      <td>0</td>\n",
       "    </tr>\n",
       "    <tr>\n",
       "      <th>4</th>\n",
       "      <td>0</td>\n",
       "      <td>0</td>\n",
       "      <td>0</td>\n",
       "      <td>0</td>\n",
       "      <td>0</td>\n",
       "      <td>0</td>\n",
       "      <td>0</td>\n",
       "      <td>0</td>\n",
       "      <td>0</td>\n",
       "      <td>0</td>\n",
       "      <td>...</td>\n",
       "      <td>0</td>\n",
       "      <td>0</td>\n",
       "      <td>0</td>\n",
       "      <td>0</td>\n",
       "      <td>0</td>\n",
       "      <td>0</td>\n",
       "      <td>0</td>\n",
       "      <td>0</td>\n",
       "      <td>0</td>\n",
       "      <td>0</td>\n",
       "    </tr>\n",
       "  </tbody>\n",
       "</table>\n",
       "<p>5 rows × 785 columns</p>\n",
       "</div>"
      ],
      "text/plain": [
       "   label  pixel0  pixel1  pixel2  pixel3  pixel4  pixel5  pixel6  pixel7  \\\n",
       "0      1       0       0       0       0       0       0       0       0   \n",
       "1      0       0       0       0       0       0       0       0       0   \n",
       "2      1       0       0       0       0       0       0       0       0   \n",
       "3      4       0       0       0       0       0       0       0       0   \n",
       "4      0       0       0       0       0       0       0       0       0   \n",
       "\n",
       "   pixel8  ...  pixel774  pixel775  pixel776  pixel777  pixel778  pixel779  \\\n",
       "0       0  ...         0         0         0         0         0         0   \n",
       "1       0  ...         0         0         0         0         0         0   \n",
       "2       0  ...         0         0         0         0         0         0   \n",
       "3       0  ...         0         0         0         0         0         0   \n",
       "4       0  ...         0         0         0         0         0         0   \n",
       "\n",
       "   pixel780  pixel781  pixel782  pixel783  \n",
       "0         0         0         0         0  \n",
       "1         0         0         0         0  \n",
       "2         0         0         0         0  \n",
       "3         0         0         0         0  \n",
       "4         0         0         0         0  \n",
       "\n",
       "[5 rows x 785 columns]"
      ]
     },
     "execution_count": 3,
     "metadata": {},
     "output_type": "execute_result"
    }
   ],
   "source": [
    "train_data.head()"
   ]
  },
  {
   "cell_type": "code",
   "execution_count": 4,
   "id": "a577c14c",
   "metadata": {
    "execution": {
     "iopub.execute_input": "2023-10-27T15:27:31.631055Z",
     "iopub.status.busy": "2023-10-27T15:27:31.630606Z",
     "iopub.status.idle": "2023-10-27T15:27:31.640406Z",
     "shell.execute_reply": "2023-10-27T15:27:31.639019Z"
    },
    "papermill": {
     "duration": 0.022497,
     "end_time": "2023-10-27T15:27:31.642954",
     "exception": false,
     "start_time": "2023-10-27T15:27:31.620457",
     "status": "completed"
    },
    "tags": []
   },
   "outputs": [
    {
     "data": {
      "text/plain": [
       "((42000, 785), (28000, 784))"
      ]
     },
     "execution_count": 4,
     "metadata": {},
     "output_type": "execute_result"
    }
   ],
   "source": [
    "train_data.shape, test_data.shape"
   ]
  },
  {
   "cell_type": "markdown",
   "id": "3f65c3ee",
   "metadata": {
    "papermill": {
     "duration": 0.008151,
     "end_time": "2023-10-27T15:27:31.659205",
     "exception": false,
     "start_time": "2023-10-27T15:27:31.651054",
     "status": "completed"
    },
    "tags": []
   },
   "source": [
    "## Preparing Dataset"
   ]
  },
  {
   "cell_type": "code",
   "execution_count": 5,
   "id": "26513306",
   "metadata": {
    "execution": {
     "iopub.execute_input": "2023-10-27T15:27:31.677709Z",
     "iopub.status.busy": "2023-10-27T15:27:31.677272Z",
     "iopub.status.idle": "2023-10-27T15:27:31.685844Z",
     "shell.execute_reply": "2023-10-27T15:27:31.684774Z"
    },
    "papermill": {
     "duration": 0.020889,
     "end_time": "2023-10-27T15:27:31.688300",
     "exception": false,
     "start_time": "2023-10-27T15:27:31.667411",
     "status": "completed"
    },
    "tags": []
   },
   "outputs": [
    {
     "data": {
      "text/plain": [
       "((42000, 784), (42000,))"
      ]
     },
     "execution_count": 5,
     "metadata": {},
     "output_type": "execute_result"
    }
   ],
   "source": [
    "X = train_data.values[:, 1:]\n",
    "y = train_data.values[:, 0]\n",
    "X_test = test_data.values\n",
    "X.shape, y.shape"
   ]
  },
  {
   "cell_type": "code",
   "execution_count": 6,
   "id": "cc3cd321",
   "metadata": {
    "execution": {
     "iopub.execute_input": "2023-10-27T15:27:31.706376Z",
     "iopub.status.busy": "2023-10-27T15:27:31.705954Z",
     "iopub.status.idle": "2023-10-27T15:27:32.611621Z",
     "shell.execute_reply": "2023-10-27T15:27:32.610237Z"
    },
    "papermill": {
     "duration": 0.918602,
     "end_time": "2023-10-27T15:27:32.614840",
     "exception": false,
     "start_time": "2023-10-27T15:27:31.696238",
     "status": "completed"
    },
    "tags": []
   },
   "outputs": [
    {
     "data": {
      "text/plain": [
       "((33600, 784), (8400, 784), (33600,), (8400,))"
      ]
     },
     "execution_count": 6,
     "metadata": {},
     "output_type": "execute_result"
    }
   ],
   "source": [
    "from sklearn.model_selection import train_test_split\n",
    "\n",
    "X_train, X_val, y_train, y_val = train_test_split(X, y, test_size=0.2, random_state=42)\n",
    "X_train.shape, X_val.shape, y_train.shape, y_val.shape"
   ]
  },
  {
   "cell_type": "code",
   "execution_count": 7,
   "id": "026dcba2",
   "metadata": {
    "collapsed": false,
    "execution": {
     "iopub.execute_input": "2023-10-27T15:27:32.632676Z",
     "iopub.status.busy": "2023-10-27T15:27:32.632245Z",
     "iopub.status.idle": "2023-10-27T15:27:32.640332Z",
     "shell.execute_reply": "2023-10-27T15:27:32.638891Z"
    },
    "jupyter": {
     "outputs_hidden": false
    },
    "papermill": {
     "duration": 0.019928,
     "end_time": "2023-10-27T15:27:32.642779",
     "exception": false,
     "start_time": "2023-10-27T15:27:32.622851",
     "status": "completed"
    },
    "tags": []
   },
   "outputs": [],
   "source": [
    "class MNISTDataset(Dataset):\n",
    "    def __init__(self, X, y, transform=None):\n",
    "        self.n_samples = X.shape[0]\n",
    "        X = X.reshape(-1, 1, 28, 28) / 255.\n",
    "        self.x_data = torch.from_numpy(X.astype(np.float32))\n",
    "        self.y_data = torch.from_numpy(y)\n",
    "        \n",
    "        self.transform = transform\n",
    "        \n",
    "    def __len__(self):\n",
    "        return self.n_samples\n",
    "    \n",
    "    def __getitem__(self, item):\n",
    "        image, label = self.x_data[item], self.y_data[item]\n",
    "        \n",
    "        if self.transform is not None:\n",
    "            image = self.transform(image)\n",
    "            \n",
    "        return image, label"
   ]
  },
  {
   "cell_type": "code",
   "execution_count": 8,
   "id": "7a2d9a3d",
   "metadata": {
    "collapsed": false,
    "execution": {
     "iopub.execute_input": "2023-10-27T15:27:32.661361Z",
     "iopub.status.busy": "2023-10-27T15:27:32.660596Z",
     "iopub.status.idle": "2023-10-27T15:27:32.669022Z",
     "shell.execute_reply": "2023-10-27T15:27:32.667673Z"
    },
    "jupyter": {
     "outputs_hidden": false
    },
    "papermill": {
     "duration": 0.020613,
     "end_time": "2023-10-27T15:27:32.671912",
     "exception": false,
     "start_time": "2023-10-27T15:27:32.651299",
     "status": "completed"
    },
    "tags": []
   },
   "outputs": [],
   "source": [
    "class MNISTDataset_test(Dataset):\n",
    "    def __init__(self, X, transform=None):\n",
    "        self.n_samples = X.shape[0]\n",
    "        X = X.reshape(-1, 1, 28, 28) / 255.\n",
    "        self.x_data = torch.from_numpy(X.astype(np.float32))\n",
    "        \n",
    "        self.transform = transform\n",
    "        \n",
    "    def __len__(self):\n",
    "        return self.n_samples\n",
    "    \n",
    "    def __getitem__(self, item):\n",
    "        sample = self.x_data[item]\n",
    "        \n",
    "        if self.transform is not None:\n",
    "            sample = self.transform(sample)\n",
    "            \n",
    "        return sample"
   ]
  },
  {
   "cell_type": "markdown",
   "id": "2c4c9957",
   "metadata": {
    "papermill": {
     "duration": 0.007908,
     "end_time": "2023-10-27T15:27:32.688731",
     "exception": false,
     "start_time": "2023-10-27T15:27:32.680823",
     "status": "completed"
    },
    "tags": []
   },
   "source": [
    "## Transformations"
   ]
  },
  {
   "cell_type": "code",
   "execution_count": 9,
   "id": "ee84420a",
   "metadata": {
    "collapsed": false,
    "execution": {
     "iopub.execute_input": "2023-10-27T15:27:32.706531Z",
     "iopub.status.busy": "2023-10-27T15:27:32.706115Z",
     "iopub.status.idle": "2023-10-27T15:27:32.718418Z",
     "shell.execute_reply": "2023-10-27T15:27:32.716768Z"
    },
    "jupyter": {
     "outputs_hidden": false
    },
    "papermill": {
     "duration": 0.024354,
     "end_time": "2023-10-27T15:27:32.720974",
     "exception": false,
     "start_time": "2023-10-27T15:27:32.696620",
     "status": "completed"
    },
    "tags": []
   },
   "outputs": [
    {
     "name": "stderr",
     "output_type": "stream",
     "text": [
      "/tmp/ipykernel_20/1988255430.py:1: DeprecationWarning: Please use `gaussian_filter` from the `scipy.ndimage` namespace, the `scipy.ndimage.filters` namespace is deprecated.\n",
      "  from scipy.ndimage.filters import gaussian_filter\n",
      "/tmp/ipykernel_20/1988255430.py:2: DeprecationWarning: Please use `map_coordinates` from the `scipy.ndimage` namespace, the `scipy.ndimage.interpolation` namespace is deprecated.\n",
      "  from scipy.ndimage.interpolation import map_coordinates\n"
     ]
    }
   ],
   "source": [
    "from scipy.ndimage.filters import gaussian_filter\n",
    "from scipy.ndimage.interpolation import map_coordinates\n",
    "\n",
    "def elastic_transform(image, alpha_range, sigma, random_state=None):\n",
    "    \"\"\"\n",
    "    # Arguments\n",
    "       image: Numpy array with shape (height, width, channels). \n",
    "       alpha_range: Float for fixed value or [lower, upper] for random value from uniform distribution.\n",
    "           Controls intensity of deformation.\n",
    "       sigma: Float, sigma of gaussian filter that smooths the displacement fields.\n",
    "       random_state: `numpy.random.RandomState` object for generating displacement fields.\n",
    "    \"\"\"\n",
    "\n",
    "    if random_state is None:\n",
    "        random_state = np.random.RandomState(None)\n",
    "    \n",
    "    if np.isscalar(alpha_range):\n",
    "        alpha = alpha_range\n",
    "    else:\n",
    "        alpha = np.random.uniform(low=alpha_range[0], high=alpha_range[1])\n",
    "    \n",
    "    shape = image.shape\n",
    "    dx = gaussian_filter((random_state.rand(*shape) * 2 - 1), sigma) * alpha\n",
    "    dy = gaussian_filter((random_state.rand(*shape) * 2 - 1), sigma) * alpha\n",
    "    \n",
    "    x, y, z = np.meshgrid(np.arange(shape[0]), np.arange(shape[1]), np.arange(shape[2]), indexing='ij')\n",
    "    indices = np.reshape(x + dx, (-1, 1)), np.reshape(y + dy, (-1, 1)), np.reshape(z, (-1, 1))\n",
    "    \n",
    "    return torch.from_numpy(map_coordinates(image, indices, order=1, mode='reflect').reshape(1, 28, 28)).to(device, torch.float32)"
   ]
  },
  {
   "cell_type": "code",
   "execution_count": 10,
   "id": "e4cf467c",
   "metadata": {
    "collapsed": false,
    "execution": {
     "iopub.execute_input": "2023-10-27T15:27:32.739449Z",
     "iopub.status.busy": "2023-10-27T15:27:32.738994Z",
     "iopub.status.idle": "2023-10-27T15:27:32.745540Z",
     "shell.execute_reply": "2023-10-27T15:27:32.744441Z"
    },
    "jupyter": {
     "outputs_hidden": false
    },
    "papermill": {
     "duration": 0.018275,
     "end_time": "2023-10-27T15:27:32.747731",
     "exception": false,
     "start_time": "2023-10-27T15:27:32.729456",
     "status": "completed"
    },
    "tags": []
   },
   "outputs": [],
   "source": [
    "transform_train = transforms.Compose([\n",
    "    transforms.ToPILImage(),\n",
    "    transforms.RandomRotation(10),  # Randomly rotate by up to 10 degrees\n",
    "    transforms.RandomAffine(degrees=0, translate=(0.1, 0.1), scale=(0.9, 1.1)),  # Randomly zoom and shift\n",
    "    transforms.Lambda(lambda x: elastic_transform(np.array(x).reshape(28, 28, 1), alpha_range=[0, 10], sigma=3)),\n",
    "#     transforms.ToTensor()\n",
    "])"
   ]
  },
  {
   "cell_type": "code",
   "execution_count": 11,
   "id": "ae5352b6",
   "metadata": {
    "collapsed": false,
    "execution": {
     "iopub.execute_input": "2023-10-27T15:27:32.766424Z",
     "iopub.status.busy": "2023-10-27T15:27:32.766061Z",
     "iopub.status.idle": "2023-10-27T15:27:32.769724Z",
     "shell.execute_reply": "2023-10-27T15:27:32.768922Z"
    },
    "jupyter": {
     "outputs_hidden": false
    },
    "papermill": {
     "duration": 0.015485,
     "end_time": "2023-10-27T15:27:32.771719",
     "exception": false,
     "start_time": "2023-10-27T15:27:32.756234",
     "status": "completed"
    },
    "tags": []
   },
   "outputs": [],
   "source": [
    "batch_size = 128\n",
    "num_classes = 10 "
   ]
  },
  {
   "cell_type": "code",
   "execution_count": 12,
   "id": "463b1b88",
   "metadata": {
    "collapsed": false,
    "execution": {
     "iopub.execute_input": "2023-10-27T15:27:32.789896Z",
     "iopub.status.busy": "2023-10-27T15:27:32.789480Z",
     "iopub.status.idle": "2023-10-27T15:27:33.439093Z",
     "shell.execute_reply": "2023-10-27T15:27:33.437588Z"
    },
    "jupyter": {
     "outputs_hidden": false
    },
    "papermill": {
     "duration": 0.662158,
     "end_time": "2023-10-27T15:27:33.442064",
     "exception": false,
     "start_time": "2023-10-27T15:27:32.779906",
     "status": "completed"
    },
    "tags": []
   },
   "outputs": [],
   "source": [
    "train_dataset = MNISTDataset(X_train, y_train)\n",
    "val_dataset = MNISTDataset(X_val, y_val)\n",
    "\n",
    "full_train_dataset = MNISTDataset(X, y)\n",
    "test_dataset = MNISTDataset_test(X_test)"
   ]
  },
  {
   "cell_type": "code",
   "execution_count": 13,
   "id": "0ceb78d8",
   "metadata": {
    "execution": {
     "iopub.execute_input": "2023-10-27T15:27:33.461613Z",
     "iopub.status.busy": "2023-10-27T15:27:33.460526Z",
     "iopub.status.idle": "2023-10-27T15:27:33.468602Z",
     "shell.execute_reply": "2023-10-27T15:27:33.467174Z"
    },
    "papermill": {
     "duration": 0.020264,
     "end_time": "2023-10-27T15:27:33.471016",
     "exception": false,
     "start_time": "2023-10-27T15:27:33.450752",
     "status": "completed"
    },
    "tags": []
   },
   "outputs": [],
   "source": [
    "train_loader = DataLoader(dataset=train_dataset, batch_size=batch_size, shuffle=True)\n",
    "val_loader = DataLoader(dataset=val_dataset, batch_size=batch_size, shuffle=True)\n",
    "\n",
    "full_train_loader = DataLoader(dataset=full_train_dataset, batch_size=batch_size, shuffle=True)\n",
    "test_loader = DataLoader(dataset=test_dataset, batch_size=batch_size, shuffle=False)"
   ]
  },
  {
   "cell_type": "code",
   "execution_count": 14,
   "id": "7ecaecbd",
   "metadata": {
    "execution": {
     "iopub.execute_input": "2023-10-27T15:27:33.489301Z",
     "iopub.status.busy": "2023-10-27T15:27:33.488877Z",
     "iopub.status.idle": "2023-10-27T15:27:33.569368Z",
     "shell.execute_reply": "2023-10-27T15:27:33.568165Z"
    },
    "papermill": {
     "duration": 0.092456,
     "end_time": "2023-10-27T15:27:33.571660",
     "exception": false,
     "start_time": "2023-10-27T15:27:33.479204",
     "status": "completed"
    },
    "tags": []
   },
   "outputs": [
    {
     "data": {
      "text/plain": [
       "(torch.Size([128, 1, 28, 28]), torch.Size([128]))"
      ]
     },
     "execution_count": 14,
     "metadata": {},
     "output_type": "execute_result"
    }
   ],
   "source": [
    "images, labels = next(iter(train_loader))\n",
    "images.shape, labels.shape"
   ]
  },
  {
   "cell_type": "markdown",
   "id": "beb8cc76",
   "metadata": {
    "papermill": {
     "duration": 0.007979,
     "end_time": "2023-10-27T15:27:33.588266",
     "exception": false,
     "start_time": "2023-10-27T15:27:33.580287",
     "status": "completed"
    },
    "tags": []
   },
   "source": [
    "## Training Models"
   ]
  },
  {
   "cell_type": "code",
   "execution_count": 15,
   "id": "7d9d77c5",
   "metadata": {
    "collapsed": false,
    "execution": {
     "iopub.execute_input": "2023-10-27T15:27:33.607092Z",
     "iopub.status.busy": "2023-10-27T15:27:33.606637Z",
     "iopub.status.idle": "2023-10-27T15:27:33.619397Z",
     "shell.execute_reply": "2023-10-27T15:27:33.618137Z"
    },
    "jupyter": {
     "outputs_hidden": false
    },
    "papermill": {
     "duration": 0.026192,
     "end_time": "2023-10-27T15:27:33.622740",
     "exception": false,
     "start_time": "2023-10-27T15:27:33.596548",
     "status": "completed"
    },
    "tags": []
   },
   "outputs": [],
   "source": [
    "def train_model(model, criterion, optimizer, num_epochs, train_loader=train_loader, val_loader=None, scheduler=None, tag='train'):\n",
    "    steps_per_epoch = len(train_loader)\n",
    "    for epoch in range(num_epochs):\n",
    "\n",
    "        running_loss = 0.0\n",
    "        running_corrects = 0\n",
    "        running_corrects_val = 0\n",
    "            \n",
    "        for i, (images, labels) in enumerate(train_loader):\n",
    "            images = images.to(device)\n",
    "            labels = labels.to(device)            \n",
    "            \n",
    "            optimizer.zero_grad()\n",
    "            output = model(images)\n",
    "            loss = criterion(output, labels)\n",
    "            loss.backward()\n",
    "            optimizer.step()\n",
    "            \n",
    "            with torch.no_grad():\n",
    "                _, predictions = torch.max(output, 1)\n",
    "                corrects = (predictions == labels).sum().item()\n",
    "                running_corrects += corrects\n",
    "                \n",
    "                running_loss += loss.item()\n",
    "                \n",
    "            writer.add_scalar(f'{tag}_loss', loss, epoch*steps_per_epoch + i)\n",
    "            writer.add_scalar(f'{tag}_accuracy', corrects/labels.shape[0], epoch*steps_per_epoch + i)\n",
    "        \n",
    "        epoch_loss = running_loss / steps_per_epoch\n",
    "        epoch_acc = running_corrects*100/len(train_loader)/batch_size\n",
    "\n",
    "        print(f'epoch {epoch+1}/{num_epochs}, loss {epoch_loss:.4f}, training accuracy {epoch_acc:.2f}%', end='')\n",
    "                \n",
    "        if val_loader is not None:\n",
    "            for i, (images, labels) in enumerate(val_loader):\n",
    "                images = images.to(device)\n",
    "                labels = labels.to(device)\n",
    "                \n",
    "                with torch.no_grad():\n",
    "                    output = model(images)\n",
    "                    _, predictions = torch.max(output, 1)\n",
    "                    corrects = (predictions == labels).sum().item()\n",
    "                    running_corrects_val += corrects\n",
    "                    \n",
    "                writer.add_scalar('val_accuracy', corrects/labels.shape[0], epoch*len(val_loader) + i)\n",
    "                    \n",
    "            epoch_val_acc = running_corrects_val*100/len(val_loader)/batch_size\n",
    "            print(f', validation accuracy {epoch_val_acc:.2f}%')\n",
    "        else:\n",
    "            print()\n",
    "                \n",
    "        if scheduler is not None:\n",
    "            scheduler.step()\n",
    "            \n",
    "    writer.flush()\n",
    "    writer.close()\n",
    "            "
   ]
  },
  {
   "cell_type": "code",
   "execution_count": 16,
   "id": "33d2a2de",
   "metadata": {
    "collapsed": false,
    "execution": {
     "iopub.execute_input": "2023-10-27T15:27:33.642519Z",
     "iopub.status.busy": "2023-10-27T15:27:33.642095Z",
     "iopub.status.idle": "2023-10-27T15:27:33.650520Z",
     "shell.execute_reply": "2023-10-27T15:27:33.649163Z"
    },
    "jupyter": {
     "outputs_hidden": false
    },
    "papermill": {
     "duration": 0.020864,
     "end_time": "2023-10-27T15:27:33.652887",
     "exception": false,
     "start_time": "2023-10-27T15:27:33.632023",
     "status": "completed"
    },
    "tags": []
   },
   "outputs": [],
   "source": [
    "from sklearn.metrics import classification_report, confusion_matrix\n",
    "\n",
    "def validate_model(model, val_loader=val_loader):\n",
    "    \n",
    "    y_true = []\n",
    "    y_pred = []\n",
    "    \n",
    "    with torch.no_grad():\n",
    "        for images, labels in val_loader:\n",
    "            images = images.to(device)\n",
    "            \n",
    "            output = model(images) \n",
    "            _, predictions = torch.max(output, 1)\n",
    "            \n",
    "            y_true.extend(labels.cpu().tolist())\n",
    "            y_pred.extend(predictions.cpu().tolist())\n",
    "            \n",
    "    print(classification_report(y_true, y_pred))\n",
    "    cm = confusion_matrix(y_true, y_pred, normalize='true')\n",
    "    sns.heatmap(cm)"
   ]
  },
  {
   "cell_type": "code",
   "execution_count": 17,
   "id": "103be65d",
   "metadata": {
    "collapsed": false,
    "execution": {
     "iopub.execute_input": "2023-10-27T15:27:33.671409Z",
     "iopub.status.busy": "2023-10-27T15:27:33.671034Z",
     "iopub.status.idle": "2023-10-27T15:27:33.678856Z",
     "shell.execute_reply": "2023-10-27T15:27:33.677134Z"
    },
    "jupyter": {
     "outputs_hidden": false
    },
    "papermill": {
     "duration": 0.02023,
     "end_time": "2023-10-27T15:27:33.681617",
     "exception": false,
     "start_time": "2023-10-27T15:27:33.661387",
     "status": "completed"
    },
    "tags": []
   },
   "outputs": [],
   "source": [
    "def test_model(model, test_loader=test_loader, y_true=None):\n",
    "    \n",
    "    y_pred = []\n",
    "    \n",
    "    with torch.no_grad():\n",
    "        for images in test_loader:\n",
    "            images = images.to(device)\n",
    "            \n",
    "            output = model(images) \n",
    "            _, predictions = torch.max(output, 1)\n",
    "            \n",
    "            y_pred.extend(predictions.cpu().tolist())\n",
    "        \n",
    "    if y_true is not None:\n",
    "        print(classification_report(y_true, y_pred))\n",
    "        cm = confusion_matrix(y_true, y_pred, normalize='true')\n",
    "        sns.heatmap(cm, annot=True)\n",
    "    else:\n",
    "        return y_pred "
   ]
  },
  {
   "cell_type": "code",
   "execution_count": 18,
   "id": "dc8e5a68",
   "metadata": {
    "collapsed": false,
    "execution": {
     "iopub.execute_input": "2023-10-27T15:27:33.700503Z",
     "iopub.status.busy": "2023-10-27T15:27:33.700088Z",
     "iopub.status.idle": "2023-10-27T15:27:33.711470Z",
     "shell.execute_reply": "2023-10-27T15:27:33.710306Z"
    },
    "jupyter": {
     "outputs_hidden": false
    },
    "papermill": {
     "duration": 0.023951,
     "end_time": "2023-10-27T15:27:33.714011",
     "exception": false,
     "start_time": "2023-10-27T15:27:33.690060",
     "status": "completed"
    },
    "tags": []
   },
   "outputs": [],
   "source": [
    "class LinearNet(nn.Module):\n",
    "    def __init__(self, in_features=784):\n",
    "        super().__init__()\n",
    "        self.fc = nn.Linear(in_features, num_classes)\n",
    "        \n",
    "    def forward(self, x):\n",
    "        x = x.flatten(start_dim=1)\n",
    "        x = self.fc(x)\n",
    "        return x\n",
    "    \n",
    "class LinearNet2(nn.Module):\n",
    "    def __init__(self, in_features=784, hidden_layer=256):\n",
    "        super().__init__()\n",
    "        self.fc = nn.Sequential(\n",
    "            nn.Linear(in_features, hidden_layer),\n",
    "            nn.BatchNorm1d(hidden_layer),\n",
    "            nn.ReLU(),\n",
    "            nn.Linear(hidden_layer, hidden_layer),\n",
    "            nn.BatchNorm1d(hidden_layer),\n",
    "            nn.ReLU(),\n",
    "            nn.Linear(hidden_layer, num_classes)\n",
    "        )\n",
    "        \n",
    "    def forward(self, x):\n",
    "        x = x.flatten(start_dim=1)\n",
    "        return self.fc(x)\n",
    "    \n",
    "class ConvNet(nn.Module):\n",
    "    def __init__(self):\n",
    "        super().__init__()\n",
    "        self.net = nn.Sequential(\n",
    "        )\n",
    "\n",
    "    def forward(self, x):\n",
    "        return self.fc(x)\n",
    "\n",
    "class LeNet(nn.Module):\n",
    "    def __init__(self):\n",
    "        super().__init__()\n",
    "        self.net = nn.Sequential(\n",
    "            nn.LazyConv2d(6, kernel_size=5, padding=2), nn.ReLU(),\n",
    "            nn.AvgPool2d(kernel_size=2, stride=2),\n",
    "            nn.LazyConv2d(16, kernel_size=5), nn.ReLU(),\n",
    "            nn.AvgPool2d(kernel_size=2, stride=2),\n",
    "            nn.Flatten(),\n",
    "            nn.LazyLinear(128), nn.ReLU(),\n",
    "            nn.LazyLinear(64), nn.ReLU(),\n",
    "            nn.LazyLinear(num_classes))\n",
    "        \n",
    "    def forward(self, x):\n",
    "        return self.net(x)\n"
   ]
  },
  {
   "cell_type": "markdown",
   "id": "131ad482",
   "metadata": {
    "papermill": {
     "duration": 0.00837,
     "end_time": "2023-10-27T15:27:33.731045",
     "exception": false,
     "start_time": "2023-10-27T15:27:33.722675",
     "status": "completed"
    },
    "tags": []
   },
   "source": [
    "## Comparing Results of Different Models and optimizers"
   ]
  },
  {
   "cell_type": "code",
   "execution_count": 19,
   "id": "bdae78e4",
   "metadata": {
    "collapsed": false,
    "execution": {
     "iopub.execute_input": "2023-10-27T15:27:33.750836Z",
     "iopub.status.busy": "2023-10-27T15:27:33.750363Z",
     "iopub.status.idle": "2023-10-27T15:28:57.477029Z",
     "shell.execute_reply": "2023-10-27T15:28:57.475673Z"
    },
    "jupyter": {
     "outputs_hidden": false
    },
    "papermill": {
     "duration": 83.739988,
     "end_time": "2023-10-27T15:28:57.479583",
     "exception": false,
     "start_time": "2023-10-27T15:27:33.739595",
     "status": "completed"
    },
    "tags": []
   },
   "outputs": [
    {
     "name": "stderr",
     "output_type": "stream",
     "text": [
      "/opt/conda/lib/python3.10/site-packages/torch/nn/modules/lazy.py:180: UserWarning: Lazy modules are a new feature under heavy development so changes to the API or functionality can happen at any moment.\n",
      "  warnings.warn('Lazy modules are a new feature under heavy development '\n"
     ]
    },
    {
     "name": "stdout",
     "output_type": "stream",
     "text": [
      "epoch 1/15, loss 0.3733, training accuracy 88.09%, validation accuracy 95.92%\n",
      "epoch 2/15, loss 0.1006, training accuracy 96.72%, validation accuracy 96.93%\n",
      "epoch 3/15, loss 0.0692, training accuracy 97.75%, validation accuracy 97.32%\n",
      "epoch 4/15, loss 0.0543, training accuracy 98.05%, validation accuracy 97.60%\n",
      "epoch 5/15, loss 0.0460, training accuracy 98.42%, validation accuracy 97.70%\n",
      "epoch 6/15, loss 0.0362, training accuracy 98.67%, validation accuracy 97.63%\n",
      "epoch 7/15, loss 0.0344, training accuracy 98.70%, validation accuracy 97.63%\n",
      "epoch 8/15, loss 0.0271, training accuracy 99.00%, validation accuracy 98.04%\n",
      "epoch 9/15, loss 0.0236, training accuracy 99.03%, validation accuracy 97.66%\n",
      "epoch 10/15, loss 0.0222, training accuracy 99.12%, validation accuracy 97.94%\n",
      "epoch 11/15, loss 0.0238, training accuracy 99.05%, validation accuracy 98.14%\n",
      "epoch 12/15, loss 0.0192, training accuracy 99.21%, validation accuracy 97.79%\n",
      "epoch 13/15, loss 0.0164, training accuracy 99.28%, validation accuracy 97.99%\n",
      "epoch 14/15, loss 0.0152, training accuracy 99.33%, validation accuracy 98.11%\n",
      "epoch 15/15, loss 0.0171, training accuracy 99.22%, validation accuracy 98.02%\n"
     ]
    }
   ],
   "source": [
    "lr = 4e-3\n",
    "epochs = 15\n",
    "# model = LinearNet2().to(device)\n",
    "model = LeNet().to(device)\n",
    "optimizer = optim.Adam(model.parameters(), lr=lr)\n",
    "criterion = nn.CrossEntropyLoss()\n",
    "\n",
    "train_model(model, criterion, optimizer, num_epochs=epochs, val_loader=val_loader)"
   ]
  },
  {
   "cell_type": "code",
   "execution_count": 20,
   "id": "4434c823",
   "metadata": {
    "collapsed": false,
    "execution": {
     "iopub.execute_input": "2023-10-27T15:28:57.504590Z",
     "iopub.status.busy": "2023-10-27T15:28:57.504148Z",
     "iopub.status.idle": "2023-10-27T15:28:58.376133Z",
     "shell.execute_reply": "2023-10-27T15:28:58.374502Z"
    },
    "jupyter": {
     "outputs_hidden": false
    },
    "papermill": {
     "duration": 0.888965,
     "end_time": "2023-10-27T15:28:58.378899",
     "exception": false,
     "start_time": "2023-10-27T15:28:57.489934",
     "status": "completed"
    },
    "tags": []
   },
   "outputs": [
    {
     "name": "stdout",
     "output_type": "stream",
     "text": [
      "              precision    recall  f1-score   support\n",
      "\n",
      "           0       0.99      0.99      0.99       816\n",
      "           1       1.00      0.99      0.99       909\n",
      "           2       0.99      0.98      0.98       846\n",
      "           3       0.99      0.98      0.99       937\n",
      "           4       0.98      0.99      0.99       839\n",
      "           5       0.99      0.98      0.98       702\n",
      "           6       0.98      0.99      0.99       785\n",
      "           7       0.97      0.99      0.98       893\n",
      "           8       0.98      0.99      0.98       835\n",
      "           9       0.98      0.98      0.98       838\n",
      "\n",
      "    accuracy                           0.99      8400\n",
      "   macro avg       0.99      0.99      0.99      8400\n",
      "weighted avg       0.99      0.99      0.99      8400\n",
      "\n"
     ]
    },
    {
     "data": {
      "image/png": "[encoded data removed]",
      "text/plain": [
       "<Figure size 640x480 with 2 Axes>"
      ]
     },
     "metadata": {},
     "output_type": "display_data"
    }
   ],
   "source": [
    "validate_model(model)"
   ]
  },
  {
   "cell_type": "markdown",
   "id": "e3576a5d",
   "metadata": {
    "papermill": {
     "duration": 0.010454,
     "end_time": "2023-10-27T15:28:58.400568",
     "exception": false,
     "start_time": "2023-10-27T15:28:58.390114",
     "status": "completed"
    },
    "tags": []
   },
   "source": [
    "## Final Training and Submission"
   ]
  },
  {
   "cell_type": "code",
   "execution_count": 21,
   "id": "e7a33208",
   "metadata": {
    "collapsed": false,
    "execution": {
     "iopub.execute_input": "2023-10-27T15:28:58.428149Z",
     "iopub.status.busy": "2023-10-27T15:28:58.427328Z",
     "iopub.status.idle": "2023-10-27T15:30:42.116841Z",
     "shell.execute_reply": "2023-10-27T15:30:42.114289Z"
    },
    "jupyter": {
     "outputs_hidden": false
    },
    "papermill": {
     "duration": 103.717427,
     "end_time": "2023-10-27T15:30:42.130315",
     "exception": false,
     "start_time": "2023-10-27T15:28:58.412888",
     "status": "completed"
    },
    "tags": []
   },
   "outputs": [
    {
     "name": "stderr",
     "output_type": "stream",
     "text": [
      "/opt/conda/lib/python3.10/site-packages/torch/nn/modules/lazy.py:180: UserWarning: Lazy modules are a new feature under heavy development so changes to the API or functionality can happen at any moment.\n",
      "  warnings.warn('Lazy modules are a new feature under heavy development '\n"
     ]
    },
    {
     "name": "stdout",
     "output_type": "stream",
     "text": [
      "epoch 1/15, loss 0.3928, training accuracy 86.77%\n",
      "epoch 2/15, loss 0.0866, training accuracy 97.04%\n",
      "epoch 3/15, loss 0.0595, training accuracy 97.91%\n",
      "epoch 4/15, loss 0.0482, training accuracy 98.27%\n",
      "epoch 5/15, loss 0.0386, training accuracy 98.55%\n",
      "epoch 6/15, loss 0.0375, training accuracy 98.53%\n",
      "epoch 7/15, loss 0.0330, training accuracy 98.62%\n",
      "epoch 8/15, loss 0.0225, training accuracy 99.05%\n",
      "epoch 9/15, loss 0.0222, training accuracy 99.06%\n",
      "epoch 10/15, loss 0.0255, training accuracy 98.90%\n",
      "epoch 11/15, loss 0.0191, training accuracy 99.11%\n",
      "epoch 12/15, loss 0.0179, training accuracy 99.11%\n",
      "epoch 13/15, loss 0.0177, training accuracy 99.16%\n",
      "epoch 14/15, loss 0.0144, training accuracy 99.28%\n",
      "epoch 15/15, loss 0.0128, training accuracy 99.34%\n"
     ]
    }
   ],
   "source": [
    "# best_model = LinearNet2().to(device)\n",
    "best_model = LeNet().to(device)\n",
    "optimizer = optim.Adam(best_model.parameters(), lr=lr)\n",
    "criterion = nn.CrossEntropyLoss()\n",
    "\n",
    "train_model(best_model, criterion, optimizer, num_epochs=epochs, train_loader=full_train_loader, tag='final_training')"
   ]
  },
  {
   "cell_type": "code",
   "execution_count": 22,
   "id": "f1445af0",
   "metadata": {
    "collapsed": false,
    "execution": {
     "iopub.execute_input": "2023-10-27T15:30:42.156611Z",
     "iopub.status.busy": "2023-10-27T15:30:42.155321Z",
     "iopub.status.idle": "2023-10-27T15:30:42.162624Z",
     "shell.execute_reply": "2023-10-27T15:30:42.161278Z"
    },
    "jupyter": {
     "outputs_hidden": false
    },
    "papermill": {
     "duration": 0.023334,
     "end_time": "2023-10-27T15:30:42.165339",
     "exception": false,
     "start_time": "2023-10-27T15:30:42.142005",
     "status": "completed"
    },
    "tags": []
   },
   "outputs": [],
   "source": [
    "def submit_prediction(y_pred, name='submission'):\n",
    "    submission = pd.DataFrame({'ImageId': range(1, len(y_pred)+1), 'Label': y_pred})\n",
    "    submission.to_csv(f'/kaggle/working/{name}.csv', index=False)"
   ]
  },
  {
   "cell_type": "code",
   "execution_count": 23,
   "id": "88b4ba2a",
   "metadata": {
    "collapsed": false,
    "execution": {
     "iopub.execute_input": "2023-10-27T15:30:42.191310Z",
     "iopub.status.busy": "2023-10-27T15:30:42.190890Z",
     "iopub.status.idle": "2023-10-27T15:30:43.550264Z",
     "shell.execute_reply": "2023-10-27T15:30:43.548976Z"
    },
    "jupyter": {
     "outputs_hidden": false
    },
    "papermill": {
     "duration": 1.376092,
     "end_time": "2023-10-27T15:30:43.553176",
     "exception": false,
     "start_time": "2023-10-27T15:30:42.177084",
     "status": "completed"
    },
    "tags": []
   },
   "outputs": [],
   "source": [
    "y_pred = test_model(best_model)\n",
    "submit_prediction(y_pred)"
   ]
  }
 ],
 "metadata": {
  "kernelspec": {
   "display_name": "Python 3",
   "language": "python",
   "name": "python3"
  },
  "language_info": {
   "codemirror_mode": {
    "name": "ipython",
    "version": 3
   },
   "file_extension": ".py",
   "mimetype": "text/x-python",
   "name": "python",
   "nbconvert_exporter": "python",
   "pygments_lexer": "ipython3",
   "version": "3.10.12"
  },
  "papermill": {
   "default_parameters": {},
   "duration": 221.544476,
   "end_time": "2023-10-27T15:30:47.044478",
   "environment_variables": {},
   "exception": null,
   "input_path": "__notebook__.ipynb",
   "output_path": "__notebook__.ipynb",
   "parameters": {},
   "start_time": "2023-10-27T15:27:05.500002",
   "version": "2.4.0"
  }
 },
 "nbformat": 4,
 "nbformat_minor": 5
}
