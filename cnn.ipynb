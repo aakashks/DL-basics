{
 "cells": [
  {
   "cell_type": "code",
   "execution_count": 1,
   "metadata": {
    "ExecuteTime": {
     "end_time": "2023-10-14T08:26:49.377930100Z",
     "start_time": "2023-10-14T08:26:42.692351200Z"
    }
   },
   "outputs": [],
   "source": [
    "import numpy as np\n",
    "import torch\n",
    "import torchvision\n",
    "import matplotlib.pyplot as plt\n",
    "import torch.nn as nn\n",
    "import torch.nn.functional as F\n",
    "import torchvision.transforms as transforms\n",
    "from torch.utils.tensorboard import SummaryWriter"
   ]
  },
  {
   "cell_type": "code",
   "execution_count": 2,
   "metadata": {
    "ExecuteTime": {
     "end_time": "2023-10-14T08:26:49.398894200Z",
     "start_time": "2023-10-14T08:26:49.380895900Z"
    }
   },
   "outputs": [],
   "source": [
    "device = 'cpu'"
   ]
  },
  {
   "cell_type": "code",
   "execution_count": 3,
   "metadata": {
    "ExecuteTime": {
     "end_time": "2023-10-14T08:26:49.435893600Z",
     "start_time": "2023-10-14T08:26:49.398894200Z"
    }
   },
   "outputs": [],
   "source": [
    "# Hyperparameters\n",
    "\n",
    "num_epochs = 4\n",
    "batch_size = 4\n",
    "lr = 1e-3"
   ]
  },
  {
   "cell_type": "code",
   "execution_count": 4,
   "metadata": {
    "ExecuteTime": {
     "end_time": "2023-10-14T08:26:50.987304800Z",
     "start_time": "2023-10-14T08:26:49.415895Z"
    }
   },
   "outputs": [
    {
     "name": "stdout",
     "output_type": "stream",
     "text": [
      "Files already downloaded and verified\n",
      "Files already downloaded and verified\n"
     ]
    }
   ],
   "source": [
    "# transforms\n",
    "\n",
    "transform = transforms.Compose(\n",
    "    [\n",
    "        transforms.ToTensor(),\n",
    "        transforms.Normalize([0.5, 0.5, 0.5], [0.5, 0.5, 0.5])\n",
    "    ]\n",
    ")\n",
    "\n",
    "# data loaders\n",
    "\n",
    "train_dataset = torchvision.datasets.CIFAR10(\n",
    "    root='./data', download=True, train=True, transform=transform)\n",
    "test_dataset = torchvision.datasets.CIFAR10(\n",
    "    root='./data', download=True, train=False, transform=transform)\n",
    "\n",
    "train_loader = torch.utils.data.DataLoader(\n",
    "    train_dataset, batch_size=batch_size, shuffle=True)\n",
    "\n",
    "test_loader = torch.utils.data.DataLoader(\n",
    "    test_dataset, batch_size=batch_size, shuffle=False)"
   ]
  },
  {
   "cell_type": "code",
   "execution_count": 5,
   "metadata": {
    "ExecuteTime": {
     "end_time": "2023-10-14T08:26:51.092822200Z",
     "start_time": "2023-10-14T08:26:50.994288300Z"
    }
   },
   "outputs": [
    {
     "data": {
      "text/plain": "torch.Size([4, 3, 32, 32])"
     },
     "execution_count": 5,
     "metadata": {},
     "output_type": "execute_result"
    }
   ],
   "source": [
    "examples = iter(train_loader)\n",
    "imgs = next(examples)[0]\n",
    "imgs.shape"
   ]
  },
  {
   "cell_type": "code",
   "execution_count": 6,
   "metadata": {
    "ExecuteTime": {
     "end_time": "2023-10-14T08:26:51.395961700Z",
     "start_time": "2023-10-14T08:26:51.086803400Z"
    }
   },
   "outputs": [
    {
     "data": {
      "text/plain": "<matplotlib.image.AxesImage at 0x2950df60c70>"
     },
     "execution_count": 6,
     "metadata": {},
     "output_type": "execute_result"
    },
    {
     "data": {
      "text/plain": "<Figure size 640x480 with 1 Axes>",
      "image/png": "[encoded data removed]"
     },
     "metadata": {},
     "output_type": "display_data"
    }
   ],
   "source": [
    "plt.imshow(imgs[0].permute(1, 2, 0) / 2 + 0.5)"
   ]
  },
  {
   "cell_type": "code",
   "execution_count": 7,
   "metadata": {
    "ExecuteTime": {
     "end_time": "2023-10-14T08:26:51.467478600Z",
     "start_time": "2023-10-14T08:26:51.388963100Z"
    }
   },
   "outputs": [],
   "source": [
    "class ConvNet(nn.Module):\n",
    "    def __init__(self, *args, **kwargs) -> None:\n",
    "        super().__init__(*args, **kwargs)\n",
    "        self.conv1 = nn.Conv2d(3, 6, 5)\n",
    "        self.pool = nn.MaxPool2d(2, 2)\n",
    "        self.conv2 = nn.Conv2d(6, 16, 5)\n",
    "        self.fc1 = nn.Linear(16*5*5, 120)\n",
    "        self.fc2 = nn.Linear(120, 84)\n",
    "        self.fc3 = nn.Linear(84, 10)\n",
    "        \n",
    "    def forward(self, x):\n",
    "        x = self.pool(F.relu(self.conv1(x)))\n",
    "        x = self.pool(F.relu(self.conv2(x)))\n",
    "        x = x.view(-1, 16*5*5)\n",
    "        x = F.relu(self.fc1(x))\n",
    "        x = F.relu(self.fc2(x))\n",
    "        x = self.fc3(x)\n",
    "        return x\n",
    "    \n",
    "model = ConvNet()\n",
    "criterion = nn.CrossEntropyLoss()\n",
    "optimizer = torch.optim.SGD(model.parameters(), lr=lr)"
   ]
  },
  {
   "cell_type": "code",
   "execution_count": 8,
   "metadata": {
    "ExecuteTime": {
     "end_time": "2023-10-14T08:26:51.468479Z",
     "start_time": "2023-10-14T08:26:51.417959700Z"
    }
   },
   "outputs": [
    {
     "data": {
      "text/plain": "12500"
     },
     "execution_count": 8,
     "metadata": {},
     "output_type": "execute_result"
    }
   ],
   "source": [
    "num_batches = len(train_loader)\n",
    "num_batches"
   ]
  },
  {
   "cell_type": "code",
   "execution_count": 9,
   "metadata": {
    "ExecuteTime": {
     "end_time": "2023-10-14T08:30:08.568204500Z",
     "start_time": "2023-10-14T08:26:51.433962300Z"
    }
   },
   "outputs": [
    {
     "name": "stdout",
     "output_type": "stream",
     "text": [
      "Epoch 1/4, Step 1000/12500, Loss 2.3313\n",
      "Epoch 1/4, Step 2000/12500, Loss 2.3135\n",
      "Epoch 1/4, Step 3000/12500, Loss 2.2817\n",
      "Epoch 1/4, Step 4000/12500, Loss 2.3018\n",
      "Epoch 1/4, Step 5000/12500, Loss 2.2948\n",
      "Epoch 1/4, Step 6000/12500, Loss 2.2865\n",
      "Epoch 1/4, Step 7000/12500, Loss 2.3085\n",
      "Epoch 1/4, Step 8000/12500, Loss 2.3005\n",
      "Epoch 1/4, Step 9000/12500, Loss 2.1256\n",
      "Epoch 1/4, Step 10000/12500, Loss 2.2861\n",
      "Epoch 1/4, Step 11000/12500, Loss 2.2480\n",
      "Epoch 1/4, Step 12000/12500, Loss 1.8523\n",
      "Epoch 2/4, Step 1000/12500, Loss 1.8777\n",
      "Epoch 2/4, Step 2000/12500, Loss 1.7798\n",
      "Epoch 2/4, Step 3000/12500, Loss 1.8347\n",
      "Epoch 2/4, Step 4000/12500, Loss 1.7858\n",
      "Epoch 2/4, Step 5000/12500, Loss 1.8616\n",
      "Epoch 2/4, Step 6000/12500, Loss 1.7889\n",
      "Epoch 2/4, Step 7000/12500, Loss 1.7005\n",
      "Epoch 2/4, Step 8000/12500, Loss 1.6271\n",
      "Epoch 2/4, Step 9000/12500, Loss 1.6588\n",
      "Epoch 2/4, Step 10000/12500, Loss 1.2215\n",
      "Epoch 2/4, Step 11000/12500, Loss 1.3442\n",
      "Epoch 2/4, Step 12000/12500, Loss 1.9103\n",
      "Epoch 3/4, Step 1000/12500, Loss 1.2676\n",
      "Epoch 3/4, Step 2000/12500, Loss 1.2591\n",
      "Epoch 3/4, Step 3000/12500, Loss 1.4857\n",
      "Epoch 3/4, Step 4000/12500, Loss 2.0326\n",
      "Epoch 3/4, Step 5000/12500, Loss 1.3229\n",
      "Epoch 3/4, Step 6000/12500, Loss 1.6370\n",
      "Epoch 3/4, Step 7000/12500, Loss 1.6259\n",
      "Epoch 3/4, Step 8000/12500, Loss 1.2218\n",
      "Epoch 3/4, Step 9000/12500, Loss 2.2330\n",
      "Epoch 3/4, Step 10000/12500, Loss 1.6692\n",
      "Epoch 3/4, Step 11000/12500, Loss 1.3381\n",
      "Epoch 3/4, Step 12000/12500, Loss 1.7263\n",
      "Epoch 4/4, Step 1000/12500, Loss 0.8893\n",
      "Epoch 4/4, Step 2000/12500, Loss 1.8008\n",
      "Epoch 4/4, Step 3000/12500, Loss 1.5833\n",
      "Epoch 4/4, Step 4000/12500, Loss 1.7363\n",
      "Epoch 4/4, Step 5000/12500, Loss 1.7993\n",
      "Epoch 4/4, Step 6000/12500, Loss 1.1810\n",
      "Epoch 4/4, Step 7000/12500, Loss 0.9312\n",
      "Epoch 4/4, Step 8000/12500, Loss 0.8918\n",
      "Epoch 4/4, Step 9000/12500, Loss 1.7624\n",
      "Epoch 4/4, Step 10000/12500, Loss 1.0047\n",
      "Epoch 4/4, Step 11000/12500, Loss 1.0357\n",
      "Epoch 4/4, Step 12000/12500, Loss 2.0757\n"
     ]
    }
   ],
   "source": [
    "for epoch in range(num_epochs):\n",
    "    history = torch.empty([2,0])\n",
    "    for i, (images, labels) in enumerate(train_loader):\n",
    "        output = model(images)\n",
    "        \n",
    "        loss = criterion(output, labels)\n",
    "        \n",
    "        optimizer.zero_grad()\n",
    "        loss.backward()\n",
    "        optimizer.step()\n",
    "        \n",
    "        if (i+1) % 1000 == 0:\n",
    "            print(f'Epoch {epoch+1}/{num_epochs}, Step {i+1}/{num_batches}, Loss {loss:.4f}')\n",
    "            history = torch.cat([history, torch.tensor([i + epoch*num_batches, loss]).reshape(2, 1)], dim=1)\n",
    "        \n",
    "    torch.save(history, 'model_history.pt')\n",
    "        "
   ]
  },
  {
   "cell_type": "code",
   "execution_count": 10,
   "metadata": {
    "ExecuteTime": {
     "end_time": "2023-10-14T08:30:13.872751Z",
     "start_time": "2023-10-14T08:30:08.568204500Z"
    }
   },
   "outputs": [
    {
     "name": "stdout",
     "output_type": "stream",
     "text": [
      "46.11\n",
      "0: 54.7%\n",
      "1: 58.8%\n",
      "2: 11.2%\n",
      "3: 14.6%\n",
      "4: 30.7%\n",
      "5: 48.8%\n",
      "6: 70.9%\n",
      "7: 61.0%\n",
      "8: 53.4%\n",
      "9: 57.0%\n"
     ]
    }
   ],
   "source": [
    "with torch.no_grad():\n",
    "    n_correct = 0\n",
    "    n_samples = 0\n",
    "    n_class_correct = [0 for i in range(10)]\n",
    "    n_class_samples = [0 for i in range(10)]\n",
    "    \n",
    "    for images, labels in test_loader:\n",
    "        output = model(images)\n",
    "        _, predicted = torch.max(output, 1)\n",
    "        n_samples += labels.size(0)\n",
    "        n_correct += (predicted == labels).sum().item()\n",
    "        \n",
    "        for i in range(batch_size):\n",
    "            label = labels[i]\n",
    "            pred = predicted[i]\n",
    "            \n",
    "            if (label == pred):\n",
    "                n_class_correct[label] += 1\n",
    "            n_class_samples[label] += 1\n",
    "            \n",
    "    acc = 100.0 * n_correct / n_samples\n",
    "    print(acc)\n",
    "    \n",
    "    for i in range(10):\n",
    "        acc = 100.0 * n_class_correct[i] / n_class_samples[i]\n",
    "        print(f'{i}: {acc}%')"
   ]
  }
 ],
 "metadata": {
  "kernelspec": {
   "display_name": "py310",
   "language": "python",
   "name": "python3"
  },
  "language_info": {
   "codemirror_mode": {
    "name": "ipython",
    "version": 3
   },
   "file_extension": ".py",
   "mimetype": "text/x-python",
   "name": "python",
   "nbconvert_exporter": "python",
   "pygments_lexer": "ipython3",
   "version": "3.10.13"
  }
 },
 "nbformat": 4,
 "nbformat_minor": 2
}
