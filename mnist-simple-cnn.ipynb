{
 "cells": [
  {
   "cell_type": "markdown",
   "id": "4487967c",
   "metadata": {
    "papermill": {
     "duration": 0.008616,
     "end_time": "2023-10-27T14:40:15.654800",
     "exception": false,
     "start_time": "2023-10-27T14:40:15.646184",
     "status": "completed"
    },
    "tags": []
   },
   "source": [
    "# MNIST Digit Recognition with CNN"
   ]
  },
  {
   "cell_type": "markdown",
   "source": [
    "This is a very basic notebook best for new learners. Gives just an introductory idea.\n",
    "\n",
    "Also, it shows how a very simple convolutional network can acheive great accuracy. "
   ],
   "metadata": {
    "collapsed": false
   },
   "id": "a7107ca8b4ab0b9d"
  },
  {
   "cell_type": "markdown",
   "id": "3f629f56",
   "metadata": {
    "papermill": {
     "duration": 0.007913,
     "end_time": "2023-10-27T14:40:15.670948",
     "exception": false,
     "start_time": "2023-10-27T14:40:15.663035",
     "status": "completed"
    },
    "tags": []
   },
   "source": [
    "## Imports"
   ]
  },
  {
   "cell_type": "code",
   "execution_count": 7,
   "id": "6894619b",
   "metadata": {
    "execution": {
     "iopub.execute_input": "2023-10-27T14:40:15.689061Z",
     "iopub.status.busy": "2023-10-27T14:40:15.688325Z",
     "iopub.status.idle": "2023-10-27T14:40:28.518212Z",
     "shell.execute_reply": "2023-10-27T14:40:28.517191Z"
    },
    "papermill": {
     "duration": 12.841434,
     "end_time": "2023-10-27T14:40:28.520423",
     "exception": false,
     "start_time": "2023-10-27T14:40:15.678989",
     "status": "completed"
    },
    "tags": [],
    "ExecuteTime": {
     "end_time": "2023-11-06T07:45:16.414763700Z",
     "start_time": "2023-11-06T07:45:16.336637500Z"
    }
   },
   "outputs": [],
   "source": [
    "import time\n",
    "import os\n",
    "\n",
    "import numpy as np\n",
    "import pandas as pd\n",
    "import matplotlib.pyplot as plt\n",
    "import seaborn as sns\n",
    "\n",
    "import torch\n",
    "import torch.nn as nn\n",
    "import torch.nn.functional as F\n",
    "\n",
    "import torch.optim as optim\n",
    "from torch.optim import lr_scheduler\n",
    "from torch.utils.data import Dataset, DataLoader, TensorDataset\n",
    "\n",
    "import torchvision\n",
    "from torchvision import transforms\n",
    "from torchvision import datasets, models, transforms\n",
    "\n",
    "from torch.utils.tensorboard import SummaryWriter\n",
    "\n",
    "from PIL import Image\n",
    "from tempfile import TemporaryDirectory\n",
    "\n",
    "writer = SummaryWriter('runs/mnist')\n",
    "\n",
    "device = torch.device('cuda' if torch.cuda.is_available() else 'cpu')"
   ]
  },
  {
   "cell_type": "code",
   "execution_count": 8,
   "outputs": [],
   "source": [
    "# hyperparameters\n",
    "batch_size = 4"
   ],
   "metadata": {
    "collapsed": false,
    "ExecuteTime": {
     "end_time": "2023-11-06T07:45:16.524133500Z",
     "start_time": "2023-11-06T07:45:16.352257700Z"
    }
   },
   "id": "eb9e177d8448d69"
  },
  {
   "cell_type": "code",
   "execution_count": 9,
   "id": "1c64331b",
   "metadata": {
    "execution": {
     "iopub.execute_input": "2023-10-27T14:40:28.539288Z",
     "iopub.status.busy": "2023-10-27T14:40:28.538477Z",
     "iopub.status.idle": "2023-10-27T14:40:34.197539Z",
     "shell.execute_reply": "2023-10-27T14:40:34.196501Z"
    },
    "papermill": {
     "duration": 5.670677,
     "end_time": "2023-10-27T14:40:34.199661",
     "exception": false,
     "start_time": "2023-10-27T14:40:28.528984",
     "status": "completed"
    },
    "tags": [],
    "ExecuteTime": {
     "end_time": "2023-11-06T07:45:16.586634300Z",
     "start_time": "2023-11-06T07:45:16.367887500Z"
    }
   },
   "outputs": [],
   "source": [
    "# data loaders\n",
    "\n",
    "train_dataset = torchvision.datasets.MNIST(\n",
    "    root='./data', download=True, train=True, transform=transforms.ToTensor())\n",
    "test_dataset = torchvision.datasets.MNIST(\n",
    "    root='./data', download=True, train=False, transform=transforms.ToTensor())\n",
    "\n",
    "train_loader = torch.utils.data.DataLoader(\n",
    "    train_dataset, batch_size=batch_size, shuffle=True)\n",
    "\n",
    "test_loader = torch.utils.data.DataLoader(\n",
    "    test_dataset, batch_size=batch_size, shuffle=False)"
   ]
  },
  {
   "cell_type": "markdown",
   "id": "5daf1eaa",
   "metadata": {
    "papermill": {
     "duration": 0.008641,
     "end_time": "2023-10-27T14:40:34.282426",
     "exception": false,
     "start_time": "2023-10-27T14:40:34.273785",
     "status": "completed"
    },
    "tags": []
   },
   "source": [
    "## Preparing Dataset"
   ]
  },
  {
   "cell_type": "code",
   "execution_count": 10,
   "outputs": [],
   "source": [
    "# show all images in a batch\n",
    "def show_images(images, labels):\n",
    "    plt.figure(figsize=(10, 10))\n",
    "    for i in range(4):\n",
    "        plt.subplot(4, 4, i+1)\n",
    "        plt.imshow(images[i][0], cmap='gray')\n",
    "        plt.title(labels[i].item())\n",
    "        plt.axis('off')\n",
    "    plt.show()"
   ],
   "metadata": {
    "collapsed": false,
    "ExecuteTime": {
     "end_time": "2023-11-06T07:45:16.586634300Z",
     "start_time": "2023-11-06T07:45:16.446008Z"
    }
   },
   "id": "f8b6c8721674f556"
  },
  {
   "cell_type": "code",
   "execution_count": 11,
   "outputs": [
    {
     "data": {
      "text/plain": "<Figure size 1000x1000 with 4 Axes>",
      "image/png": "[encoded data removed]"
     },
     "metadata": {},
     "output_type": "display_data"
    }
   ],
   "source": [
    "images, labels = next(iter(train_loader))\n",
    "show_images(images, labels)"
   ],
   "metadata": {
    "collapsed": false,
    "ExecuteTime": {
     "end_time": "2023-11-06T07:45:17.470185Z",
     "start_time": "2023-11-06T07:45:16.461632500Z"
    }
   },
   "id": "1d3ac1b0f75e03b7"
  },
  {
   "cell_type": "markdown",
   "source": [
    "## Training a Simple Linear Model"
   ],
   "metadata": {
    "collapsed": false
   },
   "id": "1587c4b8e3618a21"
  },
  {
   "cell_type": "markdown",
   "source": [
    "### Defining Model"
   ],
   "metadata": {
    "collapsed": false
   },
   "id": "5a27671ff53fcc51"
  },
  {
   "cell_type": "code",
   "execution_count": 12,
   "outputs": [],
   "source": [
    "class LinearNet(nn.Module):\n",
    "    def __init__(self, in_features=784):\n",
    "        super().__init__()\n",
    "        self.fc = nn.Linear(in_features, 10)\n",
    "        \n",
    "    def forward(self, x):\n",
    "        x = x.flatten(start_dim=1)\n",
    "        x = self.fc(x)\n",
    "        return x\n",
    "    \n",
    "class LinearNet2(nn.Module):\n",
    "    def __init__(self, in_features=784, hidden_layer=256):\n",
    "        super().__init__()\n",
    "        self.fc = nn.Sequential(\n",
    "            nn.Linear(in_features, hidden_layer),\n",
    "            nn.BatchNorm1d(hidden_layer),\n",
    "            nn.ReLU(),\n",
    "            nn.Linear(hidden_layer, hidden_layer),\n",
    "            nn.BatchNorm1d(hidden_layer),\n",
    "            nn.ReLU(),\n",
    "            nn.Linear(hidden_layer, 10)\n",
    "        )\n",
    "        \n",
    "    def forward(self, x):\n",
    "        x = x.flatten(start_dim=1)\n",
    "        return self.fc(x)\n",
    "    \n",
    "# using a basic CNN architecture\n",
    "class ConvNet(nn.Module):\n",
    "    def __init__(self):\n",
    "        super().__init__()\n",
    "        self.conv = nn.Sequential(\n",
    "            nn.Conv2d(1, 16, 3, 1),\n",
    "            nn.ReLU(),\n",
    "            nn.MaxPool2d(2),\n",
    "            nn.Conv2d(16, 32, 3, 1),\n",
    "            nn.ReLU(),\n",
    "            nn.MaxPool2d(2)\n",
    "        )\n",
    "        self.fc = nn.Sequential(\n",
    "            nn.Linear(32*5*5, 256),\n",
    "            nn.ReLU(),\n",
    "            nn.Linear(256, 10)\n",
    "        )\n",
    "        \n",
    "    def forward(self, x):\n",
    "        x = self.conv(x)\n",
    "        x = x.flatten(start_dim=1)\n",
    "        x = self.fc(x)\n",
    "        return x\n",
    "    \n",
    "\n",
    "# better CNN architecture\n",
    "class ConvNet2(nn.Module):\n",
    "    def __init__(self):\n",
    "        super().__init__()\n",
    "        self.conv = nn.Sequential(\n",
    "            nn.Conv2d(1, 32, 3, 1),\n",
    "            nn.BatchNorm2d(32),\n",
    "            nn.ReLU(),\n",
    "            nn.Conv2d(32, 64, 3, 1),\n",
    "            nn.BatchNorm2d(64),\n",
    "            nn.ReLU(),\n",
    "            nn.MaxPool2d(2),\n",
    "            nn.Conv2d(64, 128, 3, 1),\n",
    "            nn.BatchNorm2d(128),\n",
    "            nn.ReLU(),\n",
    "            nn.MaxPool2d(2)\n",
    "        )\n",
    "        self.fc = nn.Sequential(\n",
    "            nn.Linear(128*5*5, 256),\n",
    "            nn.BatchNorm1d(256),\n",
    "            nn.ReLU(),\n",
    "            nn.Linear(256, 10)\n",
    "        )\n",
    "        \n",
    "    def forward(self, x):\n",
    "        x = self.conv(x)\n",
    "        x = x.flatten(start_dim=1)\n",
    "        x = self.fc(x)\n",
    "        return x"
   ],
   "metadata": {
    "collapsed": false,
    "ExecuteTime": {
     "end_time": "2023-11-06T07:45:17.517058500Z",
     "start_time": "2023-11-06T07:45:17.470185Z"
    }
   },
   "id": "656bc68ba5eb71f7"
  },
  {
   "cell_type": "code",
   "execution_count": 13,
   "outputs": [],
   "source": [
    "# testing different models\n",
    "# 92% accuracy from a linear model\n",
    "# model = LinearNet().to(device)\n",
    "# lr = 1e-3\n",
    "\n",
    "# __ accuracy from a CNN\n",
    "model = ConvNet().to(device)\n",
    "lr = 1e-3\n",
    "\n",
    "criterion = nn.CrossEntropyLoss()\n",
    "optimizer = optim.Adam(model.parameters(), lr=lr)"
   ],
   "metadata": {
    "collapsed": false,
    "ExecuteTime": {
     "end_time": "2023-11-06T07:45:37.680841800Z",
     "start_time": "2023-11-06T07:45:36.916251Z"
    }
   },
   "id": "6c6b1abfbeae3159"
  },
  {
   "cell_type": "code",
   "execution_count": 39,
   "outputs": [
    {
     "data": {
      "text/plain": "15000"
     },
     "execution_count": 39,
     "metadata": {},
     "output_type": "execute_result"
    }
   ],
   "source": [
    "num_epochs = 4\n",
    "num_batches = len(train_loader)\n",
    "num_batches"
   ],
   "metadata": {
    "collapsed": false,
    "ExecuteTime": {
     "end_time": "2023-11-05T13:51:09.263545200Z",
     "start_time": "2023-11-05T13:51:09.247875300Z"
    }
   },
   "id": "db7297bcdb06679a"
  },
  {
   "cell_type": "markdown",
   "source": [
    "### Training Model"
   ],
   "metadata": {
    "collapsed": false
   },
   "id": "f876964d50e03aea"
  },
  {
   "cell_type": "code",
   "execution_count": 40,
   "outputs": [
    {
     "name": "stdout",
     "output_type": "stream",
     "text": [
      "Epoch 1/4, Step 1000/15000, Loss 0.6264\n",
      "Epoch 1/4, Step 2000/15000, Loss 0.0477\n",
      "Epoch 1/4, Step 3000/15000, Loss 0.2411\n",
      "Epoch 1/4, Step 4000/15000, Loss 0.0037\n",
      "Epoch 1/4, Step 5000/15000, Loss 1.1491\n",
      "Epoch 1/4, Step 6000/15000, Loss 0.1493\n",
      "Epoch 1/4, Step 7000/15000, Loss 0.1052\n",
      "Epoch 1/4, Step 8000/15000, Loss 0.1588\n",
      "Epoch 1/4, Step 9000/15000, Loss 0.4625\n",
      "Epoch 1/4, Step 10000/15000, Loss 0.0209\n",
      "Epoch 1/4, Step 11000/15000, Loss 0.0257\n",
      "Epoch 1/4, Step 12000/15000, Loss 0.2506\n",
      "Epoch 1/4, Step 13000/15000, Loss 0.1519\n",
      "Epoch 1/4, Step 14000/15000, Loss 0.5123\n",
      "Epoch 1/4, Step 15000/15000, Loss 0.2170\n",
      "Epoch 2/4, Step 1000/15000, Loss 0.2638\n",
      "Epoch 2/4, Step 2000/15000, Loss 0.2286\n",
      "Epoch 2/4, Step 3000/15000, Loss 0.0269\n",
      "Epoch 2/4, Step 4000/15000, Loss 0.3800\n",
      "Epoch 2/4, Step 5000/15000, Loss 0.0504\n",
      "Epoch 2/4, Step 6000/15000, Loss 0.0400\n",
      "Epoch 2/4, Step 7000/15000, Loss 0.0533\n",
      "Epoch 2/4, Step 8000/15000, Loss 0.7452\n",
      "Epoch 2/4, Step 9000/15000, Loss 0.0069\n",
      "Epoch 2/4, Step 10000/15000, Loss 0.4485\n",
      "Epoch 2/4, Step 11000/15000, Loss 0.0040\n",
      "Epoch 2/4, Step 12000/15000, Loss 0.0177\n",
      "Epoch 2/4, Step 13000/15000, Loss 0.0115\n",
      "Epoch 2/4, Step 14000/15000, Loss 0.0347\n",
      "Epoch 2/4, Step 15000/15000, Loss 0.0605\n",
      "Epoch 3/4, Step 1000/15000, Loss 0.0253\n",
      "Epoch 3/4, Step 2000/15000, Loss 0.1566\n",
      "Epoch 3/4, Step 3000/15000, Loss 0.0050\n",
      "Epoch 3/4, Step 4000/15000, Loss 0.0945\n",
      "Epoch 3/4, Step 5000/15000, Loss 0.0066\n",
      "Epoch 3/4, Step 6000/15000, Loss 0.0021\n",
      "Epoch 3/4, Step 7000/15000, Loss 0.0664\n",
      "Epoch 3/4, Step 8000/15000, Loss 0.4769\n",
      "Epoch 3/4, Step 9000/15000, Loss 0.4057\n",
      "Epoch 3/4, Step 10000/15000, Loss 0.0181\n",
      "Epoch 3/4, Step 11000/15000, Loss 0.0233\n",
      "Epoch 3/4, Step 12000/15000, Loss 0.0081\n",
      "Epoch 3/4, Step 13000/15000, Loss 0.2298\n",
      "Epoch 3/4, Step 14000/15000, Loss 0.0215\n",
      "Epoch 3/4, Step 15000/15000, Loss 0.0686\n",
      "Epoch 4/4, Step 1000/15000, Loss 0.0060\n",
      "Epoch 4/4, Step 2000/15000, Loss 0.0068\n",
      "Epoch 4/4, Step 3000/15000, Loss 0.9480\n",
      "Epoch 4/4, Step 4000/15000, Loss 0.0319\n",
      "Epoch 4/4, Step 5000/15000, Loss 0.0392\n",
      "Epoch 4/4, Step 6000/15000, Loss 0.6387\n",
      "Epoch 4/4, Step 7000/15000, Loss 0.0177\n",
      "Epoch 4/4, Step 8000/15000, Loss 0.0378\n",
      "Epoch 4/4, Step 9000/15000, Loss 0.1122\n",
      "Epoch 4/4, Step 10000/15000, Loss 0.1686\n",
      "Epoch 4/4, Step 11000/15000, Loss 0.0105\n",
      "Epoch 4/4, Step 12000/15000, Loss 0.0647\n",
      "Epoch 4/4, Step 13000/15000, Loss 0.0373\n",
      "Epoch 4/4, Step 14000/15000, Loss 0.0243\n",
      "Epoch 4/4, Step 15000/15000, Loss 0.3751\n"
     ]
    }
   ],
   "source": [
    "for epoch in range(num_epochs):\n",
    "    for i, (images, labels) in enumerate(train_loader):\n",
    "        # move images and labels to device\n",
    "        images = images.to(device)\n",
    "        labels = labels.to(device)\n",
    "        \n",
    "        # forward pass\n",
    "        output = model(images)\n",
    "        loss = criterion(output, labels)\n",
    "        \n",
    "        # backpropagation and optimization\n",
    "        optimizer.zero_grad()\n",
    "        loss.backward()\n",
    "        optimizer.step()\n",
    "        \n",
    "        # logging\n",
    "        if (i+1) % 1000 == 0:\n",
    "            print(f'Epoch {epoch+1}/{num_epochs}, Step {i+1}/{num_batches}, Loss {loss:.4f}')\n",
    "        "
   ],
   "metadata": {
    "collapsed": false,
    "ExecuteTime": {
     "end_time": "2023-11-05T13:53:22.853025700Z",
     "start_time": "2023-11-05T13:51:09.263545200Z"
    }
   },
   "id": "42f1211c8e0c35ce"
  },
  {
   "cell_type": "code",
   "execution_count": 41,
   "outputs": [
    {
     "name": "stdout",
     "output_type": "stream",
     "text": [
      "Accuracy of the network: 92.43 %\n",
      "Accuracy of 0: 98.47 %\n",
      "Accuracy of 1: 98.06 %\n",
      "Accuracy of 2: 91.18 %\n",
      "Accuracy of 3: 90.10 %\n",
      "Accuracy of 4: 93.08 %\n",
      "Accuracy of 5: 89.46 %\n",
      "Accuracy of 6: 94.47 %\n",
      "Accuracy of 7: 90.76 %\n",
      "Accuracy of 8: 84.70 %\n",
      "Accuracy of 9: 93.06 %\n"
     ]
    }
   ],
   "source": [
    "with torch.no_grad():\n",
    "    n_correct = 0\n",
    "    n_samples = 0\n",
    "    n_class_correct = [0 for i in range(10)]\n",
    "    n_class_samples = [0 for i in range(10)]\n",
    "    for images, labels in test_loader:\n",
    "        images = images.to(device)\n",
    "        labels = labels.to(device)\n",
    "        outputs = model(images)\n",
    "        _, predicted = torch.max(outputs, 1)\n",
    "        n_samples += labels.size(0)\n",
    "        n_correct += (predicted == labels).sum().item()\n",
    "        \n",
    "        for i in range(batch_size):\n",
    "            label = labels[i]\n",
    "            pred = predicted[i]\n",
    "            if label == pred:\n",
    "                n_class_correct[label] += 1\n",
    "            n_class_samples[label] += 1\n",
    "\n",
    "    acc = 100.0 * n_correct / n_samples\n",
    "    print(f'Accuracy of the network: {acc:.2f} %')\n",
    "    \n",
    "    for i in range(10):\n",
    "        acc = 100.0 * n_class_correct[i] / n_class_samples[i]\n",
    "        print(f'Accuracy of {i}: {acc:.2f} %')"
   ],
   "metadata": {
    "collapsed": false,
    "ExecuteTime": {
     "end_time": "2023-11-05T13:53:28.232932Z",
     "start_time": "2023-11-05T13:53:22.837228600Z"
    }
   },
   "id": "2a8049d755e759be"
  },
  {
   "cell_type": "code",
   "execution_count": 43,
   "outputs": [
    {
     "data": {
      "text/plain": "<Figure size 1200x500 with 30 Axes>",
      "image/png": "[encoded data removed]"
     },
     "metadata": {},
     "output_type": "display_data"
    }
   ],
   "source": [
    "# visualizing incorrect predictions by the model\n",
    "with torch.no_grad():\n",
    "    rows = 3\n",
    "    fig, axes = plt.subplots(rows, 10, figsize=(12, 5))\n",
    "    axes = axes.flatten()\n",
    "    ctr = 0\n",
    "    \n",
    "    for images, labels in test_loader:\n",
    "        images = images.to(device)\n",
    "        labels = labels.to(device)\n",
    "        outputs = model(images)\n",
    "        _, predicted = torch.max(outputs, 1)\n",
    "        \n",
    "        for i in range(batch_size):\n",
    "            label = labels[i]\n",
    "            pred = predicted[i]\n",
    "            if label != pred and ctr < 10*rows:\n",
    "                axes[ctr].imshow(images[i, 0].cpu(), cmap='gray')\n",
    "                axes[ctr].set_title(f'{label.item()} as {pred.item()}')\n",
    "                axes[ctr].set_axis_off()\n",
    "                ctr += 1\n",
    "\n",
    "plt.tight_layout()"
   ],
   "metadata": {
    "collapsed": false,
    "ExecuteTime": {
     "end_time": "2023-11-05T13:54:18.469695600Z",
     "start_time": "2023-11-05T13:54:10.412323100Z"
    }
   },
   "id": "a0b02a5aa3d0c1b7"
  },
  {
   "cell_type": "markdown",
   "source": [
    "## Using Different Architectures"
   ],
   "metadata": {
    "collapsed": false
   },
   "id": "434f9bf16775cc35"
  },
  {
   "cell_type": "markdown",
   "source": [
    "you can try using different CNN Architectures"
   ],
   "metadata": {
    "collapsed": false
   },
   "id": "d7f45c865cf3a8eb"
  }
 ],
 "metadata": {
  "kernelspec": {
   "display_name": "Python 3",
   "language": "python",
   "name": "python3"
  },
  "language_info": {
   "codemirror_mode": {
    "name": "ipython",
    "version": 3
   },
   "file_extension": ".py",
   "mimetype": "text/x-python",
   "name": "python",
   "nbconvert_exporter": "python",
   "pygments_lexer": "ipython3",
   "version": "3.10.12"
  },
  "papermill": {
   "default_parameters": {},
   "duration": 3040.702362,
   "end_time": "2023-10-27T15:30:52.961884",
   "environment_variables": {},
   "exception": null,
   "input_path": "__notebook__.ipynb",
   "output_path": "__notebook__.ipynb",
   "parameters": {},
   "start_time": "2023-10-27T14:40:12.259522",
   "version": "2.4.0"
  }
 },
 "nbformat": 4,
 "nbformat_minor": 5
}
