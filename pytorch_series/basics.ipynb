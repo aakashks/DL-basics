{
 "cells": [
  {
   "cell_type": "code",
   "execution_count": 114,
   "metadata": {},
   "outputs": [],
   "source": [
    "import numpy as np\n",
    "import torch\n",
    "import torch.nn as nn\n",
    "\n",
    "from sklearn import datasets\n",
    "import matplotlib.pyplot as plt"
   ]
  },
  {
   "cell_type": "markdown",
   "metadata": {},
   "source": [
    "# Linear Regression"
   ]
  },
  {
   "cell_type": "code",
   "execution_count": 115,
   "metadata": {},
   "outputs": [
    {
     "data": {
      "text/plain": [
       "torch.Size([100, 1])"
      ]
     },
     "execution_count": 115,
     "metadata": {},
     "output_type": "execute_result"
    }
   ],
   "source": [
    "X_numpy, y_numpy = datasets.make_regression(n_samples=100, n_features=1, noise=20, random_state=42)\n",
    "X = torch.from_numpy(X_numpy.astype(np.float32))\n",
    "y = torch.from_numpy(y_numpy.astype(np.float32)).reshape(-1, 1)\n",
    "\n",
    "n_samples, n_features = X.shape\n",
    "X.shape"
   ]
  },
  {
   "cell_type": "code",
   "execution_count": 116,
   "metadata": {},
   "outputs": [],
   "source": [
    "input_size = n_features\n",
    "output_size = 1\n",
    "\n",
    "model = nn.Linear(input_size, output_size)\n",
    "criterion = nn.MSELoss()\n",
    "optimizer = torch.optim.SGD(model.parameters(), lr=1e-2)"
   ]
  },
  {
   "cell_type": "code",
   "execution_count": 117,
   "metadata": {},
   "outputs": [],
   "source": [
    "for epoch in range(100):\n",
    "    y_pred = model(X)\n",
    "    loss = criterion(y, y_pred)\n",
    "    loss.backward()\n",
    "    optimizer.step()\n",
    "    optimizer.zero_grad()\n"
   ]
  },
  {
   "cell_type": "code",
   "execution_count": 118,
   "metadata": {},
   "outputs": [
    {
     "data": {
      "text/plain": [
       "[<matplotlib.lines.Line2D at 0x24147bf02b0>]"
      ]
     },
     "execution_count": 118,
     "metadata": {},
     "output_type": "execute_result"
    },
    {
     "data": {
      "image/png": "[encoded data removed]",
      "text/plain": [
       "<Figure size 640x480 with 1 Axes>"
      ]
     },
     "metadata": {},
     "output_type": "display_data"
    }
   ],
   "source": [
    "prediction = model(X).detach().numpy()\n",
    "plt.plot(X_numpy, y_numpy, 'ro')\n",
    "plt.plot(X_numpy, prediction, 'b')"
   ]
  },
  {
   "cell_type": "markdown",
   "metadata": {},
   "source": [
    "# Dataset and Data loader"
   ]
  },
  {
   "cell_type": "code",
   "execution_count": 119,
   "metadata": {},
   "outputs": [],
   "source": [
    "from torch.utils.data import Dataset, DataLoader\n"
   ]
  },
  {
   "cell_type": "code",
   "execution_count": 120,
   "metadata": {},
   "outputs": [],
   "source": [
    "class WineDataset(Dataset):\n",
    "    def __init__(self):\n",
    "        xy = np.loadtxt('wine.csv', delimiter=',', dtype=np.float32, skiprows=1)\n",
    "        self.x = torch.from_numpy(xy[:, 1:])\n",
    "        self.y = torch.from_numpy(xy[:, 0])\n",
    "        self.n_samples = xy.shape[0]\n",
    "        \n",
    "    def __getitem__(self, index):\n",
    "        return self.x[index], self.y[index]\n",
    "    \n",
    "    def __len__(self):\n",
    "        return self.n_samples\n",
    "    \n",
    "\n",
    "dataset = WineDataset()\n",
    "dataloader = DataLoader(dataset=dataset, batch_size=4, shuffle=True)\n"
   ]
  },
  {
   "cell_type": "code",
   "execution_count": 121,
   "metadata": {},
   "outputs": [],
   "source": [
    "class Classification(nn.Module):\n",
    "    def __init__(self, input_size, output_size):\n",
    "        super().__init__()\n",
    "        self.lr = nn.Linear(input_size, output_size)\n",
    "        \n",
    "    def forward(self, X):\n",
    "        pass"
   ]
  },
  {
   "cell_type": "code",
   "execution_count": 122,
   "metadata": {},
   "outputs": [
    {
     "data": {
      "text/plain": [
       "(178, 45)"
      ]
     },
     "execution_count": 122,
     "metadata": {},
     "output_type": "execute_result"
    }
   ],
   "source": [
    "total_samples = len(dataset)\n",
    "num_batches = total_samples // 4 + 1\n",
    "total_samples, num_batches"
   ]
  },
  {
   "cell_type": "code",
   "execution_count": 123,
   "metadata": {},
   "outputs": [
    {
     "name": "stdout",
     "output_type": "stream",
     "text": [
      "epoch 1/2 and minibatch 1/45, input shape is torch.Size([4, 13])\n",
      "epoch 1/2 and minibatch 2/45, input shape is torch.Size([4, 13])\n",
      "epoch 1/2 and minibatch 3/45, input shape is torch.Size([4, 13])\n",
      "epoch 1/2 and minibatch 4/45, input shape is torch.Size([4, 13])\n",
      "epoch 1/2 and minibatch 5/45, input shape is torch.Size([4, 13])\n",
      "epoch 1/2 and minibatch 6/45, input shape is torch.Size([4, 13])\n",
      "epoch 1/2 and minibatch 7/45, input shape is torch.Size([4, 13])\n",
      "epoch 1/2 and minibatch 8/45, input shape is torch.Size([4, 13])\n",
      "epoch 1/2 and minibatch 9/45, input shape is torch.Size([4, 13])\n",
      "epoch 1/2 and minibatch 10/45, input shape is torch.Size([4, 13])\n",
      "epoch 1/2 and minibatch 11/45, input shape is torch.Size([4, 13])\n",
      "epoch 1/2 and minibatch 12/45, input shape is torch.Size([4, 13])\n",
      "epoch 1/2 and minibatch 13/45, input shape is torch.Size([4, 13])\n",
      "epoch 1/2 and minibatch 14/45, input shape is torch.Size([4, 13])\n",
      "epoch 1/2 and minibatch 15/45, input shape is torch.Size([4, 13])\n",
      "epoch 1/2 and minibatch 16/45, input shape is torch.Size([4, 13])\n",
      "epoch 1/2 and minibatch 17/45, input shape is torch.Size([4, 13])\n",
      "epoch 1/2 and minibatch 18/45, input shape is torch.Size([4, 13])\n",
      "epoch 1/2 and minibatch 19/45, input shape is torch.Size([4, 13])\n",
      "epoch 1/2 and minibatch 20/45, input shape is torch.Size([4, 13])\n",
      "epoch 1/2 and minibatch 21/45, input shape is torch.Size([4, 13])\n",
      "epoch 1/2 and minibatch 22/45, input shape is torch.Size([4, 13])\n",
      "epoch 1/2 and minibatch 23/45, input shape is torch.Size([4, 13])\n",
      "epoch 1/2 and minibatch 24/45, input shape is torch.Size([4, 13])\n",
      "epoch 1/2 and minibatch 25/45, input shape is torch.Size([4, 13])\n",
      "epoch 1/2 and minibatch 26/45, input shape is torch.Size([4, 13])\n",
      "epoch 1/2 and minibatch 27/45, input shape is torch.Size([4, 13])\n",
      "epoch 1/2 and minibatch 28/45, input shape is torch.Size([4, 13])\n",
      "epoch 1/2 and minibatch 29/45, input shape is torch.Size([4, 13])\n",
      "epoch 1/2 and minibatch 30/45, input shape is torch.Size([4, 13])\n",
      "epoch 1/2 and minibatch 31/45, input shape is torch.Size([4, 13])\n",
      "epoch 1/2 and minibatch 32/45, input shape is torch.Size([4, 13])\n",
      "epoch 1/2 and minibatch 33/45, input shape is torch.Size([4, 13])\n",
      "epoch 1/2 and minibatch 34/45, input shape is torch.Size([4, 13])\n",
      "epoch 1/2 and minibatch 35/45, input shape is torch.Size([4, 13])\n",
      "epoch 1/2 and minibatch 36/45, input shape is torch.Size([4, 13])\n",
      "epoch 1/2 and minibatch 37/45, input shape is torch.Size([4, 13])\n",
      "epoch 1/2 and minibatch 38/45, input shape is torch.Size([4, 13])\n",
      "epoch 1/2 and minibatch 39/45, input shape is torch.Size([4, 13])\n",
      "epoch 1/2 and minibatch 40/45, input shape is torch.Size([4, 13])\n",
      "epoch 1/2 and minibatch 41/45, input shape is torch.Size([4, 13])\n",
      "epoch 1/2 and minibatch 42/45, input shape is torch.Size([4, 13])\n",
      "epoch 1/2 and minibatch 43/45, input shape is torch.Size([4, 13])\n",
      "epoch 1/2 and minibatch 44/45, input shape is torch.Size([4, 13])\n",
      "epoch 1/2 and minibatch 45/45, input shape is torch.Size([2, 13])\n",
      "epoch 2/2 and minibatch 1/45, input shape is torch.Size([4, 13])\n",
      "epoch 2/2 and minibatch 2/45, input shape is torch.Size([4, 13])\n",
      "epoch 2/2 and minibatch 3/45, input shape is torch.Size([4, 13])\n",
      "epoch 2/2 and minibatch 4/45, input shape is torch.Size([4, 13])\n",
      "epoch 2/2 and minibatch 5/45, input shape is torch.Size([4, 13])\n",
      "epoch 2/2 and minibatch 6/45, input shape is torch.Size([4, 13])\n",
      "epoch 2/2 and minibatch 7/45, input shape is torch.Size([4, 13])\n",
      "epoch 2/2 and minibatch 8/45, input shape is torch.Size([4, 13])\n",
      "epoch 2/2 and minibatch 9/45, input shape is torch.Size([4, 13])\n",
      "epoch 2/2 and minibatch 10/45, input shape is torch.Size([4, 13])\n",
      "epoch 2/2 and minibatch 11/45, input shape is torch.Size([4, 13])\n",
      "epoch 2/2 and minibatch 12/45, input shape is torch.Size([4, 13])\n",
      "epoch 2/2 and minibatch 13/45, input shape is torch.Size([4, 13])\n",
      "epoch 2/2 and minibatch 14/45, input shape is torch.Size([4, 13])\n",
      "epoch 2/2 and minibatch 15/45, input shape is torch.Size([4, 13])\n",
      "epoch 2/2 and minibatch 16/45, input shape is torch.Size([4, 13])\n",
      "epoch 2/2 and minibatch 17/45, input shape is torch.Size([4, 13])\n",
      "epoch 2/2 and minibatch 18/45, input shape is torch.Size([4, 13])\n",
      "epoch 2/2 and minibatch 19/45, input shape is torch.Size([4, 13])\n",
      "epoch 2/2 and minibatch 20/45, input shape is torch.Size([4, 13])\n",
      "epoch 2/2 and minibatch 21/45, input shape is torch.Size([4, 13])\n",
      "epoch 2/2 and minibatch 22/45, input shape is torch.Size([4, 13])\n",
      "epoch 2/2 and minibatch 23/45, input shape is torch.Size([4, 13])\n",
      "epoch 2/2 and minibatch 24/45, input shape is torch.Size([4, 13])\n",
      "epoch 2/2 and minibatch 25/45, input shape is torch.Size([4, 13])\n",
      "epoch 2/2 and minibatch 26/45, input shape is torch.Size([4, 13])\n",
      "epoch 2/2 and minibatch 27/45, input shape is torch.Size([4, 13])\n",
      "epoch 2/2 and minibatch 28/45, input shape is torch.Size([4, 13])\n",
      "epoch 2/2 and minibatch 29/45, input shape is torch.Size([4, 13])\n",
      "epoch 2/2 and minibatch 30/45, input shape is torch.Size([4, 13])\n",
      "epoch 2/2 and minibatch 31/45, input shape is torch.Size([4, 13])\n",
      "epoch 2/2 and minibatch 32/45, input shape is torch.Size([4, 13])\n",
      "epoch 2/2 and minibatch 33/45, input shape is torch.Size([4, 13])\n",
      "epoch 2/2 and minibatch 34/45, input shape is torch.Size([4, 13])\n",
      "epoch 2/2 and minibatch 35/45, input shape is torch.Size([4, 13])\n",
      "epoch 2/2 and minibatch 36/45, input shape is torch.Size([4, 13])\n",
      "epoch 2/2 and minibatch 37/45, input shape is torch.Size([4, 13])\n",
      "epoch 2/2 and minibatch 38/45, input shape is torch.Size([4, 13])\n",
      "epoch 2/2 and minibatch 39/45, input shape is torch.Size([4, 13])\n",
      "epoch 2/2 and minibatch 40/45, input shape is torch.Size([4, 13])\n",
      "epoch 2/2 and minibatch 41/45, input shape is torch.Size([4, 13])\n",
      "epoch 2/2 and minibatch 42/45, input shape is torch.Size([4, 13])\n",
      "epoch 2/2 and minibatch 43/45, input shape is torch.Size([4, 13])\n",
      "epoch 2/2 and minibatch 44/45, input shape is torch.Size([4, 13])\n",
      "epoch 2/2 and minibatch 45/45, input shape is torch.Size([2, 13])\n"
     ]
    }
   ],
   "source": [
    "num_epochs = 2\n",
    "for epoch in range(num_epochs):\n",
    "    for i, (inputs, labels) in enumerate(dataloader):\n",
    "        print(f'epoch {epoch+1}/{num_epochs} and minibatch {i+1}/{num_batches}, input shape is {inputs.shape}')\n",
    "    "
   ]
  },
  {
   "cell_type": "markdown",
   "metadata": {},
   "source": [
    "# FeedForward NN"
   ]
  },
  {
   "cell_type": "code",
   "execution_count": 124,
   "metadata": {},
   "outputs": [],
   "source": [
    "import torchvision\n",
    "import torchvision.transforms as transforms\n",
    "\n",
    "# device = torch.device('cuda' if torch.cuda.is_available() else 'cpu')\n",
    "device = 'cpu'"
   ]
  },
  {
   "cell_type": "code",
   "execution_count": 125,
   "metadata": {},
   "outputs": [
    {
     "data": {
      "text/plain": [
       "(torch.Size([100, 1, 28, 28]), torch.Size([100]))"
      ]
     },
     "execution_count": 125,
     "metadata": {},
     "output_type": "execute_result"
    }
   ],
   "source": [
    "input_size = 784\n",
    "hidden_size = 100\n",
    "num_classes = 10\n",
    "batch_size = 100\n",
    "lr = 1e-3\n",
    "\n",
    "# importing dataset\n",
    "train_dataset = torchvision.datasets.MNIST(root='./data', train=True, transform=transforms.ToTensor())\n",
    "test_dataset = torchvision.datasets.MNIST(root='./data', train=False, transform=transforms.ToTensor())\n",
    "train_loader = torch.utils.data.DataLoader(dataset=train_dataset, batch_size=batch_size, shuffle=True)\n",
    "test_loader = torch.utils.data.DataLoader(dataset=test_dataset, batch_size=batch_size, shuffle=True)\n",
    "\n",
    "examples = iter(train_loader)\n",
    "samples, labels = next(examples)\n",
    "samples.shape, labels.shape"
   ]
  },
  {
   "cell_type": "code",
   "execution_count": 126,
   "metadata": {},
   "outputs": [
    {
     "data": {
      "image/png": "[encoded data removed]",
      "text/plain": [
       "<Figure size 640x480 with 6 Axes>"
      ]
     },
     "metadata": {},
     "output_type": "display_data"
    }
   ],
   "source": [
    "for i in range(6):\n",
    "    plt.subplot(2, 3, i+1)\n",
    "    plt.imshow(samples[i, 0], cmap='gray')"
   ]
  },
  {
   "cell_type": "code",
   "execution_count": 127,
   "metadata": {},
   "outputs": [],
   "source": [
    "class NeuralNet(nn.Module):\n",
    "    def __init__(self, input_size, hidden_size, num_classes, *args, **kwargs) -> None:\n",
    "        super().__init__(*args, **kwargs)\n",
    "        self.l1 = nn.Linear(input_size, hidden_size)\n",
    "        self.relu = nn.ReLU()\n",
    "        self.l2 = nn.Linear(hidden_size, num_classes)\n",
    "        \n",
    "    def forward(self, x):\n",
    "        out = self.l1(x)\n",
    "        out = self.relu(out)\n",
    "        out = self.l2(out)\n",
    "        return out\n",
    "        \n",
    "model = NeuralNet(input_size, hidden_size, num_classes)"
   ]
  },
  {
   "cell_type": "code",
   "execution_count": 128,
   "metadata": {},
   "outputs": [],
   "source": [
    "# loss and optimizer\n",
    "\n",
    "criterion = nn.CrossEntropyLoss()\n",
    "optimizer = torch.optim.Adam(model.parameters(), lr=lr)"
   ]
  },
  {
   "cell_type": "code",
   "execution_count": 129,
   "metadata": {},
   "outputs": [
    {
     "name": "stdout",
     "output_type": "stream",
     "text": [
      "epoch 0/2, step 100/600, loss = 0.4915 \n",
      "epoch 0/2, step 200/600, loss = 0.3253 \n",
      "epoch 0/2, step 300/600, loss = 0.2844 \n",
      "epoch 0/2, step 400/600, loss = 0.2114 \n",
      "epoch 0/2, step 500/600, loss = 0.2915 \n",
      "epoch 0/2, step 600/600, loss = 0.4647 \n",
      "epoch 1/2, step 100/600, loss = 0.1573 \n",
      "epoch 1/2, step 200/600, loss = 0.1967 \n",
      "epoch 1/2, step 300/600, loss = 0.1945 \n",
      "epoch 1/2, step 400/600, loss = 0.0991 \n",
      "epoch 1/2, step 500/600, loss = 0.2112 \n",
      "epoch 1/2, step 600/600, loss = 0.1274 \n"
     ]
    }
   ],
   "source": [
    "# training loop\n",
    "n_total_steps = len(train_loader)\n",
    "num_epochs = 2\n",
    "\n",
    "for epoch in range(num_epochs):\n",
    "    for i, (images, labels) in enumerate(train_loader):\n",
    "        \n",
    "        images = images.flatten(1, -1).to(device)\n",
    "        labels = labels.to(device)\n",
    "        \n",
    "        output = model(images)\n",
    "        \n",
    "        # loss\n",
    "        loss = criterion(output, labels)\n",
    "        \n",
    "        # zero grads\n",
    "        optimizer.zero_grad()\n",
    "        \n",
    "        # calculate gradients in graph\n",
    "        loss.backward()\n",
    "        \n",
    "        # optimizer step\n",
    "        optimizer.step()\n",
    "        \n",
    "        if (i+1)%100 == 0:\n",
    "            print(f'epoch {epoch}/{num_epochs}, step {i+1}/{n_total_steps}, loss = {loss.item():.4f} ')"
   ]
  },
  {
   "cell_type": "code",
   "execution_count": 130,
   "metadata": {},
   "outputs": [
    {
     "name": "stdout",
     "output_type": "stream",
     "text": [
      "accuracy = 95.18\n"
     ]
    }
   ],
   "source": [
    "with torch.no_grad():\n",
    "    n_correct = 0\n",
    "    n_samples = 0\n",
    "    for i, (images, labels) in enumerate(test_loader):\n",
    "        images = images.flatten(1, -1).to(device)\n",
    "        labels = labels.to(device)\n",
    "        \n",
    "        outputs = model(images)\n",
    "        _, predictions = torch.max(outputs, 1)\n",
    "        n_samples += labels.shape[0]\n",
    "        n_correct += (predictions == labels).sum().item()\n",
    "        \n",
    "    acc = 100.0 * n_correct / n_samples\n",
    "    print(f'accuracy = {acc}')"
   ]
  }
 ],
 "metadata": {
  "kernelspec": {
   "display_name": "py310",
   "language": "python",
   "name": "python3"
  },
  "language_info": {
   "codemirror_mode": {
    "name": "ipython",
    "version": 3
   },
   "file_extension": ".py",
   "mimetype": "text/x-python",
   "name": "python",
   "nbconvert_exporter": "python",
   "pygments_lexer": "ipython3",
   "version": "3.11.5"
  },
  "orig_nbformat": 4
 },
 "nbformat": 4,
 "nbformat_minor": 2
}
